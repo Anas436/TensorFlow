{
 "cells": [
  {
   "cell_type": "markdown",
   "metadata": {},
   "source": [
    "<img src=\"https://cf-courses-data.s3.us.cloud-object-storage.appdomain.cloud/IBMDeveloperSkillsNetwork-DL0120EN-SkillsNetwork/images/IDSN-logo.png\" width=\"300\" alt=\"cognitiveclass.ai logo\">\n",
    "\n",
    "<h1 align=\"center\"><font size=\"5\">RESTRICTED BOLTZMANN MACHINES</font></h1>\n"
   ]
  },
  {
   "cell_type": "markdown",
   "metadata": {},
   "source": [
    "Estimated time needed: **25** minutes\n"
   ]
  },
  {
   "cell_type": "markdown",
   "metadata": {},
   "source": [
    "<h3>Introduction</h3>\n",
    "<b>Restricted Boltzmann Machine (RBM):</b>  RBMs are shallow neural nets that learn to reconstruct data by themselves in an unsupervised fashion.  \n",
    "\n",
    "\n",
    "<h4>Why are RBMs important?</h4>\n",
    "An RBM are a basic form of autoencoder.  It can automatically extract <b>meaningful</b> features from a given input.\n",
    "\n",
    "\n",
    "<h4>How does it work?</h4>\n",
    "RBM is a 2 layer neural network. Simply, RBM takes the inputs and translates those into a set of binary values that represents them in the hidden layer. Then, these numbers can be translated back to reconstruct the inputs. Through several forward and backward passes, the RBM will be trained, and a trained RBM can reveal which features are the most important ones when detecting patterns.   \n",
    "\n",
    "\n",
    "<h4>What are the applications of an RBM?</h4>\n",
    "RBM is useful for <a href='http://www.cs.utoronto.ca/~hinton/absps/netflixICML.pdf?utm_medium=Exinfluencer&utm_source=Exinfluencer&utm_content=000026UJ&utm_term=10006555&utm_id=NA-SkillsNetwork-Channel-SkillsNetworkCoursesIBMDeveloperSkillsNetworkDL0120ENSkillsNetwork954-2022-01-01'>  Collaborative Filtering</a>, dimensionality reduction, classification, regression, feature learning, topic modeling and even <b>Deep Belief Networks</b>.\n",
    "\n",
    "<h4>Is RBM a generative or Discriminative model?</h4>\n",
    "RBM is a generative model. Let me explain it by first, see what is different between discriminative and generative models: \n",
    "\n",
    "<b>Discriminative:</b> Consider a classification problem where we want to learn to distinguish between Sedan cars (y = 1) and SUV cars (y = 0), based on some features of cars. Given a training set, an algorithm like logistic regression tries to find a straight line, or <i>decision boundary</i>, that separates the suv and sedan.  \n",
    "\n",
    "<b>Generative:</b> looking at cars, we can build a model of what Sedan cars look like. Then, looking at SUVs, we can build a separate model of what SUV cars look like. Finally, to classify a new car, we can match the new car against the Sedan model, and match it against the SUV model, to see whether the new car looks more like the SUV or Sedan. \n",
    "\n",
    "Generative Models specify a probability distribution over a dataset of input vectors. We can carry out both supervised and unsupervised tasks with generative models:\n",
    "<ul>\n",
    "    <li>In an unsupervised task, we try to form a model for $P(x)$, where $P$ is the probability given $x$ as an input vector.</li>\n",
    "    <li>In the supervised task, we first form a model for $P(x|y)$, where $P$ is the probability of $x$ given $y$(the label for $x$). For example, if $y = 0$ indicates that a car is an SUV, and $y = 1$ indicates that a car is a sedan, then $p(x|y = 0)$ models the distribution of SUV features, and $p(x|y = 1)$ models the distribution of sedan features. If we manage to find $P(x|y)$ and $P(y)$, then we can use <b>Bayes rule</b> to estimate $P(y|x)$, because:   \n",
    "        $$p(y|x) = \\frac{p(x|y)p(y)}{p(x)}$$</li>\n",
    "</ul>\n",
    "Now the question is, can we build a generative model, and then use it to create synthetic data by directly sampling from the modeled probability distributions? Lets see. \n"
   ]
  },
  {
   "cell_type": "markdown",
   "metadata": {},
   "source": [
    "<h2>Table of Contents</h2>\n",
    "<ol>\n",
    "    <li><a href=\"#ref1\">Initialization</a></li>\n",
    "    <li><a href=\"#ref2\">RBM layers</a></li>\n",
    "    <li><a href=\"#ref3\">What RBM can do after training?</a></li>\n",
    "    <li><a href=\"#ref4\">How to train the model?</a></li>\n",
    "    <li><a href=\"#ref5\">Learned features</a></li>\n",
    "</ol>\n",
    "<p></p>\n",
    "</div>\n",
    "<br>\n",
    "\n",
    "<hr>\n"
   ]
  },
  {
   "cell_type": "markdown",
   "metadata": {},
   "source": [
    "<a id=\"ref1\"></a>\n",
    "<h3>Initialization</h3>\n",
    "\n",
    "First, we have to load the utility file which contains different utility functions that are not connected\n",
    "in any way to the networks presented in the tutorials, but rather help in\n",
    "processing the outputs into a more understandable way.\n"
   ]
  },
  {
   "cell_type": "code",
   "execution_count": 1,
   "metadata": {},
   "outputs": [],
   "source": [
    "import urllib.request\n",
    "with urllib.request.urlopen(\"https://cf-courses-data.s3.us.cloud-object-storage.appdomain.cloud/IBMDeveloperSkillsNetwork-DL0120EN-SkillsNetwork/labs/Week4/data/utils.py\") as url:\n",
    "    response = url.read()\n",
    "target = open('utils.py', 'w')\n",
    "target.write(response.decode('utf-8'))\n",
    "target.close()"
   ]
  },
  {
   "cell_type": "markdown",
   "metadata": {},
   "source": [
    "<h2>Installing TensorFlow </h2>\n",
    "\n",
    "We will installing TensorFlow version 2.2.0 and its required prerequistes.  Also installing pillow...\n"
   ]
  },
  {
   "cell_type": "code",
   "execution_count": 2,
   "metadata": {},
   "outputs": [
    {
     "name": "stdout",
     "output_type": "stream",
     "text": [
      "Requirement already satisfied: grpcio==1.24.3 in /home/jupyterlab/conda/envs/python/lib/python3.7/site-packages (1.24.3)\n",
      "Requirement already satisfied: six>=1.5.2 in /home/jupyterlab/conda/envs/python/lib/python3.7/site-packages (from grpcio==1.24.3) (1.16.0)\n",
      "Requirement already satisfied: tensorflow==2.2.0 in /home/jupyterlab/conda/envs/python/lib/python3.7/site-packages (2.2.0)\n",
      "Requirement already satisfied: absl-py>=0.7.0 in /home/jupyterlab/conda/envs/python/lib/python3.7/site-packages (from tensorflow==2.2.0) (1.4.0)\n",
      "Requirement already satisfied: astunparse==1.6.3 in /home/jupyterlab/conda/envs/python/lib/python3.7/site-packages (from tensorflow==2.2.0) (1.6.3)\n",
      "Requirement already satisfied: gast==0.3.3 in /home/jupyterlab/conda/envs/python/lib/python3.7/site-packages (from tensorflow==2.2.0) (0.3.3)\n",
      "Requirement already satisfied: google-pasta>=0.1.8 in /home/jupyterlab/conda/envs/python/lib/python3.7/site-packages (from tensorflow==2.2.0) (0.2.0)\n",
      "Requirement already satisfied: h5py<2.11.0,>=2.10.0 in /home/jupyterlab/conda/envs/python/lib/python3.7/site-packages (from tensorflow==2.2.0) (2.10.0)\n",
      "Requirement already satisfied: keras-preprocessing>=1.1.0 in /home/jupyterlab/conda/envs/python/lib/python3.7/site-packages (from tensorflow==2.2.0) (1.1.2)\n",
      "Requirement already satisfied: numpy<2.0,>=1.16.0 in /home/jupyterlab/conda/envs/python/lib/python3.7/site-packages (from tensorflow==2.2.0) (1.21.6)\n",
      "Requirement already satisfied: opt-einsum>=2.3.2 in /home/jupyterlab/conda/envs/python/lib/python3.7/site-packages (from tensorflow==2.2.0) (3.3.0)\n",
      "Requirement already satisfied: protobuf>=3.8.0 in /home/jupyterlab/conda/envs/python/lib/python3.7/site-packages (from tensorflow==2.2.0) (4.21.8)\n",
      "Requirement already satisfied: tensorboard<2.3.0,>=2.2.0 in /home/jupyterlab/conda/envs/python/lib/python3.7/site-packages (from tensorflow==2.2.0) (2.2.2)\n",
      "Requirement already satisfied: tensorflow-estimator<2.3.0,>=2.2.0 in /home/jupyterlab/conda/envs/python/lib/python3.7/site-packages (from tensorflow==2.2.0) (2.2.0)\n",
      "Requirement already satisfied: termcolor>=1.1.0 in /home/jupyterlab/conda/envs/python/lib/python3.7/site-packages (from tensorflow==2.2.0) (2.3.0)\n",
      "Requirement already satisfied: wrapt>=1.11.1 in /home/jupyterlab/conda/envs/python/lib/python3.7/site-packages (from tensorflow==2.2.0) (1.14.1)\n",
      "Requirement already satisfied: six>=1.12.0 in /home/jupyterlab/conda/envs/python/lib/python3.7/site-packages (from tensorflow==2.2.0) (1.16.0)\n",
      "Requirement already satisfied: grpcio>=1.8.6 in /home/jupyterlab/conda/envs/python/lib/python3.7/site-packages (from tensorflow==2.2.0) (1.24.3)\n",
      "Requirement already satisfied: wheel>=0.26 in /home/jupyterlab/conda/envs/python/lib/python3.7/site-packages (from tensorflow==2.2.0) (0.40.0)\n",
      "Requirement already satisfied: scipy==1.4.1 in /home/jupyterlab/conda/envs/python/lib/python3.7/site-packages (from tensorflow==2.2.0) (1.4.1)\n",
      "Requirement already satisfied: google-auth<2,>=1.6.3 in /home/jupyterlab/conda/envs/python/lib/python3.7/site-packages (from tensorboard<2.3.0,>=2.2.0->tensorflow==2.2.0) (1.35.0)\n",
      "Requirement already satisfied: google-auth-oauthlib<0.5,>=0.4.1 in /home/jupyterlab/conda/envs/python/lib/python3.7/site-packages (from tensorboard<2.3.0,>=2.2.0->tensorflow==2.2.0) (0.4.6)\n",
      "Requirement already satisfied: markdown>=2.6.8 in /home/jupyterlab/conda/envs/python/lib/python3.7/site-packages (from tensorboard<2.3.0,>=2.2.0->tensorflow==2.2.0) (3.4.3)\n",
      "Requirement already satisfied: requests<3,>=2.21.0 in /home/jupyterlab/conda/envs/python/lib/python3.7/site-packages (from tensorboard<2.3.0,>=2.2.0->tensorflow==2.2.0) (2.29.0)\n",
      "Requirement already satisfied: setuptools>=41.0.0 in /home/jupyterlab/conda/envs/python/lib/python3.7/site-packages (from tensorboard<2.3.0,>=2.2.0->tensorflow==2.2.0) (67.7.2)\n",
      "Requirement already satisfied: tensorboard-plugin-wit>=1.6.0 in /home/jupyterlab/conda/envs/python/lib/python3.7/site-packages (from tensorboard<2.3.0,>=2.2.0->tensorflow==2.2.0) (1.8.1)\n",
      "Requirement already satisfied: werkzeug>=0.11.15 in /home/jupyterlab/conda/envs/python/lib/python3.7/site-packages (from tensorboard<2.3.0,>=2.2.0->tensorflow==2.2.0) (2.2.3)\n",
      "Requirement already satisfied: cachetools<5.0,>=2.0.0 in /home/jupyterlab/conda/envs/python/lib/python3.7/site-packages (from google-auth<2,>=1.6.3->tensorboard<2.3.0,>=2.2.0->tensorflow==2.2.0) (4.2.4)\n",
      "Requirement already satisfied: pyasn1-modules>=0.2.1 in /home/jupyterlab/conda/envs/python/lib/python3.7/site-packages (from google-auth<2,>=1.6.3->tensorboard<2.3.0,>=2.2.0->tensorflow==2.2.0) (0.3.0)\n",
      "Requirement already satisfied: rsa<5,>=3.1.4 in /home/jupyterlab/conda/envs/python/lib/python3.7/site-packages (from google-auth<2,>=1.6.3->tensorboard<2.3.0,>=2.2.0->tensorflow==2.2.0) (4.9)\n",
      "Requirement already satisfied: requests-oauthlib>=0.7.0 in /home/jupyterlab/conda/envs/python/lib/python3.7/site-packages (from google-auth-oauthlib<0.5,>=0.4.1->tensorboard<2.3.0,>=2.2.0->tensorflow==2.2.0) (1.3.1)\n",
      "Requirement already satisfied: importlib-metadata>=4.4 in /home/jupyterlab/conda/envs/python/lib/python3.7/site-packages (from markdown>=2.6.8->tensorboard<2.3.0,>=2.2.0->tensorflow==2.2.0) (4.11.4)\n",
      "Requirement already satisfied: charset-normalizer<4,>=2 in /home/jupyterlab/conda/envs/python/lib/python3.7/site-packages (from requests<3,>=2.21.0->tensorboard<2.3.0,>=2.2.0->tensorflow==2.2.0) (3.1.0)\n",
      "Requirement already satisfied: idna<4,>=2.5 in /home/jupyterlab/conda/envs/python/lib/python3.7/site-packages (from requests<3,>=2.21.0->tensorboard<2.3.0,>=2.2.0->tensorflow==2.2.0) (3.4)\n",
      "Requirement already satisfied: urllib3<1.27,>=1.21.1 in /home/jupyterlab/conda/envs/python/lib/python3.7/site-packages (from requests<3,>=2.21.0->tensorboard<2.3.0,>=2.2.0->tensorflow==2.2.0) (1.26.15)\n",
      "Requirement already satisfied: certifi>=2017.4.17 in /home/jupyterlab/conda/envs/python/lib/python3.7/site-packages (from requests<3,>=2.21.0->tensorboard<2.3.0,>=2.2.0->tensorflow==2.2.0) (2022.12.7)\n",
      "Requirement already satisfied: MarkupSafe>=2.1.1 in /home/jupyterlab/conda/envs/python/lib/python3.7/site-packages (from werkzeug>=0.11.15->tensorboard<2.3.0,>=2.2.0->tensorflow==2.2.0) (2.1.1)\n",
      "Requirement already satisfied: zipp>=0.5 in /home/jupyterlab/conda/envs/python/lib/python3.7/site-packages (from importlib-metadata>=4.4->markdown>=2.6.8->tensorboard<2.3.0,>=2.2.0->tensorflow==2.2.0) (3.15.0)\n",
      "Requirement already satisfied: typing-extensions>=3.6.4 in /home/jupyterlab/conda/envs/python/lib/python3.7/site-packages (from importlib-metadata>=4.4->markdown>=2.6.8->tensorboard<2.3.0,>=2.2.0->tensorflow==2.2.0) (4.5.0)\n",
      "Requirement already satisfied: pyasn1<0.6.0,>=0.4.6 in /home/jupyterlab/conda/envs/python/lib/python3.7/site-packages (from pyasn1-modules>=0.2.1->google-auth<2,>=1.6.3->tensorboard<2.3.0,>=2.2.0->tensorflow==2.2.0) (0.5.0)\n",
      "Requirement already satisfied: oauthlib>=3.0.0 in /home/jupyterlab/conda/envs/python/lib/python3.7/site-packages (from requests-oauthlib>=0.7.0->google-auth-oauthlib<0.5,>=0.4.1->tensorboard<2.3.0,>=2.2.0->tensorflow==2.2.0) (3.2.2)\n",
      "Requirement already satisfied: pillow==8.1.0 in /home/jupyterlab/conda/envs/python/lib/python3.7/site-packages (8.1.0)\n",
      "Collecting utils==1.0.1\n",
      "  Downloading utils-1.0.1-py2.py3-none-any.whl (21 kB)\n",
      "Installing collected packages: utils\n",
      "Successfully installed utils-1.0.1\n"
     ]
    }
   ],
   "source": [
    "!pip install grpcio==1.24.3\n",
    "!pip install tensorflow==2.2.0\n",
    "!pip install pillow==8.1.0\n",
    "!pip install utils==1.0.1"
   ]
  },
  {
   "cell_type": "markdown",
   "metadata": {},
   "source": [
    "<b>Notice:</b> This notebook has been created with TensorFlow version 2.2, and might not work with other versions. Therefore we check:\n"
   ]
  },
  {
   "cell_type": "code",
   "execution_count": 3,
   "metadata": {},
   "outputs": [],
   "source": [
    "import tensorflow as tf\n",
    "from IPython.display import Markdown, display\n",
    "\n",
    "def printmd(string):\n",
    "    display(Markdown('# <span style=\"color:red\">'+string+'</span>'))\n",
    "\n",
    "\n",
    "if not tf.__version__ == '2.2.0':\n",
    "    printmd('<<<<<!!!!! ERROR !!!! please upgrade to TensorFlow 2.2.0, or restart your Kernel (Kernel->Restart & Clear Output)>>>>>')"
   ]
  },
  {
   "cell_type": "markdown",
   "metadata": {},
   "source": [
    "Now, we load in all the packages that we use to create the net including the TensorFlow package:\n"
   ]
  },
  {
   "cell_type": "code",
   "execution_count": 4,
   "metadata": {},
   "outputs": [],
   "source": [
    "import tensorflow as tf\n",
    "import numpy as np\n",
    "\n",
    "from PIL import Image\n",
    "from utils import tile_raster_images\n",
    "import matplotlib.pyplot as plt\n",
    "%matplotlib inline"
   ]
  },
  {
   "cell_type": "markdown",
   "metadata": {},
   "source": [
    "<hr>\n"
   ]
  },
  {
   "cell_type": "markdown",
   "metadata": {},
   "source": [
    "<a id=\"ref2\"></a>\n",
    "<h3>RBM layers</h3>\n",
    "\n",
    "An RBM has two layers. The first layer of the RBM is called the <b>visible</b> (or input layer). Imagine that our toy example, has only vectors with 7 values, so the visible layer must have $V=7$ input nodes. \n",
    "The second layer is the <b>hidden</b> layer, which has $H$ neurons in our case. Each hidden node takes on values of either 0 or 1 (i.e., $h_i = 1$ or $h_i$ = 0), with a probability that is a logistic function of the inputs it receives from the other $V$ visible units, called for example, $p(h_i = 1)$. For our toy sample, we'll use 2 nodes in the hidden layer, so $H = 2$.\n",
    "\n",
    "<center><img src=\"https://ibm.box.com/shared/static/eu26opvcefgls6vnwuo29uwp0nudmokh.png\" alt=\"RBM Model\" style=\"width: 400px;\"></center>\n"
   ]
  },
  {
   "cell_type": "markdown",
   "metadata": {},
   "source": [
    "     \n",
    "\n",
    "Each node in the first layer also has a <b>bias</b>. We will denote the bias as $v_{bias}$, and this single value is shared among the $V$ visible units.\n",
    "\n",
    "The <b>bias</b> of the second is defined similarly as $h_{bias}$, and this single value among the $H$ hidden units.\n"
   ]
  },
  {
   "cell_type": "code",
   "execution_count": 5,
   "metadata": {},
   "outputs": [
    {
     "name": "stderr",
     "output_type": "stream",
     "text": [
      "2023-05-14 15:21:55.254731: W tensorflow/stream_executor/platform/default/dso_loader.cc:55] Could not load dynamic library 'libcuda.so.1'; dlerror: libcuda.so.1: cannot open shared object file: No such file or directory\n",
      "2023-05-14 15:21:55.254791: E tensorflow/stream_executor/cuda/cuda_driver.cc:313] failed call to cuInit: UNKNOWN ERROR (303)\n",
      "2023-05-14 15:21:55.254846: I tensorflow/stream_executor/cuda/cuda_diagnostics.cc:156] kernel driver does not appear to be running on this host (jupyterlab-mdanasmondol): /proc/driver/nvidia/version does not exist\n",
      "2023-05-14 15:21:55.255153: I tensorflow/core/platform/cpu_feature_guard.cc:143] Your CPU supports instructions that this TensorFlow binary was not compiled to use: AVX2 AVX512F FMA\n",
      "2023-05-14 15:21:55.269878: I tensorflow/core/platform/profile_utils/cpu_utils.cc:102] CPU Frequency: 2593910000 Hz\n",
      "2023-05-14 15:21:55.270819: I tensorflow/compiler/xla/service/service.cc:168] XLA service 0x7efc78000b20 initialized for platform Host (this does not guarantee that XLA will be used). Devices:\n",
      "2023-05-14 15:21:55.270862: I tensorflow/compiler/xla/service/service.cc:176]   StreamExecutor device (0): Host, Default Version\n"
     ]
    }
   ],
   "source": [
    "v_bias = tf.Variable(tf.zeros([7]), tf.float32)\n",
    "h_bias = tf.Variable(tf.zeros([2]), tf.float32)"
   ]
  },
  {
   "cell_type": "markdown",
   "metadata": {},
   "source": [
    "We have to define weights among the input layer and hidden layer nodes. In the weight matrix, the number of rows are equal to the input nodes, and the number of columns are equal to the output nodes. We define a tensor $\\mathbf{W}$ of shape = (7,2), where the number of visible neurons = 7, and the number of hidden neurons = 2. \n"
   ]
  },
  {
   "cell_type": "code",
   "execution_count": 6,
   "metadata": {},
   "outputs": [],
   "source": [
    "W = tf.constant(np.random.normal(loc=0.0, scale=1.0, size=(7, 2)).astype(np.float32))"
   ]
  },
  {
   "cell_type": "markdown",
   "metadata": {},
   "source": [
    "<hr>\n"
   ]
  },
  {
   "cell_type": "markdown",
   "metadata": {},
   "source": [
    "<a id=\"ref3\"></a>\n",
    "<h3>What RBM can do after training?</h3>\n",
    "Think of RBM as a model that has been trained based on images of a dataset of many SUV and sedan cars. Also, imagine that the RBM network has only two hidden nodes, where one node encodes the weight and, and the other encodes the size.  \n",
    "In a sense, the different configurations represent different cars, where one is an SUV and the other is Sedan.  In a training process, through many forward and backward passes, the RBM adjust its weights to send a stronger signal to either the SUV node (0, 1) or the sedan node (1, 0) in the hidden layer, given the pixels of images. Now, given an SUV in hidden layer, which distribution of pixels should we expect? RBM can give you 2 things. First, it encodes your images in hidden layer. Second, it gives you the probability of observing a case, given some hidden values.\n",
    "\n",
    "\n",
    "<h3>The Inference Process</h3>\n",
    "\n",
    "RBM has two phases:\n",
    "<ul>\n",
    "    <li>Forward Pass</li>  \n",
    "    <li>Backward Pass or Reconstruction</li>\n",
    "</ul>\n",
    "\n",
    "<b>Phase 1) Forward pass:</b>  \n",
    "\n",
    "Input one training sample (one image) $\\mathbf{x}$ through all visible nodes, and pass it to all hidden nodes. Processing happens in each node in the hidden layer. This computation begins by making stochastic decisions about whether to transmit that input or not (i.e. to determine the state of each hidden layer).  First, the probability vector is computed using the input feature vector $\\mathbf{x}$, the weight matrix $\\mathbf{W}$, and the bias term $h_{bias}$, as \n",
    "\n",
    "\n",
    "$$p({h_j}|\\mathbf x)= \\sigma( \\sum_{i=1}^V W_{ij} x_i + h_{bias} )$$, \n",
    "\n",
    "where $\\sigma(z) = (1+e^{-z})^{-1}$ is the logistic function.\n",
    "\n",
    "\n",
    "So, what does $p({h_j})$ represent? It is the <b>probability distribution</b> of the hidden units. That is, RBM uses inputs $x_i$ to make predictions about hidden node activations. For example, imagine that the hidden node activation values are [0.51 0.84] for the first training item. It tells you that the conditional probability for each hidden neuron for Phase 1 is: \n",
    "\n",
    "$$p(h_{1} = 1|\\mathbf{v}) = 0.51$$\n",
    "$$p(h_{2} = 1|\\mathbf{v}) = 0.84$$\n",
    "\n",
    "As a result, for each row in the training set, vector of probabilities is generated.  In TensorFlow, this is referred to as a `tensor` with a shape of (1,2). \n",
    "\n",
    "We then turn unit $j$ with probability $p(h_{j}|\\mathbf{v})$, and turn it off with probability $1 - p(h_{j}|\\mathbf{v})$ by generating a uniform random number vector $\\mathbf{\\xi}$, and comparing it to the activation probability as \n",
    "\n",
    "<center>If $\\xi_j>p(h_{j}|\\mathbf{v})$, then $h_j=1$, else $h_j=0$.</center>\n",
    "\n",
    "\n",
    "Therefore, the conditional probability of a configuration of $\\mathbf{h}$ given $\\mathbf{v}$ (for a training sample) is:\n",
    "\n",
    "$$p(\\mathbf{h} \\mid \\mathbf{v}) = \\prod_{j=1}^H p(h_j \\mid \\mathbf{v})$$\n",
    "\n",
    "\n",
    "where $H$ is the number of hidden units.\n",
    "\n"
   ]
  },
  {
   "cell_type": "markdown",
   "metadata": {},
   "source": [
    "Before we go further, let's look at a toy example for one case out of all input. Assume that we have a trained RBM, and a very simple input vector, such as [1.0, 0.0, 0.0, 1.0, 0.0, 0.0, 0.0].   \n",
    "Let's see what the output of forward pass would look like:\n"
   ]
  },
  {
   "cell_type": "code",
   "execution_count": 7,
   "metadata": {},
   "outputs": [
    {
     "name": "stdout",
     "output_type": "stream",
     "text": [
      "Input:  tf.Tensor([[1. 0. 0. 1. 0. 0. 0.]], shape=(1, 7), dtype=float32)\n",
      "hb:  tf.Tensor([0.1 0.1], shape=(2,), dtype=float32)\n",
      "w:  tf.Tensor(\n",
      "[[ 0.09176805 -0.08444111]\n",
      " [-0.6126793  -0.7100869 ]\n",
      " [-1.1509167  -0.53986883]\n",
      " [-0.23223229 -1.1090659 ]\n",
      " [ 0.17579205  1.363554  ]\n",
      " [-0.5872653  -0.4624259 ]\n",
      " [-0.29453444  0.01950264]], shape=(7, 2), dtype=float32)\n",
      "p(h|v):  tf.Tensor([[0.4898853  0.25095847]], shape=(1, 2), dtype=float32)\n",
      "h0 states: tf.Tensor([[1. 0.]], shape=(1, 2), dtype=float32)\n"
     ]
    }
   ],
   "source": [
    "X = tf.constant([[1.0, 0.0, 0.0, 1.0, 0.0, 0.0, 0.0]], tf.float32)\n",
    "\n",
    "v_state = X\n",
    "print (\"Input: \", v_state)\n",
    "\n",
    "h_bias = tf.constant([0.1, 0.1])\n",
    "print (\"hb: \", h_bias)\n",
    "print (\"w: \", W)\n",
    "\n",
    "# Calculate the probabilities of turning the hidden units on:\n",
    "h_prob = tf.nn.sigmoid(tf.matmul(v_state, W) + h_bias)  #probabilities of the hidden units\n",
    "print (\"p(h|v): \", h_prob)\n",
    "\n",
    "# Draw samples from the distribution:\n",
    "h_state = tf.nn.relu(tf.sign(h_prob - tf.random.uniform(tf.shape(h_prob)))) #states\n",
    "print (\"h0 states:\", h_state)"
   ]
  },
  {
   "cell_type": "markdown",
   "metadata": {},
   "source": [
    "<b>Phase 2) Backward Pass (Reconstruction):</b>\n",
    "The RBM reconstructs data by making several forward and backward passes between the visible and hidden layers.\n",
    "\n",
    "So, in the second phase (i.e. reconstruction phase), the samples from the hidden layer (i.e. $\\mathbf h$) becomes the input in the backward pass. The same weight matrix and visible layer biases are used to passed to the sigmoid function. The reproduced output is a reconstruction which is an approximation of the original input.\n"
   ]
  },
  {
   "cell_type": "code",
   "execution_count": 8,
   "metadata": {},
   "outputs": [
    {
     "name": "stdout",
     "output_type": "stream",
     "text": [
      "b:  tf.Tensor([0.1 0.2 0.1 0.1 0.1 0.2 0.1], shape=(7,), dtype=float32)\n",
      "p(vi∣h):  tf.Tensor(\n",
      "[[0.5477956  0.39826983 0.25904912 0.46699002 0.5685143  0.40437582\n",
      "  0.4515192 ]], shape=(1, 7), dtype=float32)\n",
      "v probability states:  tf.Tensor([[0. 1. 0. 0. 1. 0. 0.]], shape=(1, 7), dtype=float32)\n"
     ]
    }
   ],
   "source": [
    "vb = tf.constant([0.1, 0.2, 0.1, 0.1, 0.1, 0.2, 0.1])\n",
    "print (\"b: \", vb)\n",
    "v_prob = tf.nn.sigmoid(tf.matmul(h_state, tf.transpose(W)) + vb)\n",
    "print (\"p(vi∣h): \", v_prob)\n",
    "v_state = tf.nn.relu(tf.sign(v_prob - tf.random.uniform(tf.shape(v_prob))))\n",
    "print (\"v probability states: \", v_state)"
   ]
  },
  {
   "cell_type": "markdown",
   "metadata": {},
   "source": [
    "RBM learns a probability distribution over the input, and then, after being trained, the RBM can generate new samples from the learned probability distribution. As you know, <b>probability distribution</b>, is a mathematical function that provides the probabilities of occurrence of different possible outcomes in an experiment.\n",
    "\n",
    "The (conditional) probability distribution over the visible units v is given by\n",
    "\n",
    "$$p(\\mathbf{v} \\mid \\mathbf{h}) = \\prod_{i=1}^V p(v_i \\mid \\mathbf{h}),$$\n",
    "\n",
    "\n",
    "where,\n",
    "\n",
    "$$p(v_i \\mid \\mathbf{h}) = \\sigma\\left(\\sum_{j=1}^H W_{ji} h_j + v_{bias} \\right)$$\n",
    "\n",
    "so, given current state of hidden units and weights, what is the probability of generating [1. 0. 0. 1. 0. 0. 0.] in reconstruction phase, based on the above <b>probability distribution</b> function?\n"
   ]
  },
  {
   "cell_type": "code",
   "execution_count": 9,
   "metadata": {},
   "outputs": [
    {
     "name": "stdout",
     "output_type": "stream",
     "text": [
      "input X: [[1. 0. 0. 1. 0. 0. 0.]]\n",
      "probablity vector: [0.5477956  0.39826983 0.25904912 0.46699002 0.5685143  0.40437582\n",
      " 0.4515192 ]\n",
      "probability of generating X:  0.016077464\n"
     ]
    }
   ],
   "source": [
    "inp = X\n",
    "print(\"input X:\" , inp.numpy())\n",
    "\n",
    "print(\"probablity vector:\" , v_prob[0].numpy())\n",
    "v_probability = 1\n",
    "\n",
    "for elm, p in zip(inp[0],v_prob[0]) :\n",
    "    if elm ==1:\n",
    "        v_probability *= p\n",
    "    else:\n",
    "        v_probability *= (1-p)\n",
    "\n",
    "print(\"probability of generating X: \" , v_probability.numpy())"
   ]
  },
  {
   "cell_type": "markdown",
   "metadata": {},
   "source": [
    "How similar are vectors $\\mathbf{x}$ and $\\mathbf{v}$? Of course, the reconstructed values most likely will not look anything like the input vector, because our network has not been trained yet. Our objective is to train the model in such a way that the input vector and reconstructed vector to be same. Therefore, based on how different the input values look to the ones that we just reconstructed, the weights are adjusted. \n"
   ]
  },
  {
   "cell_type": "markdown",
   "metadata": {},
   "source": [
    "<hr>\n"
   ]
  },
  {
   "cell_type": "markdown",
   "metadata": {},
   "source": [
    "\n",
    "<h2>MNIST</h2>\n"
   ]
  },
  {
   "cell_type": "markdown",
   "metadata": {},
   "source": [
    "We will be using the MNIST dataset to practice the usage of RBMs. The following cell loads the MNIST dataset.\n"
   ]
  },
  {
   "cell_type": "code",
   "execution_count": 10,
   "metadata": {},
   "outputs": [],
   "source": [
    "#loading training and test data\n",
    "mnist = tf.keras.datasets.mnist\n",
    "(trX, trY), (teX, teY) = mnist.load_data()\n",
    "\n",
    "# showing an example of the Flatten class and operation\n",
    "from tensorflow.keras.layers import Flatten\n",
    "flatten = Flatten(dtype='float32')\n",
    "trX = flatten(trX/255.0)\n",
    "trY = flatten(trY/255.0)"
   ]
  },
  {
   "cell_type": "markdown",
   "metadata": {},
   "source": [
    "Lets look at the dimension of the images.\n"
   ]
  },
  {
   "cell_type": "markdown",
   "metadata": {},
   "source": [
    "MNIST images have 784 pixels, so the visible layer must have 784 input nodes.  For our case, we'll use 50 nodes in the hidden layer, so i = 50.\n"
   ]
  },
  {
   "cell_type": "code",
   "execution_count": 11,
   "metadata": {},
   "outputs": [],
   "source": [
    "vb = tf.Variable(tf.zeros([784]), tf.float32)\n",
    "hb = tf.Variable(tf.zeros([50]), tf.float32)"
   ]
  },
  {
   "cell_type": "markdown",
   "metadata": {},
   "source": [
    "Let $\\mathbf W$ be the Tensor of 784x50 (784 - number of visible neurons, 50 - number of hidden neurons) that represents weights between the neurons. \n"
   ]
  },
  {
   "cell_type": "code",
   "execution_count": 12,
   "metadata": {},
   "outputs": [],
   "source": [
    "W = tf.Variable(tf.zeros([784,50]), tf.float32)"
   ]
  },
  {
   "cell_type": "markdown",
   "metadata": {},
   "source": [
    "Lets define the visible layer:\n"
   ]
  },
  {
   "cell_type": "code",
   "execution_count": 13,
   "metadata": {},
   "outputs": [
    {
     "data": {
      "text/plain": [
       "<tf.Tensor: shape=(1, 50), dtype=float32, numpy=\n",
       "array([[0., 0., 0., 0., 0., 0., 0., 0., 0., 0., 0., 0., 0., 0., 0., 0.,\n",
       "        0., 0., 0., 0., 0., 0., 0., 0., 0., 0., 0., 0., 0., 0., 0., 0.,\n",
       "        0., 0., 0., 0., 0., 0., 0., 0., 0., 0., 0., 0., 0., 0., 0., 0.,\n",
       "        0., 0.]], dtype=float32)>"
      ]
     },
     "execution_count": 13,
     "metadata": {},
     "output_type": "execute_result"
    }
   ],
   "source": [
    "v0_state = tf.Variable(tf.zeros([784]), tf.float32)\n",
    "\n",
    "#testing to see if the matrix product works\n",
    "tf.matmul( [v0_state], W)"
   ]
  },
  {
   "cell_type": "markdown",
   "metadata": {},
   "source": [
    "Now, we can define hidden layer:\n"
   ]
  },
  {
   "cell_type": "code",
   "execution_count": 14,
   "metadata": {},
   "outputs": [
    {
     "name": "stdout",
     "output_type": "stream",
     "text": [
      "h0_state shape:  tf.Tensor([ 1 50], shape=(2,), dtype=int32)\n",
      "first 15 hidden states:  tf.Tensor([1. 1. 1. 1. 0. 0. 0. 0. 0. 1. 0. 1. 1. 0. 0.], shape=(15,), dtype=float32)\n"
     ]
    }
   ],
   "source": [
    "#computing the hidden nodes probability vector and checking shape\n",
    "h0_prob = tf.nn.sigmoid(tf.matmul([v0_state], W) + hb)  #probabilities of the hidden units\n",
    "print(\"h0_state shape: \" , tf.shape(h0_prob))\n",
    "\n",
    "#defining a function to return only the generated hidden states \n",
    "def hidden_layer(v0_state, W, hb):\n",
    "    h0_prob = tf.nn.sigmoid(tf.matmul([v0_state], W) + hb)  #probabilities of the hidden units\n",
    "    h0_state = tf.nn.relu(tf.sign(h0_prob - tf.random.uniform(tf.shape(h0_prob)))) #sample_h_given_X\n",
    "    return h0_state\n",
    "\n",
    "\n",
    "h0_state = hidden_layer(v0_state, W, hb)\n",
    "print(\"first 15 hidden states: \", h0_state[0][0:15])"
   ]
  },
  {
   "cell_type": "markdown",
   "metadata": {},
   "source": [
    "Now, we define reconstruction part:\n"
   ]
  },
  {
   "cell_type": "code",
   "execution_count": 15,
   "metadata": {},
   "outputs": [
    {
     "name": "stdout",
     "output_type": "stream",
     "text": [
      "hidden state shape:  (1, 50)\n",
      "v0 state shape:   (784,)\n",
      "v1 state shape:   (784,)\n"
     ]
    }
   ],
   "source": [
    "def reconstructed_output(h0_state, W, vb):\n",
    "    v1_prob = tf.nn.sigmoid(tf.matmul(h0_state, tf.transpose(W)) + vb) \n",
    "    v1_state = tf.nn.relu(tf.sign(v1_prob - tf.random.uniform(tf.shape(v1_prob)))) #sample_v_given_h\n",
    "    return v1_state[0]\n",
    "\n",
    "v1_state = reconstructed_output(h0_state, W, vb)\n",
    "print(\"hidden state shape: \", h0_state.shape)\n",
    "print(\"v0 state shape:  \", v0_state.shape)\n",
    "print(\"v1 state shape:  \", v1_state.shape)"
   ]
  },
  {
   "cell_type": "markdown",
   "metadata": {},
   "source": [
    "<h3>What is the objective function?</h3>\n",
    "\n",
    "<b>Goal</b>: Maximize the likelihood of our data being drawn from that distribution\n",
    "\n",
    "<b>Calculate error:</b>  \n",
    "In each epoch, we compute the \"error\" as a sum of the squared difference between step 1 and step n,\n",
    "e.g the error shows the difference between the data and its reconstruction.\n",
    "\n",
    "<b>Note:</b> tf.reduce_mean computes the mean of elements across dimensions of a tensor.\n"
   ]
  },
  {
   "cell_type": "code",
   "execution_count": 16,
   "metadata": {},
   "outputs": [
    {
     "name": "stdout",
     "output_type": "stream",
     "text": [
      "error 0.4885204\n"
     ]
    }
   ],
   "source": [
    "def error(v0_state, v1_state):\n",
    "    return tf.reduce_mean(tf.square(v0_state - v1_state))\n",
    "\n",
    "err = tf.reduce_mean(tf.square(v0_state - v1_state))\n",
    "print(\"error\" , err.numpy())"
   ]
  },
  {
   "cell_type": "markdown",
   "metadata": {},
   "source": [
    "<a id=\"ref4\"></a>\n",
    "<h3>Training the Model</h3>\n",
    "<b>Warning...</b> The following part is math-heavy, but you can skip it if you just want to run the cells in the next section.\n",
    "\n",
    "As mentioned, we want to give a high probability to the input data we train on. So, in order to train an RBM, we have to maximize the product of probabilities assigned to all rows $\\mathbf{v}$ (images) in the training set $\\mathbf{V}$ (a matrix, where each row of it is treated as a visible vector $\\mathbf{v}$)\n",
    "\n",
    "$$\\arg \\max_W \\prod_{\\mathbf{v}\\in\\mathbf{V}_T} p(\\mathbf{v})$$\n",
    "\n",
    "\n",
    "which is equivalent to maximizing the expectation of the log probability, given as\n",
    "\n",
    "$$\\arg\\max_W\\left[ \\mathbb{E} \\left(\\prod_{\\mathbf v\\in \\mathbf V}\\text{log} \\left(p(\\mathbf v)\\right) \\right) \\right].$$\n",
    "\n",
    "\n",
    "So, we have to update the weights $W_{ij}$  to increase $p(\\mathbf{v})$ for all $\\mathbf{v}$ in our training data during training. So we have to calculate the derivative:\n",
    "\n",
    "\n",
    "$$\\frac{\\partial \\log p(\\mathbf v)}{\\partial W_{ij}}$$\n",
    "\n",
    "This cannot be easily done by typical <b>gradient descent (SGD)</b>, so we can use another approach, which has 2 steps:\n",
    "<ol>\n",
    "    <li>Gibbs Sampling</li>\n",
    "    <li>Contrastive Divergence</li>\n",
    "</ol>    \n",
    "    \n",
    "<h3>Gibbs Sampling</h3>   \n",
    "\n",
    "<h4>Gibbs Sampling Step 1</h4> \n",
    "Given an input vector $\\mathbf{v}$, we are using $p(\\mathbf{h}|\\mathbf{v})$ to predict the hidden values $\\mathbf{h}$. \n",
    "  $$p({h_j}|\\mathbf v)= \\sigma\\left(\\sum_{i=1}^V W_{ij} v_i + h_{bias} \\right)$$\n",
    "The samples are generated from this distribution by generating the uniform random variate vector $\\mathbf{\\xi} \\sim U[0,1]$ of length $H$ and comparing to the computed probabilities as\n",
    "\n",
    "\n",
    "<center>If $\\xi_j>p(h_{j}|\\mathbf{v})$, then $h_j=1$, else $h_j=0$.</center>\n",
    "\n",
    "\n",
    "<h4>Gibbs Sampling Step 2</h4> \n",
    "Then, knowing the hidden values, we use $p(\\mathbf v| \\mathbf h)$ for reconstructing of new input values v. \n",
    "\n",
    "   $$p({v_i}|\\mathbf h)= \\sigma\\left(\\sum_{j=1}^H W^{T}_{ij} h_j + v_{bias} \\right)$$\n",
    "\n",
    "\n",
    "The samples are generated from this distribution by generating a uniform random variate vector $\\mathbf{\\xi} \\sim U[0,1]$ of length $V$ and comparing to the computed probabilities as\n",
    "\n",
    "<center>If $\\xi_i>p(v_{i}|\\mathbf{h})$, then $v_i=1$, else $v_i=0$.</center>\n",
    "\n",
    "Let vectors $\\mathbf v_k$ and $\\mathbf h_k$ be for the $k$th iteration.  In general, the $kth$ state is generrated as: \n",
    "\n",
    "\n",
    "    \n",
    "<b>Iteration</b> $k$: \n",
    "\n",
    "$$\\mathbf v_{k-1} \\Rightarrow p(\\mathbf h_{k-1}|\\mathbf v_{k-1})\\Rightarrow \\mathbf h_{k-1}\\Rightarrow p(\\mathbf v_{k}|\\mathbf h_{k-1})\\Rightarrow \\mathbf v_k$$       \n",
    "    \n",
    "<h3>Contrastive Divergence (CD-k)</h3>\n",
    "The update of the weight matrix is done during the Contrastive Divergence step. \n",
    "\n",
    "Vectors v0 and vk are used to calculate the activation probabilities for hidden values h0 and hk. The difference between the outer products of those probabilities with input vectors v0 and vk results in the update matrix:\n",
    "\n",
    "\n",
    "$$\\Delta \\mathbf W_k =\\mathbf v_k \\otimes \\mathbf h_k - \\mathbf v_{k-1} \\otimes \\mathbf h_{k-1}$$\n",
    "\n",
    "Contrastive Divergence is actually matrix of values that is computed and used to adjust values of the $\\mathbf W$ matrix. Changing $\\mathbf W$ incrementally leads to training of the  $\\mathbf W$ values. Then, on each step (epoch), $\\mathbf W$ is updated using the following:\n",
    "\n",
    "$$\\mathbf W_k = \\mathbf W_{k-1} + \\alpha * \\Delta \\mathbf W_k$$\n",
    "\n",
    "\n",
    "\n",
    "Reconstruction steps:\n",
    "<ul>\n",
    "    <li> Get one data point from data set, like <i>x</i>, and pass it through the following steps:</li>\n",
    "    \n",
    "<b>Iteration</b> $k=1$: \n",
    "    \n",
    "Sampling (starting with input image)\n",
    "    $$\\mathbf x = \\mathbf v_0 \\Rightarrow p(\\mathbf h_0|\\mathbf v_0)\\Rightarrow \\mathbf h_0 \\Rightarrow p(\\mathbf v_1|\\mathbf h_0)\\Rightarrow \\mathbf v_1$$   \n",
    "    followed by the CD-k step\n",
    "$$\\Delta \\mathbf W_1 =\\mathbf v_1 \\otimes \\mathbf h_1 - \\mathbf v_{0} \\otimes \\mathbf h_{0}$$     \n",
    "$$\\mathbf W_1 = \\mathbf W_{0} + \\alpha * \\Delta \\mathbf W_1$$ \n",
    " \n",
    "<li> $\\mathbf v_1$ is the reconstruction of $\\mathbf x$ sent to the next iteration).</li>\n",
    "\n",
    "<b>Iteration</b> $k=2$: \n",
    "\n",
    "Sampling (starting with $\\mathbf v_1$)\n",
    "\n",
    "$$\\mathbf v_1 \\Rightarrow p(\\mathbf h_1|\\mathbf v_1)\\Rightarrow \\mathbf h_1\\Rightarrow p(\\mathbf v_2|\\mathbf h_1)\\Rightarrow \\mathbf v_2$$   \n",
    "\n",
    "followed by the CD-k step\n",
    "$$\\Delta \\mathbf W_2 =\\mathbf v_2 \\otimes \\mathbf h_2 - \\mathbf v_{1} \\otimes \\mathbf h_{1}$$     \n",
    "$$\\mathbf W_2 = \\mathbf W_{1} + \\alpha * \\Delta \\mathbf W_2$$ \n",
    "\n",
    "<li> $\\mathbf v_2$ is the reconstruction of $\\mathbf v_1$ sent to the next iteration).</li>    \n",
    "      \n",
    "<b>Iteration</b> $k=K$:\n",
    "    \n",
    "Sampling (starting with $\\mathbf v_{K-1}$)\n",
    "\n",
    "$$\\mathbf v_{K-1} \\Rightarrow p(\\mathbf h_{K-1}|\\mathbf v_{K-1})\\Rightarrow \\mathbf h_{K-1}\\Rightarrow p(\\mathbf v_K|\\mathbf h_{K-1})\\Rightarrow \\mathbf v_K$$   \n",
    "\n",
    "followed by the CD-k step\n",
    "$$\\Delta \\mathbf W_K =\\mathbf v_K \\otimes \\mathbf h_K - \\mathbf v_{K-1} \\otimes \\mathbf h_{K-1}$$     \n",
    "$$\\mathbf W_K = \\mathbf W_{K-1} + \\alpha * \\Delta \\mathbf W_K$$ \n",
    "    \n",
    "<b>What is $\\alpha$?</b>  \n",
    "Here, alpha is some small step size, and is also known as the \"learning rate\".\n"
   ]
  },
  {
   "cell_type": "markdown",
   "metadata": {},
   "source": [
    "$K$ is adjustable, and good performance can be achieved with $K=1$, so that we just take one set of sampling steps per image.\n"
   ]
  },
  {
   "cell_type": "code",
   "execution_count": 17,
   "metadata": {},
   "outputs": [],
   "source": [
    "h1_prob = tf.nn.sigmoid(tf.matmul([v1_state], W) + hb)\n",
    "h1_state = tf.nn.relu(tf.sign(h1_prob - tf.random.uniform(tf.shape(h1_prob)))) #sample_h_given_X"
   ]
  },
  {
   "cell_type": "markdown",
   "metadata": {},
   "source": [
    "Lets look at the error of the first run:\n"
   ]
  },
  {
   "cell_type": "code",
   "execution_count": 18,
   "metadata": {},
   "outputs": [
    {
     "name": "stdout",
     "output_type": "stream",
     "text": [
      "error:  tf.Tensor(0.4885204, shape=(), dtype=float32)\n"
     ]
    }
   ],
   "source": [
    "print(\"error: \", error(v0_state, v1_state))"
   ]
  },
  {
   "cell_type": "code",
   "execution_count": 19,
   "metadata": {},
   "outputs": [
    {
     "name": "stdout",
     "output_type": "stream",
     "text": [
      "Epoch: 0 batch #: 1  of 300 sample #: 199 reconstruction error: 0.182421\n",
      "Epoch: 0 batch #: 2  of 300 sample #: 199 reconstruction error: 0.202929\n",
      "Epoch: 0 batch #: 3  of 300 sample #: 199 reconstruction error: 0.113627\n",
      "Epoch: 0 batch #: 4  of 300 sample #: 199 reconstruction error: 0.122105\n",
      "Epoch: 0 batch #: 5  of 300 sample #: 199 reconstruction error: 0.096952\n",
      "Epoch: 0 batch #: 6  of 300 sample #: 199 reconstruction error: 0.175394\n",
      "Epoch: 0 batch #: 7  of 300 sample #: 199 reconstruction error: 0.079050\n",
      "Epoch: 0 batch #: 8  of 300 sample #: 199 reconstruction error: 0.107724\n",
      "Epoch: 0 batch #: 9  of 300 sample #: 199 reconstruction error: 0.099572\n",
      "Epoch: 0 batch #: 10  of 300 sample #: 199 reconstruction error: 0.152477\n",
      "Epoch: 0 batch #: 11  of 300 sample #: 199 reconstruction error: 0.088375\n",
      "Epoch: 0 batch #: 12  of 300 sample #: 199 reconstruction error: 0.142008\n",
      "Epoch: 0 batch #: 13  of 300 sample #: 199 reconstruction error: 0.066054\n",
      "Epoch: 0 batch #: 14  of 300 sample #: 199 reconstruction error: 0.106614\n",
      "Epoch: 0 batch #: 15  of 300 sample #: 199 reconstruction error: 0.107429\n",
      "Epoch: 0 batch #: 16  of 300 sample #: 199 reconstruction error: 0.098314\n",
      "Epoch: 0 batch #: 17  of 300 sample #: 199 reconstruction error: 0.072982\n",
      "Epoch: 0 batch #: 18  of 300 sample #: 199 reconstruction error: 0.130554\n",
      "Epoch: 0 batch #: 19  of 300 sample #: 199 reconstruction error: 0.150990\n",
      "Epoch: 0 batch #: 20  of 300 sample #: 199 reconstruction error: 0.102556\n",
      "Epoch: 0 batch #: 21  of 300 sample #: 199 reconstruction error: 0.094225\n",
      "Epoch: 0 batch #: 22  of 300 sample #: 199 reconstruction error: 0.087743\n",
      "Epoch: 0 batch #: 23  of 300 sample #: 199 reconstruction error: 0.110865\n",
      "Epoch: 0 batch #: 24  of 300 sample #: 199 reconstruction error: 0.112924\n",
      "Epoch: 0 batch #: 25  of 300 sample #: 199 reconstruction error: 0.091631\n",
      "Epoch: 0 batch #: 26  of 300 sample #: 199 reconstruction error: 0.099137\n",
      "Epoch: 0 batch #: 27  of 300 sample #: 199 reconstruction error: 0.108683\n",
      "Epoch: 0 batch #: 28  of 300 sample #: 199 reconstruction error: 0.086236\n",
      "Epoch: 0 batch #: 29  of 300 sample #: 199 reconstruction error: 0.104052\n",
      "Epoch: 0 batch #: 30  of 300 sample #: 199 reconstruction error: 0.091839\n",
      "Epoch: 0 batch #: 31  of 300 sample #: 199 reconstruction error: 0.089703\n",
      "Epoch: 0 batch #: 32  of 300 sample #: 199 reconstruction error: 0.111366\n",
      "Epoch: 0 batch #: 33  of 300 sample #: 199 reconstruction error: 0.062579\n",
      "Epoch: 0 batch #: 34  of 300 sample #: 199 reconstruction error: 0.070828\n",
      "Epoch: 0 batch #: 35  of 300 sample #: 199 reconstruction error: 0.080027\n",
      "Epoch: 0 batch #: 36  of 300 sample #: 199 reconstruction error: 0.085309\n",
      "Epoch: 0 batch #: 37  of 300 sample #: 199 reconstruction error: 0.059847\n",
      "Epoch: 0 batch #: 38  of 300 sample #: 199 reconstruction error: 0.070398\n",
      "Epoch: 0 batch #: 39  of 300 sample #: 199 reconstruction error: 0.092407\n",
      "Epoch: 0 batch #: 40  of 300 sample #: 199 reconstruction error: 0.121538\n",
      "Epoch: 0 batch #: 41  of 300 sample #: 199 reconstruction error: 0.086036\n",
      "Epoch: 0 batch #: 42  of 300 sample #: 199 reconstruction error: 0.087368\n",
      "Epoch: 0 batch #: 43  of 300 sample #: 199 reconstruction error: 0.098273\n",
      "Epoch: 0 batch #: 44  of 300 sample #: 199 reconstruction error: 0.080739\n",
      "Epoch: 0 batch #: 45  of 300 sample #: 199 reconstruction error: 0.060342\n",
      "Epoch: 0 batch #: 46  of 300 sample #: 199 reconstruction error: 0.030421\n",
      "Epoch: 0 batch #: 47  of 300 sample #: 199 reconstruction error: 0.036394\n",
      "Epoch: 0 batch #: 48  of 300 sample #: 199 reconstruction error: 0.042522\n",
      "Epoch: 0 batch #: 49  of 300 sample #: 199 reconstruction error: 0.133041\n",
      "Epoch: 0 batch #: 50  of 300 sample #: 199 reconstruction error: 0.048567\n",
      "Epoch: 0 batch #: 51  of 300 sample #: 199 reconstruction error: 0.064346\n",
      "Epoch: 0 batch #: 52  of 300 sample #: 199 reconstruction error: 0.034865\n",
      "Epoch: 0 batch #: 53  of 300 sample #: 199 reconstruction error: 0.109413\n",
      "Epoch: 0 batch #: 54  of 300 sample #: 199 reconstruction error: 0.054355\n",
      "Epoch: 0 batch #: 55  of 300 sample #: 199 reconstruction error: 0.096219\n",
      "Epoch: 0 batch #: 56  of 300 sample #: 199 reconstruction error: 0.071542\n",
      "Epoch: 0 batch #: 57  of 300 sample #: 199 reconstruction error: 0.040812\n",
      "Epoch: 0 batch #: 58  of 300 sample #: 199 reconstruction error: 0.073187\n",
      "Epoch: 0 batch #: 59  of 300 sample #: 199 reconstruction error: 0.056186\n",
      "Epoch: 0 batch #: 60  of 300 sample #: 199 reconstruction error: 0.105199\n",
      "Epoch: 0 batch #: 61  of 300 sample #: 199 reconstruction error: 0.078961\n",
      "Epoch: 0 batch #: 62  of 300 sample #: 199 reconstruction error: 0.084105\n",
      "Epoch: 0 batch #: 63  of 300 sample #: 199 reconstruction error: 0.065870\n",
      "Epoch: 0 batch #: 64  of 300 sample #: 199 reconstruction error: 0.102084\n",
      "Epoch: 0 batch #: 65  of 300 sample #: 199 reconstruction error: 0.085825\n",
      "Epoch: 0 batch #: 66  of 300 sample #: 199 reconstruction error: 0.064757\n",
      "Epoch: 0 batch #: 67  of 300 sample #: 199 reconstruction error: 0.050650\n",
      "Epoch: 0 batch #: 68  of 300 sample #: 199 reconstruction error: 0.064959\n",
      "Epoch: 0 batch #: 69  of 300 sample #: 199 reconstruction error: 0.102065\n",
      "Epoch: 0 batch #: 70  of 300 sample #: 199 reconstruction error: 0.093212\n",
      "Epoch: 0 batch #: 71  of 300 sample #: 199 reconstruction error: 0.082733\n",
      "Epoch: 0 batch #: 72  of 300 sample #: 199 reconstruction error: 0.058274\n",
      "Epoch: 0 batch #: 73  of 300 sample #: 199 reconstruction error: 0.091991\n",
      "Epoch: 0 batch #: 74  of 300 sample #: 199 reconstruction error: 0.097055\n",
      "Epoch: 0 batch #: 75  of 300 sample #: 199 reconstruction error: 0.057717\n",
      "Epoch: 0 batch #: 76  of 300 sample #: 199 reconstruction error: 0.075550\n",
      "Epoch: 0 batch #: 77  of 300 sample #: 199 reconstruction error: 0.093251\n",
      "Epoch: 0 batch #: 78  of 300 sample #: 199 reconstruction error: 0.120626\n",
      "Epoch: 0 batch #: 79  of 300 sample #: 199 reconstruction error: 0.096512\n",
      "Epoch: 0 batch #: 80  of 300 sample #: 199 reconstruction error: 0.031606\n",
      "Epoch: 0 batch #: 81  of 300 sample #: 199 reconstruction error: 0.056071\n",
      "Epoch: 0 batch #: 82  of 300 sample #: 199 reconstruction error: 0.048188\n",
      "Epoch: 0 batch #: 83  of 300 sample #: 199 reconstruction error: 0.080076\n",
      "Epoch: 0 batch #: 84  of 300 sample #: 199 reconstruction error: 0.078778\n",
      "Epoch: 0 batch #: 85  of 300 sample #: 199 reconstruction error: 0.054912\n",
      "Epoch: 0 batch #: 86  of 300 sample #: 199 reconstruction error: 0.083558\n",
      "Epoch: 0 batch #: 87  of 300 sample #: 199 reconstruction error: 0.061865\n",
      "Epoch: 0 batch #: 88  of 300 sample #: 199 reconstruction error: 0.029552\n",
      "Epoch: 0 batch #: 89  of 300 sample #: 199 reconstruction error: 0.052521\n",
      "Epoch: 0 batch #: 90  of 300 sample #: 199 reconstruction error: 0.065886\n",
      "Epoch: 0 batch #: 91  of 300 sample #: 199 reconstruction error: 0.055494\n",
      "Epoch: 0 batch #: 92  of 300 sample #: 199 reconstruction error: 0.068344\n",
      "Epoch: 0 batch #: 93  of 300 sample #: 199 reconstruction error: 0.115898\n",
      "Epoch: 0 batch #: 94  of 300 sample #: 199 reconstruction error: 0.109428\n",
      "Epoch: 0 batch #: 95  of 300 sample #: 199 reconstruction error: 0.065445\n",
      "Epoch: 0 batch #: 96  of 300 sample #: 199 reconstruction error: 0.056301\n",
      "Epoch: 0 batch #: 97  of 300 sample #: 199 reconstruction error: 0.127254\n",
      "Epoch: 0 batch #: 98  of 300 sample #: 199 reconstruction error: 0.067586\n",
      "Epoch: 0 batch #: 99  of 300 sample #: 199 reconstruction error: 0.066379\n",
      "Epoch: 0 batch #: 100  of 300 sample #: 199 reconstruction error: 0.100605\n",
      "Epoch: 0 batch #: 101  of 300 sample #: 199 reconstruction error: 0.074382\n",
      "Epoch: 0 batch #: 102  of 300 sample #: 199 reconstruction error: 0.071387\n",
      "Epoch: 0 batch #: 103  of 300 sample #: 199 reconstruction error: 0.077029\n",
      "Epoch: 0 batch #: 104  of 300 sample #: 199 reconstruction error: 0.067981\n",
      "Epoch: 0 batch #: 105  of 300 sample #: 199 reconstruction error: 0.042084\n",
      "Epoch: 0 batch #: 106  of 300 sample #: 199 reconstruction error: 0.110248\n",
      "Epoch: 0 batch #: 107  of 300 sample #: 199 reconstruction error: 0.140194\n",
      "Epoch: 0 batch #: 108  of 300 sample #: 199 reconstruction error: 0.055792\n",
      "Epoch: 0 batch #: 109  of 300 sample #: 199 reconstruction error: 0.104663\n",
      "Epoch: 0 batch #: 110  of 300 sample #: 199 reconstruction error: 0.070616\n",
      "Epoch: 0 batch #: 111  of 300 sample #: 199 reconstruction error: 0.103068\n",
      "Epoch: 0 batch #: 112  of 300 sample #: 199 reconstruction error: 0.048194\n",
      "Epoch: 0 batch #: 113  of 300 sample #: 199 reconstruction error: 0.079756\n",
      "Epoch: 0 batch #: 114  of 300 sample #: 199 reconstruction error: 0.070127\n",
      "Epoch: 0 batch #: 115  of 300 sample #: 199 reconstruction error: 0.064042\n",
      "Epoch: 0 batch #: 116  of 300 sample #: 199 reconstruction error: 0.056713\n",
      "Epoch: 0 batch #: 117  of 300 sample #: 199 reconstruction error: 0.046714\n",
      "Epoch: 0 batch #: 118  of 300 sample #: 199 reconstruction error: 0.075386\n",
      "Epoch: 0 batch #: 119  of 300 sample #: 199 reconstruction error: 0.121332\n",
      "Epoch: 0 batch #: 120  of 300 sample #: 199 reconstruction error: 0.078437\n",
      "Epoch: 0 batch #: 121  of 300 sample #: 199 reconstruction error: 0.049956\n",
      "Epoch: 0 batch #: 122  of 300 sample #: 199 reconstruction error: 0.102273\n",
      "Epoch: 0 batch #: 123  of 300 sample #: 199 reconstruction error: 0.065318\n",
      "Epoch: 0 batch #: 124  of 300 sample #: 199 reconstruction error: 0.063805\n",
      "Epoch: 0 batch #: 125  of 300 sample #: 199 reconstruction error: 0.031226\n",
      "Epoch: 0 batch #: 126  of 300 sample #: 199 reconstruction error: 0.092015\n",
      "Epoch: 0 batch #: 127  of 300 sample #: 199 reconstruction error: 0.095102\n",
      "Epoch: 0 batch #: 128  of 300 sample #: 199 reconstruction error: 0.087194\n",
      "Epoch: 0 batch #: 129  of 300 sample #: 199 reconstruction error: 0.051290\n",
      "Epoch: 0 batch #: 130  of 300 sample #: 199 reconstruction error: 0.066931\n",
      "Epoch: 0 batch #: 131  of 300 sample #: 199 reconstruction error: 0.086021\n",
      "Epoch: 0 batch #: 132  of 300 sample #: 199 reconstruction error: 0.060646\n",
      "Epoch: 0 batch #: 133  of 300 sample #: 199 reconstruction error: 0.069650\n",
      "Epoch: 0 batch #: 134  of 300 sample #: 199 reconstruction error: 0.108042\n",
      "Epoch: 0 batch #: 135  of 300 sample #: 199 reconstruction error: 0.104858\n",
      "Epoch: 0 batch #: 136  of 300 sample #: 199 reconstruction error: 0.092551\n",
      "Epoch: 0 batch #: 137  of 300 sample #: 199 reconstruction error: 0.065259\n",
      "Epoch: 0 batch #: 138  of 300 sample #: 199 reconstruction error: 0.064239\n",
      "Epoch: 0 batch #: 139  of 300 sample #: 199 reconstruction error: 0.115232\n",
      "Epoch: 0 batch #: 140  of 300 sample #: 199 reconstruction error: 0.074550\n",
      "Epoch: 0 batch #: 141  of 300 sample #: 199 reconstruction error: 0.089903\n",
      "Epoch: 0 batch #: 142  of 300 sample #: 199 reconstruction error: 0.076207\n",
      "Epoch: 0 batch #: 143  of 300 sample #: 199 reconstruction error: 0.053465\n",
      "Epoch: 0 batch #: 144  of 300 sample #: 199 reconstruction error: 0.058964\n",
      "Epoch: 0 batch #: 145  of 300 sample #: 199 reconstruction error: 0.088360\n",
      "Epoch: 0 batch #: 146  of 300 sample #: 199 reconstruction error: 0.127424\n",
      "Epoch: 0 batch #: 147  of 300 sample #: 199 reconstruction error: 0.075943\n",
      "Epoch: 0 batch #: 148  of 300 sample #: 199 reconstruction error: 0.082427\n",
      "Epoch: 0 batch #: 149  of 300 sample #: 199 reconstruction error: 0.045693\n",
      "Epoch: 0 batch #: 150  of 300 sample #: 199 reconstruction error: 0.038333\n",
      "Epoch: 0 batch #: 151  of 300 sample #: 199 reconstruction error: 0.106246\n",
      "Epoch: 0 batch #: 152  of 300 sample #: 199 reconstruction error: 0.093018\n",
      "Epoch: 0 batch #: 153  of 300 sample #: 199 reconstruction error: 0.060697\n",
      "Epoch: 0 batch #: 154  of 300 sample #: 199 reconstruction error: 0.083296\n",
      "Epoch: 0 batch #: 155  of 300 sample #: 199 reconstruction error: 0.066679\n",
      "Epoch: 0 batch #: 156  of 300 sample #: 199 reconstruction error: 0.080814\n",
      "Epoch: 0 batch #: 157  of 300 sample #: 199 reconstruction error: 0.071420\n",
      "Epoch: 0 batch #: 158  of 300 sample #: 199 reconstruction error: 0.064142\n",
      "Epoch: 0 batch #: 159  of 300 sample #: 199 reconstruction error: 0.063373\n",
      "Epoch: 0 batch #: 160  of 300 sample #: 199 reconstruction error: 0.075235\n",
      "Epoch: 0 batch #: 161  of 300 sample #: 199 reconstruction error: 0.083700\n",
      "Epoch: 0 batch #: 162  of 300 sample #: 199 reconstruction error: 0.111958\n",
      "Epoch: 0 batch #: 163  of 300 sample #: 199 reconstruction error: 0.041012\n",
      "Epoch: 0 batch #: 164  of 300 sample #: 199 reconstruction error: 0.068942\n",
      "Epoch: 0 batch #: 165  of 300 sample #: 199 reconstruction error: 0.075368\n",
      "Epoch: 0 batch #: 166  of 300 sample #: 199 reconstruction error: 0.046565\n",
      "Epoch: 0 batch #: 167  of 300 sample #: 199 reconstruction error: 0.078016\n",
      "Epoch: 0 batch #: 168  of 300 sample #: 199 reconstruction error: 0.048161\n",
      "Epoch: 0 batch #: 169  of 300 sample #: 199 reconstruction error: 0.033209\n",
      "Epoch: 0 batch #: 170  of 300 sample #: 199 reconstruction error: 0.066847\n",
      "Epoch: 0 batch #: 171  of 300 sample #: 199 reconstruction error: 0.040965\n",
      "Epoch: 0 batch #: 172  of 300 sample #: 199 reconstruction error: 0.057069\n",
      "Epoch: 0 batch #: 173  of 300 sample #: 199 reconstruction error: 0.085274\n",
      "Epoch: 0 batch #: 174  of 300 sample #: 199 reconstruction error: 0.120613\n",
      "Epoch: 0 batch #: 175  of 300 sample #: 199 reconstruction error: 0.066111\n",
      "Epoch: 0 batch #: 176  of 300 sample #: 199 reconstruction error: 0.040599\n",
      "Epoch: 0 batch #: 177  of 300 sample #: 199 reconstruction error: 0.045601\n",
      "Epoch: 0 batch #: 178  of 300 sample #: 199 reconstruction error: 0.103519\n",
      "Epoch: 0 batch #: 179  of 300 sample #: 199 reconstruction error: 0.073043\n",
      "Epoch: 0 batch #: 180  of 300 sample #: 199 reconstruction error: 0.083576\n",
      "Epoch: 0 batch #: 181  of 300 sample #: 199 reconstruction error: 0.087139\n",
      "Epoch: 0 batch #: 182  of 300 sample #: 199 reconstruction error: 0.070684\n",
      "Epoch: 0 batch #: 183  of 300 sample #: 199 reconstruction error: 0.111995\n",
      "Epoch: 0 batch #: 184  of 300 sample #: 199 reconstruction error: 0.084366\n",
      "Epoch: 0 batch #: 185  of 300 sample #: 199 reconstruction error: 0.070072\n",
      "Epoch: 0 batch #: 186  of 300 sample #: 199 reconstruction error: 0.115619\n",
      "Epoch: 0 batch #: 187  of 300 sample #: 199 reconstruction error: 0.058113\n",
      "Epoch: 0 batch #: 188  of 300 sample #: 199 reconstruction error: 0.113856\n",
      "Epoch: 0 batch #: 189  of 300 sample #: 199 reconstruction error: 0.091702\n",
      "Epoch: 0 batch #: 190  of 300 sample #: 199 reconstruction error: 0.059056\n",
      "Epoch: 0 batch #: 191  of 300 sample #: 199 reconstruction error: 0.111490\n",
      "Epoch: 0 batch #: 192  of 300 sample #: 199 reconstruction error: 0.117748\n",
      "Epoch: 0 batch #: 193  of 300 sample #: 199 reconstruction error: 0.110222\n",
      "Epoch: 0 batch #: 194  of 300 sample #: 199 reconstruction error: 0.076618\n",
      "Epoch: 0 batch #: 195  of 300 sample #: 199 reconstruction error: 0.048714\n",
      "Epoch: 0 batch #: 196  of 300 sample #: 199 reconstruction error: 0.040881\n",
      "Epoch: 0 batch #: 197  of 300 sample #: 199 reconstruction error: 0.062833\n",
      "Epoch: 0 batch #: 198  of 300 sample #: 199 reconstruction error: 0.084267\n",
      "Epoch: 0 batch #: 199  of 300 sample #: 199 reconstruction error: 0.058160\n",
      "Epoch: 0 batch #: 200  of 300 sample #: 199 reconstruction error: 0.093107\n",
      "Epoch: 0 batch #: 201  of 300 sample #: 199 reconstruction error: 0.107279\n",
      "Epoch: 0 batch #: 202  of 300 sample #: 199 reconstruction error: 0.031700\n",
      "Epoch: 0 batch #: 203  of 300 sample #: 199 reconstruction error: 0.085109\n",
      "Epoch: 0 batch #: 204  of 300 sample #: 199 reconstruction error: 0.046723\n",
      "Epoch: 0 batch #: 205  of 300 sample #: 199 reconstruction error: 0.026933\n",
      "Epoch: 0 batch #: 206  of 300 sample #: 199 reconstruction error: 0.067249\n",
      "Epoch: 0 batch #: 207  of 300 sample #: 199 reconstruction error: 0.094308\n",
      "Epoch: 0 batch #: 208  of 300 sample #: 199 reconstruction error: 0.047317\n",
      "Epoch: 0 batch #: 209  of 300 sample #: 199 reconstruction error: 0.027334\n",
      "Epoch: 0 batch #: 210  of 300 sample #: 199 reconstruction error: 0.109736\n",
      "Epoch: 0 batch #: 211  of 300 sample #: 199 reconstruction error: 0.102593\n",
      "Epoch: 0 batch #: 212  of 300 sample #: 199 reconstruction error: 0.076959\n",
      "Epoch: 0 batch #: 213  of 300 sample #: 199 reconstruction error: 0.104399\n",
      "Epoch: 0 batch #: 214  of 300 sample #: 199 reconstruction error: 0.095336\n",
      "Epoch: 0 batch #: 215  of 300 sample #: 199 reconstruction error: 0.034574\n",
      "Epoch: 0 batch #: 216  of 300 sample #: 199 reconstruction error: 0.105189\n",
      "Epoch: 0 batch #: 217  of 300 sample #: 199 reconstruction error: 0.071362\n",
      "Epoch: 0 batch #: 218  of 300 sample #: 199 reconstruction error: 0.077220\n",
      "Epoch: 0 batch #: 219  of 300 sample #: 199 reconstruction error: 0.078424\n",
      "Epoch: 0 batch #: 220  of 300 sample #: 199 reconstruction error: 0.063782\n",
      "Epoch: 0 batch #: 221  of 300 sample #: 199 reconstruction error: 0.085222\n",
      "Epoch: 0 batch #: 222  of 300 sample #: 199 reconstruction error: 0.073741\n",
      "Epoch: 0 batch #: 223  of 300 sample #: 199 reconstruction error: 0.081311\n",
      "Epoch: 0 batch #: 224  of 300 sample #: 199 reconstruction error: 0.063021\n",
      "Epoch: 0 batch #: 225  of 300 sample #: 199 reconstruction error: 0.064946\n",
      "Epoch: 0 batch #: 226  of 300 sample #: 199 reconstruction error: 0.120769\n",
      "Epoch: 0 batch #: 227  of 300 sample #: 199 reconstruction error: 0.066872\n",
      "Epoch: 0 batch #: 228  of 300 sample #: 199 reconstruction error: 0.056332\n",
      "Epoch: 0 batch #: 229  of 300 sample #: 199 reconstruction error: 0.091591\n",
      "Epoch: 0 batch #: 230  of 300 sample #: 199 reconstruction error: 0.039840\n",
      "Epoch: 0 batch #: 231  of 300 sample #: 199 reconstruction error: 0.027060\n",
      "Epoch: 0 batch #: 232  of 300 sample #: 199 reconstruction error: 0.079728\n",
      "Epoch: 0 batch #: 233  of 300 sample #: 199 reconstruction error: 0.075517\n",
      "Epoch: 0 batch #: 234  of 300 sample #: 199 reconstruction error: 0.061691\n",
      "Epoch: 0 batch #: 235  of 300 sample #: 199 reconstruction error: 0.064143\n",
      "Epoch: 0 batch #: 236  of 300 sample #: 199 reconstruction error: 0.103243\n",
      "Epoch: 0 batch #: 237  of 300 sample #: 199 reconstruction error: 0.071151\n",
      "Epoch: 0 batch #: 238  of 300 sample #: 199 reconstruction error: 0.106417\n",
      "Epoch: 0 batch #: 239  of 300 sample #: 199 reconstruction error: 0.033572\n",
      "Epoch: 0 batch #: 240  of 300 sample #: 199 reconstruction error: 0.119995\n",
      "Epoch: 0 batch #: 241  of 300 sample #: 199 reconstruction error: 0.092539\n",
      "Epoch: 0 batch #: 242  of 300 sample #: 199 reconstruction error: 0.064307\n",
      "Epoch: 0 batch #: 243  of 300 sample #: 199 reconstruction error: 0.063102\n",
      "Epoch: 0 batch #: 244  of 300 sample #: 199 reconstruction error: 0.102527\n",
      "Epoch: 0 batch #: 245  of 300 sample #: 199 reconstruction error: 0.066920\n",
      "Epoch: 0 batch #: 246  of 300 sample #: 199 reconstruction error: 0.107107\n",
      "Epoch: 0 batch #: 247  of 300 sample #: 199 reconstruction error: 0.062327\n",
      "Epoch: 0 batch #: 248  of 300 sample #: 199 reconstruction error: 0.082093\n",
      "Epoch: 0 batch #: 249  of 300 sample #: 199 reconstruction error: 0.047502\n",
      "Epoch: 0 batch #: 250  of 300 sample #: 199 reconstruction error: 0.083530\n",
      "Epoch: 0 batch #: 251  of 300 sample #: 199 reconstruction error: 0.060226\n",
      "Epoch: 0 batch #: 252  of 300 sample #: 199 reconstruction error: 0.070137\n",
      "Epoch: 0 batch #: 253  of 300 sample #: 199 reconstruction error: 0.066179\n",
      "Epoch: 0 batch #: 254  of 300 sample #: 199 reconstruction error: 0.032439\n",
      "Epoch: 0 batch #: 255  of 300 sample #: 199 reconstruction error: 0.054812\n",
      "Epoch: 0 batch #: 256  of 300 sample #: 199 reconstruction error: 0.083847\n",
      "Epoch: 0 batch #: 257  of 300 sample #: 199 reconstruction error: 0.094115\n",
      "Epoch: 0 batch #: 258  of 300 sample #: 199 reconstruction error: 0.081251\n",
      "Epoch: 0 batch #: 259  of 300 sample #: 199 reconstruction error: 0.067710\n",
      "Epoch: 0 batch #: 260  of 300 sample #: 199 reconstruction error: 0.107402\n",
      "Epoch: 0 batch #: 261  of 300 sample #: 199 reconstruction error: 0.041410\n",
      "Epoch: 0 batch #: 262  of 300 sample #: 199 reconstruction error: 0.059775\n",
      "Epoch: 0 batch #: 263  of 300 sample #: 199 reconstruction error: 0.071949\n",
      "Epoch: 0 batch #: 264  of 300 sample #: 199 reconstruction error: 0.078861\n",
      "Epoch: 0 batch #: 265  of 300 sample #: 199 reconstruction error: 0.062025\n",
      "Epoch: 0 batch #: 266  of 300 sample #: 199 reconstruction error: 0.039470\n",
      "Epoch: 0 batch #: 267  of 300 sample #: 199 reconstruction error: 0.056272\n",
      "Epoch: 0 batch #: 268  of 300 sample #: 199 reconstruction error: 0.025150\n",
      "Epoch: 0 batch #: 269  of 300 sample #: 199 reconstruction error: 0.085737\n",
      "Epoch: 0 batch #: 270  of 300 sample #: 199 reconstruction error: 0.074133\n",
      "Epoch: 0 batch #: 271  of 300 sample #: 199 reconstruction error: 0.063150\n",
      "Epoch: 0 batch #: 272  of 300 sample #: 199 reconstruction error: 0.059460\n",
      "Epoch: 0 batch #: 273  of 300 sample #: 199 reconstruction error: 0.044693\n",
      "Epoch: 0 batch #: 274  of 300 sample #: 199 reconstruction error: 0.052125\n",
      "Epoch: 0 batch #: 275  of 300 sample #: 199 reconstruction error: 0.105938\n",
      "Epoch: 0 batch #: 276  of 300 sample #: 199 reconstruction error: 0.069360\n",
      "Epoch: 0 batch #: 277  of 300 sample #: 199 reconstruction error: 0.081737\n",
      "Epoch: 0 batch #: 278  of 300 sample #: 199 reconstruction error: 0.048065\n",
      "Epoch: 0 batch #: 279  of 300 sample #: 199 reconstruction error: 0.048095\n",
      "Epoch: 0 batch #: 280  of 300 sample #: 199 reconstruction error: 0.073532\n",
      "Epoch: 0 batch #: 281  of 300 sample #: 199 reconstruction error: 0.069452\n",
      "Epoch: 0 batch #: 282  of 300 sample #: 199 reconstruction error: 0.092351\n",
      "Epoch: 0 batch #: 283  of 300 sample #: 199 reconstruction error: 0.048477\n",
      "Epoch: 0 batch #: 284  of 300 sample #: 199 reconstruction error: 0.050187\n",
      "Epoch: 0 batch #: 285  of 300 sample #: 199 reconstruction error: 0.060884\n",
      "Epoch: 0 batch #: 286  of 300 sample #: 199 reconstruction error: 0.108604\n",
      "Epoch: 0 batch #: 287  of 300 sample #: 199 reconstruction error: 0.085050\n",
      "Epoch: 0 batch #: 288  of 300 sample #: 199 reconstruction error: 0.027277\n",
      "Epoch: 0 batch #: 289  of 300 sample #: 199 reconstruction error: 0.088413\n",
      "Epoch: 0 batch #: 290  of 300 sample #: 199 reconstruction error: 0.090851\n",
      "Epoch: 0 batch #: 291  of 300 sample #: 199 reconstruction error: 0.103396\n",
      "Epoch: 0 batch #: 292  of 300 sample #: 199 reconstruction error: 0.065380\n",
      "Epoch: 0 batch #: 293  of 300 sample #: 199 reconstruction error: 0.048702\n",
      "Epoch: 0 batch #: 294  of 300 sample #: 199 reconstruction error: 0.086088\n",
      "Epoch: 0 batch #: 295  of 300 sample #: 199 reconstruction error: 0.064888\n",
      "Epoch: 0 batch #: 296  of 300 sample #: 199 reconstruction error: 0.021831\n",
      "Epoch: 0 batch #: 297  of 300 sample #: 199 reconstruction error: 0.114796\n",
      "Epoch: 0 batch #: 298  of 300 sample #: 199 reconstruction error: 0.043754\n",
      "Epoch: 0 batch #: 299  of 300 sample #: 199 reconstruction error: 0.046024\n",
      "Epoch: 0 batch #: 300  of 300 sample #: 199 reconstruction error: 0.069309\n"
     ]
    }
   ],
   "source": [
    "#Parameters\n",
    "alpha = 0.01\n",
    "epochs = 1\n",
    "batchsize = 200\n",
    "weights = []\n",
    "errors = []\n",
    "batch_number = 0\n",
    "K = 1\n",
    "\n",
    "#creating datasets\n",
    "train_ds = \\\n",
    "    tf.data.Dataset.from_tensor_slices((trX, trY)).batch(batchsize)\n",
    "\n",
    "for epoch in range(epochs):\n",
    "    for batch_x, batch_y in train_ds:\n",
    "        batch_number += 1\n",
    "        for i_sample in range(batchsize):           \n",
    "            for k in range(K):\n",
    "                v0_state = batch_x[i_sample]\n",
    "                h0_state = hidden_layer(v0_state, W, hb)\n",
    "                v1_state = reconstructed_output(h0_state, W, vb)\n",
    "                h1_state = hidden_layer(v1_state, W, hb)\n",
    "\n",
    "                delta_W = tf.matmul(tf.transpose([v0_state]), h0_state) - tf.matmul(tf.transpose([v1_state]), h1_state)\n",
    "                W = W + alpha * delta_W\n",
    "\n",
    "                vb = vb + alpha * tf.reduce_mean(v0_state - v1_state, 0)\n",
    "                hb = hb + alpha * tf.reduce_mean(h0_state - h1_state, 0) \n",
    "\n",
    "                v0_state = v1_state\n",
    "\n",
    "            if i_sample == batchsize-1:\n",
    "                err = error(batch_x[i_sample], v1_state)\n",
    "                errors.append(err)\n",
    "                weights.append(W)\n",
    "                print ( 'Epoch: %d' % epoch, \n",
    "                       \"batch #: %i \" % batch_number, \"of %i\" % int(60e3/batchsize), \n",
    "                       \"sample #: %i\" % i_sample,\n",
    "                       'reconstruction error: %f' % err)\n",
    "\n"
   ]
  },
  {
   "cell_type": "markdown",
   "metadata": {},
   "source": [
    "Let's take a look at the errors at the end of each batch:\n"
   ]
  },
  {
   "cell_type": "code",
   "execution_count": 20,
   "metadata": {},
   "outputs": [
    {
     "data": {
      "image/png": "[encoded data removed]",
      "text/plain": [
       "<Figure size 640x480 with 1 Axes>"
      ]
     },
     "metadata": {},
     "output_type": "display_data"
    }
   ],
   "source": [
    "plt.plot(errors)\n",
    "plt.xlabel(\"Batch Number\")\n",
    "plt.ylabel(\"Error\")\n",
    "plt.show()"
   ]
  },
  {
   "cell_type": "markdown",
   "metadata": {},
   "source": [
    "What is the final weight matrix $W$ after training?\n"
   ]
  },
  {
   "cell_type": "code",
   "execution_count": 21,
   "metadata": {},
   "outputs": [
    {
     "name": "stdout",
     "output_type": "stream",
     "text": [
      "[[-0.6099997  -0.4799998  -0.22000003 ... -0.5199998  -0.24000004\n",
      "  -0.29999998]\n",
      " [-0.55999976 -0.46999982 -0.29999998 ... -0.4999998  -0.32999995\n",
      "  -0.29      ]\n",
      " [-0.5299998  -0.43999985 -0.23000003 ... -0.5399998  -0.23000003\n",
      "  -0.28      ]\n",
      " ...\n",
      " [-0.57999974 -0.3999999  -0.23000003 ... -0.5299998  -0.29\n",
      "  -0.23000003]\n",
      " [-0.5499998  -0.5299998  -0.22000003 ... -0.5499998  -0.31999996\n",
      "  -0.26000002]\n",
      " [-0.5999997  -0.4799998  -0.24000004 ... -0.55999976 -0.29\n",
      "  -0.20000002]]\n"
     ]
    }
   ],
   "source": [
    "print(W.numpy()) # a weight matrix of shape (50,784)"
   ]
  },
  {
   "cell_type": "markdown",
   "metadata": {},
   "source": [
    "<a id=\"ref5\"></a>\n",
    "<h3>Learned features</h3> \n"
   ]
  },
  {
   "cell_type": "markdown",
   "metadata": {},
   "source": [
    "We can take each hidden unit and visualize the connections between that hidden unit and each element in the input vector. In our case, we have 50 hidden units. Lets visualize those.\n"
   ]
  },
  {
   "cell_type": "markdown",
   "metadata": {},
   "source": [
    "Let's plot the current weights:\n",
    "<b>tile_raster_images</b> helps in generating an easy to grasp image from a set of samples or weights. It transforms the <b>uw</b> (with one flattened image per row of size 784), into an array (of size $28\\times28$) in which images are reshaped and laid out like tiles on a floor.\n"
   ]
  },
  {
   "cell_type": "code",
   "execution_count": 22,
   "metadata": {},
   "outputs": [
    {
     "data": {
      "image/png": "[encoded data removed]",
      "text/plain": [
       "<Figure size 1800x1800 with 1 Axes>"
      ]
     },
     "metadata": {},
     "output_type": "display_data"
    }
   ],
   "source": [
    "tile_raster_images(X=W.numpy().T, img_shape=(28, 28), tile_shape=(5, 10), tile_spacing=(1, 1))\n",
    "import matplotlib.pyplot as plt\n",
    "from PIL import Image\n",
    "%matplotlib inline\n",
    "image = Image.fromarray(tile_raster_images(X=W.numpy().T, img_shape=(28, 28) ,tile_shape=(5, 10), tile_spacing=(1, 1)))\n",
    "### Plot image\n",
    "plt.rcParams['figure.figsize'] = (18.0, 18.0)\n",
    "imgplot = plt.imshow(image)\n",
    "imgplot.set_cmap('gray')  "
   ]
  },
  {
   "cell_type": "markdown",
   "metadata": {},
   "source": [
    "Each tile in the above visualization corresponds to a vector of connections between a hidden unit and visible layer's units. \n"
   ]
  },
  {
   "cell_type": "markdown",
   "metadata": {},
   "source": [
    "Let's look at one of the learned weights corresponding to one of hidden units for example. In this particular square, the gray color represents weight = 0, and the whiter it is, the more positive the weights are (closer to 1). Conversely, the darker pixels are, the more negative the weights. The positive pixels will increase the probability of activation in hidden units (after multiplying by input/visible pixels), and negative pixels will decrease the probability of a unit hidden to be 1 (activated). So, why is this important?  So we can see that this specific square (hidden unit) can detect a feature (e.g. a \"/\" shape) and if it exists in the input.\n"
   ]
  },
  {
   "cell_type": "code",
   "execution_count": 23,
   "metadata": {},
   "outputs": [
    {
     "data": {
      "image/png": "[encoded data removed]",
      "text/plain": [
       "<Figure size 400x400 with 1 Axes>"
      ]
     },
     "metadata": {},
     "output_type": "display_data"
    }
   ],
   "source": [
    "from PIL import Image\n",
    "image = Image.fromarray(tile_raster_images(X =W.numpy().T[10:11], img_shape=(28, 28),tile_shape=(1, 1), tile_spacing=(1, 1)))\n",
    "### Plot image\n",
    "plt.rcParams['figure.figsize'] = (4.0, 4.0)\n",
    "imgplot = plt.imshow(image)\n",
    "imgplot.set_cmap('gray')  "
   ]
  },
  {
   "cell_type": "markdown",
   "metadata": {},
   "source": [
    "Let's look at the reconstruction of an image now. Imagine that we have a destructed image of figure 3. Lets see if our trained network can fix it:\n",
    "\n",
    "First we plot the image:\n"
   ]
  },
  {
   "cell_type": "code",
   "execution_count": 24,
   "metadata": {},
   "outputs": [
    {
     "name": "stdout",
     "output_type": "stream",
     "text": [
      "--2023-05-14 15:24:02--  https://ibm.box.com/shared/static/vvm1b63uvuxq88vbw9znpwu5ol380mco.jpg\n",
      "Resolving ibm.box.com (ibm.box.com)... 74.112.186.144\n",
      "Connecting to ibm.box.com (ibm.box.com)|74.112.186.144|:443... connected.\n",
      "HTTP request sent, awaiting response... 301 Moved Permanently\n",
      "Cookie coming from ibm.box.com attempted to set domain to box.net\n",
      "Location: /public/static/vvm1b63uvuxq88vbw9znpwu5ol380mco.jpg [following]\n",
      "--2023-05-14 15:24:02--  https://ibm.box.com/public/static/vvm1b63uvuxq88vbw9znpwu5ol380mco.jpg\n",
      "Reusing existing connection to ibm.box.com:443.\n",
      "HTTP request sent, awaiting response... 301 Moved Permanently\n",
      "Cookie coming from ibm.box.com attempted to set domain to box.net\n",
      "Location: https://ibm.ent.box.com/public/static/vvm1b63uvuxq88vbw9znpwu5ol380mco.jpg [following]\n",
      "--2023-05-14 15:24:02--  https://ibm.ent.box.com/public/static/vvm1b63uvuxq88vbw9znpwu5ol380mco.jpg\n",
      "Resolving ibm.ent.box.com (ibm.ent.box.com)... 74.112.186.144\n",
      "Connecting to ibm.ent.box.com (ibm.ent.box.com)|74.112.186.144|:443... connected.\n",
      "HTTP request sent, awaiting response... 302 Found\n",
      "Cookie coming from ibm.ent.box.com attempted to set domain to box.net\n",
      "Location: https://public.boxcloud.com/d/1/b1!ijkR_3wMRfTE_zoI_Q7vJ99k7nfUaUpyPOb55t-5DVApWmTi1yyPaBLTJA-CaAKaz3weSxx7_6VzOgLLR4bvDvr3udOVXQcjkgk-zo8DYtS-5bRJe67xCL00FcTTRup5eBEDV0c4EDZfyU9EHG5PePjdwZiQiBCbus6GeRgmZT2CEmj69eZMCzMOVPctNrUXgDuPeDfYWmj7AfGWg52g20mkDgTsm1h8a4XL6HZRr00OaK7iTtqf8XvHnoLZVfKkNSi365WimwyqwLuqJ8oRZLOc3bxDyzpp044uwm3uYsgZdoAtLVbpx4AbMRiXxCfXNQU2K4OdbHJ-FU9fqMyZdfI3BgIQBksK2YnxZ_PIw-LBFRw08UlbmspumjhX9dBLc-M1qWWqshnXMsTjgjZsZdN6YBLnVaOpsfMYYK7peS-yaQTgOjejzTIi8pZt8L8pZi1zcutAfbdGwHv1aFWh6ZN-6JtBUh5uzILUPN0Ap-91g7klqrOElEpaA1mv5roPmHzlvfc6DWJefwwPqPoMxTOID_OewOQosm8BpOK7S3TyaaH6GzSRwbdVerZGzlAVbaSyV0JJijt5vdAZuMOw52NkcANdwRPz4YPstq8FQCUFrihSYb5BeDV6Azk1JsWa_5c0p51g0H0H-XlMAjeseu5OWiHVdfhwuSM6oeLDVW0ZogiZSPvovcDzgG2tLfV89a2zyyV7AK-rG7E3zDV7Lbk9CUldjiAd4dsCeQze_TaRf72Y0a74ApDXIkXTlf6GWuMt_gUvI3eNXGk34YYdyTWpNpnVO2mUn1aVJWiRX0JptsIqO2AvTA97_aYAKzhoDZfMO8_TtZ3hsJm2wbcoXG5ljHqPCpxna4CFY2RGedMJQzacLLE9AtM57KkfCXDzZ5FiXVpylB7c5vFfGT_gz6-JzmQfERD3ozkNfH-d214N1oEZTDv9ydAG-wSoTaZH43OcbgGf1SZzFbHMHH3xOOQ9Cgp4xA3xj17aU3gMSNlgUPdVhl4iZbqvo5Ur-lg8WNFf_e9SrtB9D9HyBYH9N4Aoc9AZdFIlnyBOJ85OslfVsvfs4pDFDGFZG6SzZFPn9tHXxYbGDAPY25uh0038jZkKcljHBpbZiD2s_Cc7MsStC01OH0nONomPrlRCC8tB1xDIex7XtTCZl2rjt1mRs5JZeIDVmpfGpqZjIYY_HnXZ4YkL1b3kuV8CQci7gknoSFtvIKqSnbxp0ZWV7uQ9mW04LMJnhfx-et2N4ms7tTPjSZjr2rNv0BTrRbHn4i2a-rgVmNfmyhtqOX4qVlGOhWxNny6_NHP8jjE_iEBOCMc2oEo3iaMlzW8F5MJLe-Cg-EQBrhP_MxMGQ2EMNTZP9qNtQnj4G0iCmSuRsZXMgIIJ6Qcy1j3oXlIij54REUwGbWRfpSeM64cf1R4wS7PXIA../download [following]\n",
      "--2023-05-14 15:24:04--  https://public.boxcloud.com/d/1/b1!ijkR_3wMRfTE_zoI_Q7vJ99k7nfUaUpyPOb55t-5DVApWmTi1yyPaBLTJA-CaAKaz3weSxx7_6VzOgLLR4bvDvr3udOVXQcjkgk-zo8DYtS-5bRJe67xCL00FcTTRup5eBEDV0c4EDZfyU9EHG5PePjdwZiQiBCbus6GeRgmZT2CEmj69eZMCzMOVPctNrUXgDuPeDfYWmj7AfGWg52g20mkDgTsm1h8a4XL6HZRr00OaK7iTtqf8XvHnoLZVfKkNSi365WimwyqwLuqJ8oRZLOc3bxDyzpp044uwm3uYsgZdoAtLVbpx4AbMRiXxCfXNQU2K4OdbHJ-FU9fqMyZdfI3BgIQBksK2YnxZ_PIw-LBFRw08UlbmspumjhX9dBLc-M1qWWqshnXMsTjgjZsZdN6YBLnVaOpsfMYYK7peS-yaQTgOjejzTIi8pZt8L8pZi1zcutAfbdGwHv1aFWh6ZN-6JtBUh5uzILUPN0Ap-91g7klqrOElEpaA1mv5roPmHzlvfc6DWJefwwPqPoMxTOID_OewOQosm8BpOK7S3TyaaH6GzSRwbdVerZGzlAVbaSyV0JJijt5vdAZuMOw52NkcANdwRPz4YPstq8FQCUFrihSYb5BeDV6Azk1JsWa_5c0p51g0H0H-XlMAjeseu5OWiHVdfhwuSM6oeLDVW0ZogiZSPvovcDzgG2tLfV89a2zyyV7AK-rG7E3zDV7Lbk9CUldjiAd4dsCeQze_TaRf72Y0a74ApDXIkXTlf6GWuMt_gUvI3eNXGk34YYdyTWpNpnVO2mUn1aVJWiRX0JptsIqO2AvTA97_aYAKzhoDZfMO8_TtZ3hsJm2wbcoXG5ljHqPCpxna4CFY2RGedMJQzacLLE9AtM57KkfCXDzZ5FiXVpylB7c5vFfGT_gz6-JzmQfERD3ozkNfH-d214N1oEZTDv9ydAG-wSoTaZH43OcbgGf1SZzFbHMHH3xOOQ9Cgp4xA3xj17aU3gMSNlgUPdVhl4iZbqvo5Ur-lg8WNFf_e9SrtB9D9HyBYH9N4Aoc9AZdFIlnyBOJ85OslfVsvfs4pDFDGFZG6SzZFPn9tHXxYbGDAPY25uh0038jZkKcljHBpbZiD2s_Cc7MsStC01OH0nONomPrlRCC8tB1xDIex7XtTCZl2rjt1mRs5JZeIDVmpfGpqZjIYY_HnXZ4YkL1b3kuV8CQci7gknoSFtvIKqSnbxp0ZWV7uQ9mW04LMJnhfx-et2N4ms7tTPjSZjr2rNv0BTrRbHn4i2a-rgVmNfmyhtqOX4qVlGOhWxNny6_NHP8jjE_iEBOCMc2oEo3iaMlzW8F5MJLe-Cg-EQBrhP_MxMGQ2EMNTZP9qNtQnj4G0iCmSuRsZXMgIIJ6Qcy1j3oXlIij54REUwGbWRfpSeM64cf1R4wS7PXIA../download\n",
      "Resolving public.boxcloud.com (public.boxcloud.com)... 74.112.186.128\n",
      "Connecting to public.boxcloud.com (public.boxcloud.com)|74.112.186.128|:443... connected.\n",
      "HTTP request sent, awaiting response... 200 OK\n",
      "Length: 24383 (24K) [image/jpeg]\n",
      "Saving to: ‘destructed3.jpg’\n",
      "\n",
      "destructed3.jpg     100%[===================>]  23.81K  --.-KB/s    in 0.01s   \n",
      "\n",
      "2023-05-14 15:24:04 (2.23 MB/s) - ‘destructed3.jpg’ saved [24383/24383]\n",
      "\n"
     ]
    },
    {
     "data": {
      "image/png": "[encoded data removed]",
      "text/plain": [
       "<PIL.JpegImagePlugin.JpegImageFile image mode=RGB size=181x181 at 0x7EFC385CB750>"
      ]
     },
     "execution_count": 24,
     "metadata": {},
     "output_type": "execute_result"
    }
   ],
   "source": [
    "!wget -O destructed3.jpg  https://ibm.box.com/shared/static/vvm1b63uvuxq88vbw9znpwu5ol380mco.jpg\n",
    "img = Image.open('destructed3.jpg')\n",
    "img"
   ]
  },
  {
   "cell_type": "markdown",
   "metadata": {},
   "source": [
    "Now let's pass this image through the neural net:\n"
   ]
  },
  {
   "cell_type": "code",
   "execution_count": 25,
   "metadata": {},
   "outputs": [],
   "source": [
    "# convert the image to a 1d numpy array\n",
    "sample_case = np.array(img.convert('I').resize((28,28))).ravel().reshape((1, -1))/255.0\n",
    "\n",
    "sample_case = tf.cast(sample_case, dtype=tf.float32)"
   ]
  },
  {
   "cell_type": "markdown",
   "metadata": {},
   "source": [
    "Feed the sample case into the network and reconstruct the output:\n"
   ]
  },
  {
   "cell_type": "code",
   "execution_count": 26,
   "metadata": {},
   "outputs": [
    {
     "name": "stdout",
     "output_type": "stream",
     "text": [
      "Probability nodes in hidden layer: tf.Tensor(\n",
      "[[1.0000000e+00 1.0000000e+00 3.8265678e-01 5.1100000e-14 2.0320984e-10\n",
      "  1.8528104e-04 1.0000000e+00 9.9735039e-01 5.6680161e-01 3.3162296e-06\n",
      "  8.1770977e-06 1.7647054e-11 9.9635440e-01 1.0000000e+00 1.0495179e-10\n",
      "  4.0917311e-11 4.3137431e-02 7.3080520e-07 7.7275779e-16 8.3044082e-02\n",
      "  1.2719035e-03 1.8137395e-03 1.0000000e+00 7.7170280e-17 7.5909543e-01\n",
      "  9.9159861e-01 8.3407317e-15 9.2303753e-04 1.2785843e-09 1.3148487e-03\n",
      "  9.8171580e-01 7.8324825e-02 1.0000000e+00 1.0000000e+00 2.2340796e-11\n",
      "  5.4944493e-09 3.6921073e-09 5.6810205e-08 9.9953806e-01 4.9620571e-18\n",
      "  5.8493531e-01 1.1523520e-05 4.0827096e-08 9.9999702e-01 1.3417462e-06\n",
      "  6.5749884e-04 1.6186730e-09 8.1432998e-02 1.1557179e-08 2.7395810e-11]], shape=(1, 50), dtype=float32)\n",
      "activated nodes in hidden layer: tf.Tensor(\n",
      "[[1. 1. 0. 0. 0. 0. 1. 1. 1. 0. 0. 0. 1. 1. 0. 0. 0. 0. 0. 0. 0. 0. 1. 0.\n",
      "  1. 1. 0. 0. 0. 0. 1. 0. 1. 1. 0. 0. 0. 0. 1. 0. 1. 0. 0. 1. 0. 0. 0. 0.\n",
      "  0. 0.]], shape=(1, 50), dtype=float32)\n",
      "tf.Tensor(\n",
      "[[6.01142645e-04 5.54919243e-04 6.31928444e-04 5.43922186e-04\n",
      "  4.36574221e-04 6.25640154e-04 5.60522079e-04 6.84529543e-04\n",
      "  4.27961349e-04 4.23699617e-04 5.89221716e-04 3.75777483e-04\n",
      "  7.75694847e-04 4.15593386e-04 4.68581915e-04 3.27467918e-04\n",
      "  3.79562378e-04 7.05391169e-04 4.72992659e-04 4.27931547e-04\n",
      "  4.92215157e-04 3.95089388e-04 6.01172447e-04 4.07069921e-04\n",
      "  5.43951988e-04 5.95152378e-04 4.77731228e-04 5.60551882e-04\n",
      "  5.02169132e-04 6.57737255e-04 3.75777483e-04 4.82469797e-04\n",
      "  7.89821148e-04 4.02987003e-04 5.25832176e-04 5.88983297e-04\n",
      "  7.02559948e-04 5.21093607e-04 5.93453646e-04 7.50929117e-04\n",
      "  6.32703304e-04 7.05301762e-04 7.29352236e-04 8.83370638e-04\n",
      "  7.25567341e-04 1.26004219e-03 1.07929111e-03 1.15346909e-03\n",
      "  4.93496656e-04 8.14110041e-04 4.94837761e-04 3.50385904e-04\n",
      "  8.44389200e-04 4.45455313e-04 4.36604023e-04 3.95029783e-04\n",
      "  4.92215157e-04 7.64101744e-04 5.45412302e-04 6.58690929e-04\n",
      "  5.44071198e-04 4.71353531e-04 3.01927328e-04 5.85347414e-04\n",
      "  5.15937805e-04 1.94460154e-04 1.08373635e-04 8.92630342e-05\n",
      "  8.28279008e-05 1.84059143e-04 2.78770924e-04 8.91834497e-04\n",
      "  3.39299440e-04 2.53111124e-04 2.09569931e-04 1.60098076e-04\n",
      "  3.80814075e-04 1.06176734e-03 9.61065292e-04 7.37994909e-04\n",
      "  5.52833080e-04 6.64263964e-04 4.97192144e-04 4.92215157e-04\n",
      "  6.25640154e-04 6.25640154e-04 7.02023506e-04 4.66108322e-04\n",
      "  6.90817833e-04 6.75290823e-04 8.37922096e-04 2.17854977e-04\n",
      "  1.82449818e-04 1.32650137e-04 2.97446550e-05 5.60751178e-05\n",
      "  8.88202776e-05 5.88387251e-04 2.10598111e-03 5.49104810e-03\n",
      "  3.12119722e-03 3.09938192e-03 2.70327926e-03 3.62706184e-03\n",
      "  1.20162964e-03 1.74054503e-03 1.68049335e-03 1.57055259e-03\n",
      "  1.00433826e-03 5.68568707e-04 7.04675913e-04 4.15325165e-04\n",
      "  5.54919243e-04 8.27103853e-04 5.13702631e-04 4.89771366e-04\n",
      "  6.26116991e-04 1.17331743e-03 8.20815563e-04 1.14905834e-03\n",
      "  6.99162483e-04 3.35335732e-04 3.47435474e-04 8.65995884e-04\n",
      "  2.49350071e-03 1.62801743e-02 6.72449172e-02 5.62282801e-02\n",
      "  4.61245477e-02 1.02672309e-01 6.63568377e-02 2.63118148e-02\n",
      "  1.82819068e-02 8.14935565e-03 1.62723660e-02 8.57076049e-03\n",
      "  4.77135181e-03 1.24275684e-03 4.43786383e-04 3.19778919e-04\n",
      "  6.32017851e-04 6.64323568e-04 5.89847565e-04 8.21024179e-04\n",
      "  1.70558691e-03 1.64309144e-03 1.99398398e-03 1.72385573e-03\n",
      "  3.35851312e-03 4.03833389e-03 1.67700648e-02 5.24242818e-02\n",
      "  2.07097501e-01 6.89647794e-01 7.29666591e-01 6.98086679e-01\n",
      "  7.83521771e-01 7.77980924e-01 6.00630045e-01 3.74900401e-01\n",
      "  1.54193670e-01 8.11538398e-02 3.69508862e-02 2.51899064e-02\n",
      "  7.45829940e-03 2.53874063e-03 1.42133236e-03 5.21600246e-04\n",
      "  4.15325165e-04 3.21954489e-04 7.84099102e-04 2.14231014e-03\n",
      "  1.59260631e-03 6.63986802e-03 7.82918930e-03 1.01458132e-02\n",
      "  1.10672712e-02 2.65018344e-02 9.71146226e-02 5.71523488e-01\n",
      "  9.40886259e-01 9.88034964e-01 9.71434474e-01 9.27635074e-01\n",
      "  9.44609284e-01 9.36924040e-01 8.63217890e-01 7.61826158e-01\n",
      "  5.62748969e-01 3.17795098e-01 9.76549685e-02 1.86366439e-02\n",
      "  4.31069732e-03 2.66411901e-03 1.61013007e-03 5.44726849e-04\n",
      "  5.31375408e-04 8.59230757e-04 1.06868148e-03 4.52280045e-03\n",
      "  7.10627437e-03 1.21650696e-02 6.82964921e-03 8.28322768e-03\n",
      "  1.57434046e-02 4.22341228e-02 3.22080076e-01 7.88105786e-01\n",
      "  9.76010323e-01 9.68932867e-01 9.62569058e-01 9.27115083e-01\n",
      "  8.50129724e-01 6.17281616e-01 6.57385945e-01 8.34872365e-01\n",
      "  8.82556558e-01 5.20999968e-01 1.41583681e-01 1.30037665e-02\n",
      "  1.67915225e-03 4.01794910e-04 1.75046921e-03 7.95781612e-04\n",
      "  5.27858734e-04 8.84771347e-04 1.99595094e-03 3.39823961e-03\n",
      "  6.03911281e-03 3.95110250e-03 7.50854611e-03 4.46891785e-03\n",
      "  1.22445524e-02 5.81932366e-02 2.86078334e-01 8.12645674e-01\n",
      "  9.18884397e-01 8.00579786e-01 4.69412923e-01 3.09230477e-01\n",
      "  2.57725120e-01 2.48794824e-01 2.96813309e-01 8.12348485e-01\n",
      "  9.10792053e-01 6.62589550e-01 7.28342235e-02 3.45265865e-03\n",
      "  5.82635403e-04 2.35974789e-04 1.07139349e-03 5.93662262e-04\n",
      "  5.74111938e-04 6.44356012e-04 7.24375248e-04 3.11526656e-03\n",
      "  3.04737687e-03 4.57170606e-03 2.47040391e-03 6.37450814e-03\n",
      "  7.80826807e-03 1.98972821e-02 1.61986619e-01 4.80067134e-01\n",
      "  4.51980412e-01 9.06178057e-02 5.80006540e-02 4.26006019e-02\n",
      "  4.72505987e-02 4.95992303e-02 2.68498868e-01 8.80209923e-01\n",
      "  8.27559471e-01 6.61064327e-01 5.58359027e-02 3.02857161e-03\n",
      "  5.63442707e-04 3.36259604e-04 7.18265772e-04 4.31567430e-04\n",
      "  6.25252724e-04 9.49174166e-04 8.49604607e-04 1.91006064e-03\n",
      "  3.45456600e-03 1.78548694e-03 2.15348601e-03 3.46896052e-03\n",
      "  5.43791056e-03 2.38073468e-02 1.09590441e-01 1.83586299e-01\n",
      "  4.63144779e-02 4.37692106e-02 2.26154327e-02 5.15883565e-02\n",
      "  1.51144952e-01 1.39402777e-01 6.03760183e-01 8.81518483e-01\n",
      "  8.97208333e-01 3.21838260e-01 1.40843391e-02 2.29474902e-03\n",
      "  6.58303499e-04 9.36627388e-04 9.41753387e-04 6.87330961e-04\n",
      "  5.41269779e-04 6.98715448e-04 1.85993314e-03 2.97155976e-03\n",
      "  3.24368477e-03 3.46481800e-03 2.51671672e-03 2.18370557e-03\n",
      "  4.34076786e-03 2.04900503e-02 3.01430523e-02 9.21615958e-02\n",
      "  9.38155055e-02 1.08884543e-01 1.06234312e-01 2.40916669e-01\n",
      "  2.15063065e-01 4.66710567e-01 8.04951072e-01 8.81602824e-01\n",
      "  4.73264456e-01 3.87890637e-02 2.28524208e-03 9.76443291e-04\n",
      "  7.19308853e-04 1.49649382e-03 6.77973032e-04 4.69803810e-04\n",
      "  5.32776117e-04 5.96135855e-04 1.83984637e-03 1.58691406e-03\n",
      "  1.29082799e-03 1.62437558e-03 3.80170345e-03 5.42590022e-03\n",
      "  7.82555342e-03 1.74874663e-02 4.88217771e-02 1.55748218e-01\n",
      "  4.64527845e-01 5.00035167e-01 6.24075353e-01 5.84803820e-01\n",
      "  3.94153714e-01 5.94846010e-01 7.31635511e-01 6.24868810e-01\n",
      "  1.16591126e-01 3.32844257e-03 9.98616219e-04 3.33189964e-04\n",
      "  3.91215086e-04 4.89294529e-04 5.70386648e-04 4.63992357e-04\n",
      "  4.11212444e-04 5.10722399e-04 1.06668472e-03 8.70406628e-04\n",
      "  1.54793262e-03 2.09820271e-03 5.01540303e-03 6.98885322e-03\n",
      "  7.23284483e-03 1.83407068e-02 8.77247155e-02 3.52224857e-01\n",
      "  7.46970654e-01 7.56087899e-01 7.66917109e-01 5.55319250e-01\n",
      "  5.19638598e-01 7.50393927e-01 7.48560488e-01 4.21330303e-01\n",
      "  1.25392675e-02 5.72383404e-04 3.83287668e-04 2.95311213e-04\n",
      "  1.36673450e-04 3.10152769e-04 8.42601061e-04 4.24027443e-04\n",
      "  7.04526901e-04 6.78062439e-04 5.37604094e-04 1.07902288e-03\n",
      "  1.33737922e-03 2.95144320e-03 6.09454513e-03 4.30679321e-03\n",
      "  6.55007362e-03 1.14182830e-02 6.81035817e-02 5.20678937e-01\n",
      "  6.90624177e-01 8.83018851e-01 7.11039901e-01 3.93819749e-01\n",
      "  5.29496074e-01 8.49334002e-01 8.01593363e-01 2.00558782e-01\n",
      "  4.80362773e-03 4.69684601e-04 1.36882067e-04 1.15818955e-04\n",
      "  6.09343042e-05 1.97529793e-04 5.59657812e-04 7.36445189e-04\n",
      "  6.63638115e-04 5.93334436e-04 1.40175223e-03 2.88400054e-03\n",
      "  1.42320991e-03 3.40262055e-03 6.26862049e-03 1.09696686e-02\n",
      "  1.03972256e-02 1.24963522e-02 7.04827011e-02 1.23334378e-01\n",
      "  3.82707864e-01 4.31819111e-01 2.18121618e-01 3.03114206e-01\n",
      "  5.32253146e-01 8.89320672e-01 7.21682906e-01 6.89465702e-02\n",
      "  2.34586000e-03 3.34650278e-04 1.21020763e-04 7.41084368e-05\n",
      "  8.17769396e-05 1.43110752e-04 5.84542751e-04 3.49104404e-04\n",
      "  7.69644976e-04 4.15146351e-04 1.32247806e-03 3.13931704e-03\n",
      "  7.17413425e-03 8.63173604e-03 1.01327002e-02 7.25457072e-03\n",
      "  1.09723806e-02 2.23958790e-02 2.88667381e-02 9.63392556e-02\n",
      "  1.17963463e-01 6.32113218e-02 4.38831151e-02 7.93714225e-02\n",
      "  7.24064827e-01 9.64152336e-01 6.57506883e-01 6.52196109e-02\n",
      "  2.04944611e-03 6.11931086e-04 3.78578901e-04 1.14542134e-04\n",
      "  5.08830053e-05 1.22407277e-04 4.37259674e-04 5.19514084e-04\n",
      "  4.15325165e-04 5.44279814e-04 1.68395042e-03 1.06925964e-02\n",
      "  3.22394073e-02 3.83608639e-02 2.02915967e-02 1.18821263e-02\n",
      "  8.37346911e-03 5.85860014e-03 8.77758861e-03 2.65803039e-02\n",
      "  4.24868464e-02 2.50416994e-02 1.05448365e-02 7.45944679e-02\n",
      "  7.66060114e-01 9.56693947e-01 6.69784188e-01 4.24994826e-02\n",
      "  4.97746468e-03 3.52290273e-03 1.00138783e-03 3.03030014e-04\n",
      "  1.74760818e-04 1.84625387e-04 4.06891108e-04 4.91142273e-04\n",
      "  4.77194786e-04 7.35342503e-04 1.49378181e-03 2.17981339e-02\n",
      "  6.47052526e-02 6.25301600e-02 4.06925678e-02 1.59879625e-02\n",
      "  5.86417317e-03 7.53346086e-03 1.13300085e-02 3.62310112e-02\n",
      "  4.07012999e-02 1.18428767e-02 6.71172142e-03 1.61844075e-01\n",
      "  7.79981613e-01 8.53049338e-01 5.85451305e-01 7.80431628e-02\n",
      "  2.10007429e-02 9.05528665e-03 1.14697218e-03 2.57492065e-04\n",
      "  1.83701515e-04 4.04536724e-04 9.55820084e-04 3.58253717e-04\n",
      "  5.69134951e-04 5.80310822e-04 9.06416774e-03 9.08141732e-02\n",
      "  2.25954980e-01 2.08333880e-01 2.22185791e-01 1.13118231e-01\n",
      "  2.50965655e-02 2.12350488e-02 2.81514823e-02 5.74496388e-02\n",
      "  4.94828820e-02 1.82386935e-02 1.09474063e-02 1.25517577e-01\n",
      "  7.54924715e-01 8.87882590e-01 4.64465797e-01 4.73241806e-02\n",
      "  1.60274208e-02 6.08196855e-03 1.08629465e-03 7.71522522e-04\n",
      "  4.34607267e-04 1.13710761e-03 8.85128975e-04 6.89983368e-04\n",
      "  5.27918339e-04 4.22537327e-04 1.10307932e-02 1.68837488e-01\n",
      "  3.55294347e-01 3.41054320e-01 3.99060905e-01 2.48022139e-01\n",
      "  9.11604464e-02 8.34674835e-02 1.14849657e-01 2.53754020e-01\n",
      "  9.26784277e-02 1.65664256e-02 3.92107368e-02 3.49302769e-01\n",
      "  8.26816380e-01 7.80952513e-01 3.82290125e-01 4.00514901e-02\n",
      "  2.37847567e-02 5.29408455e-03 1.69295073e-03 1.37105584e-03\n",
      "  1.51318312e-03 8.40038061e-04 1.01107359e-03 5.89042902e-04\n",
      "  5.28573990e-04 6.63697720e-04 7.62963295e-03 1.67908996e-01\n",
      "  4.44599658e-01 5.29153049e-01 5.65116942e-01 4.62459415e-01\n",
      "  3.72814327e-01 2.59370118e-01 1.60848856e-01 1.69229269e-01\n",
      "  1.43671632e-01 9.26349461e-02 2.65917361e-01 5.94124079e-01\n",
      "  8.51290941e-01 5.89729369e-01 1.52829051e-01 6.18077815e-02\n",
      "  1.74267292e-02 7.27993250e-03 2.00781226e-03 1.97005272e-03\n",
      "  2.38054991e-03 2.06315517e-03 6.87569380e-04 6.38782978e-04\n",
      "  5.49972057e-04 8.92907381e-04 6.22320175e-03 8.16828012e-02\n",
      "  3.34389508e-01 4.48281467e-01 3.85266334e-01 5.98361433e-01\n",
      "  5.04472315e-01 5.21679878e-01 5.31912565e-01 5.63458741e-01\n",
      "  5.07231772e-01 3.93980712e-01 5.25297582e-01 6.62046075e-01\n",
      "  6.78801119e-01 3.30057383e-01 9.85058844e-02 5.65975606e-02\n",
      "  1.75132453e-02 7.93406367e-03 3.58805060e-03 1.77887082e-03\n",
      "  1.38303638e-03 1.25229359e-03 3.89516354e-04 5.27799129e-04\n",
      "  5.54919243e-04 4.23669815e-04 1.53809786e-03 2.37029791e-02\n",
      "  1.35830522e-01 3.42504829e-01 3.40752095e-01 4.49461013e-01\n",
      "  6.80326998e-01 7.08870471e-01 9.07405972e-01 8.87952209e-01\n",
      "  7.47491300e-01 7.02367663e-01 4.00827527e-01 4.19425726e-01\n",
      "  2.65325546e-01 2.42363185e-01 8.13013911e-02 2.61451602e-02\n",
      "  9.50539112e-03 3.25870514e-03 1.48150325e-03 1.53544545e-03\n",
      "  1.89039111e-03 9.92804766e-04 3.94701958e-04 4.15325165e-04\n",
      "  6.64353371e-04 5.22702932e-04 3.58283520e-04 2.20307708e-03\n",
      "  1.74362063e-02 4.85941172e-02 9.08993483e-02 1.51913285e-01\n",
      "  3.14675778e-01 5.28308868e-01 5.72554052e-01 8.02960038e-01\n",
      "  4.90642637e-01 3.17797959e-01 2.27428585e-01 1.57475263e-01\n",
      "  1.80415183e-01 3.93328071e-02 1.43937171e-02 2.90203094e-03\n",
      "  2.65431404e-03 6.59257174e-04 8.72671604e-04 1.07058883e-03\n",
      "  1.02195144e-03 7.44462013e-04 6.58333302e-04 6.07162714e-04\n",
      "  6.01142645e-04 3.23534012e-04 3.09258699e-04 7.34329224e-04\n",
      "  1.67909265e-03 4.60103154e-03 7.35536218e-03 1.30215287e-02\n",
      "  1.91308260e-02 3.62896621e-02 5.34634888e-02 4.39743102e-02\n",
      "  4.04947102e-02 2.81741321e-02 2.74916589e-02 1.93387866e-02\n",
      "  3.25377584e-02 1.29853487e-02 2.73811817e-03 1.45235658e-03\n",
      "  7.52121210e-04 4.78953123e-04 7.30097294e-04 4.43428755e-04\n",
      "  6.79284334e-04 5.74886799e-04 3.38256359e-04 4.40984964e-04\n",
      "  6.38276339e-04 4.92215157e-04 4.03106213e-04 4.71919775e-04\n",
      "  5.56170940e-04 1.45941973e-03 1.91935897e-03 6.65456057e-04\n",
      "  8.66353512e-04 1.41918659e-03 2.23317742e-03 9.34362411e-04\n",
      "  1.16294622e-03 6.05434179e-04 7.27802515e-04 1.96069479e-03\n",
      "  3.77315283e-03 1.97160244e-03 5.47826290e-04 4.92483377e-04\n",
      "  3.47912312e-04 4.14580107e-04 6.37441874e-04 5.03331423e-04\n",
      "  7.91341066e-04 4.14699316e-04 5.66184521e-04 3.95029783e-04\n",
      "  6.31928444e-04 5.38557768e-04 4.32223082e-04 4.68254089e-04\n",
      "  7.25060701e-04 5.25563955e-04 5.57869673e-04 9.59932804e-04\n",
      "  1.39752030e-03 1.25467777e-03 1.50662661e-03 1.47280097e-03\n",
      "  1.42037868e-03 1.09940767e-03 1.93551183e-03 8.97020102e-04\n",
      "  2.48757005e-03 1.66618824e-03 1.09148026e-03 5.33610582e-04\n",
      "  5.14954329e-04 6.50167465e-04 4.95761633e-04 5.65826893e-04\n",
      "  4.54425812e-04 5.95152378e-04 4.07069921e-04 3.98993492e-04]], shape=(1, 784), dtype=float32)\n"
     ]
    }
   ],
   "source": [
    "hh0_p = tf.nn.sigmoid(tf.matmul(sample_case, W) + hb)\n",
    "hh0_s = tf.round(hh0_p)\n",
    "\n",
    "print(\"Probability nodes in hidden layer:\" ,hh0_p)\n",
    "print(\"activated nodes in hidden layer:\" ,hh0_s)\n",
    "\n",
    "# reconstruct\n",
    "vv1_p = tf.nn.sigmoid(tf.matmul(hh0_s, tf.transpose(W)) + vb)\n",
    "\n",
    "print(vv1_p)\n",
    "#rec_prob = sess.run(vv1_p, feed_dict={ hh0_s: hh0_s_val, W: prv_w, vb: prv_vb})"
   ]
  },
  {
   "cell_type": "markdown",
   "metadata": {},
   "source": [
    "Here we plot the reconstructed image:\n"
   ]
  },
  {
   "cell_type": "code",
   "execution_count": 27,
   "metadata": {},
   "outputs": [
    {
     "data": {
      "image/png": "[encoded data removed]",
      "text/plain": [
       "<Figure size 400x400 with 1 Axes>"
      ]
     },
     "metadata": {},
     "output_type": "display_data"
    }
   ],
   "source": [
    "img = Image.fromarray(tile_raster_images(X=vv1_p.numpy(), img_shape=(28, 28),tile_shape=(1, 1), tile_spacing=(1, 1)))\n",
    "plt.rcParams['figure.figsize'] = (4.0, 4.0)\n",
    "imgplot = plt.imshow(img)\n",
    "imgplot.set_cmap('gray') "
   ]
  },
  {
   "cell_type": "markdown",
   "metadata": {},
   "source": [
    "<hr>\n",
    "\n",
    "## Want to learn more?\n",
    "\n",
    "Also, you can use __Watson Studio__ to run these notebooks faster with bigger datasets.__Watson Studio__ is IBM’s leading cloud solution for data scientists, built by data scientists. With Jupyter notebooks, RStudio, Apache Spark and popular libraries pre-packaged in the cloud, __Watson Studio__ enables data scientists to collaborate on their projects without having to install anything. Join the fast-growing community of __Watson Studio__ users today with a free account at [Watson Studio](https://cocl.us/ML0120EN_DSX).This is the end of this lesson. Thank you for reading this notebook, and good luck on your studies.\n"
   ]
  },
  {
   "cell_type": "markdown",
   "metadata": {},
   "source": [
    "### Thanks for completing this lesson!\n",
    "\n",
    "Notebook created by: <a href = \"https://ca.linkedin.com/in/saeedaghabozorgi?utm_medium=Exinfluencer&utm_source=Exinfluencer&utm_content=000026UJ&utm_term=10006555&utm_id=NA-SkillsNetwork-Channel-SkillsNetworkCoursesIBMDeveloperSkillsNetworkDL0120ENSkillsNetwork954-2022-01-01\">Saeed Aghabozorgi</a>\n",
    "\n",
    "Updated to TF 2.X by  <a href=\"https://ca.linkedin.com/in/nilmeier?utm_medium=Exinfluencer&utm_source=Exinfluencer&utm_content=000026UJ&utm_term=10006555&utm_id=NA-SkillsNetwork-Channel-SkillsNetworkCoursesIBMDeveloperSkillsNetworkDL0120ENSkillsNetwork954-2022-01-01\"> Jerome Nilmeier</a><br />\n"
   ]
  },
  {
   "cell_type": "markdown",
   "metadata": {},
   "source": [
    "### References:\n",
    "https://en.wikipedia.org/wiki/Restricted_Boltzmann_machine  \n",
    "http://deeplearning.net/tutorial/rbm.html  \n",
    "http://www.cs.utoronto.ca/~hinton/absps/netflixICML.pdf<br>\n",
    "http://imonad.com/rbm/restricted-boltzmann-machine/  \n"
   ]
  },
  {
   "cell_type": "markdown",
   "metadata": {},
   "source": [
    "<hr>\n",
    "\n",
    "Copyright &copy; 2018 [Cognitive Class](https://cocl.us/DX0108EN_CC). This notebook and its source code are released under the terms of the [MIT License](https://bigdatauniversity.com/mit-license/?utm_medium=Exinfluencer&utm_source=Exinfluencer&utm_content=000026UJ&utm_term=10006555&utm_id=NA-SkillsNetwork-Channel-SkillsNetworkCoursesIBMDeveloperSkillsNetworkDL0120ENSkillsNetwork954-2022-01-01).\n"
   ]
  }
 ],
 "metadata": {
  "kernelspec": {
   "display_name": "Python",
   "language": "python",
   "name": "conda-env-python-py"
  },
  "language_info": {
   "codemirror_mode": {
    "name": "ipython",
    "version": 3
   },
   "file_extension": ".py",
   "mimetype": "text/x-python",
   "name": "python",
   "nbconvert_exporter": "python",
   "pygments_lexer": "ipython3",
   "version": "3.7.12"
  }
 },
 "nbformat": 4,
 "nbformat_minor": 4
}
