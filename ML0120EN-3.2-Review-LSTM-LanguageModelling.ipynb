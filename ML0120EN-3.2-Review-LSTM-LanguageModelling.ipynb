{
 "cells": [
  {
   "cell_type": "markdown",
   "metadata": {},
   "source": [
    "<img src=\"https://cf-courses-data.s3.us.cloud-object-storage.appdomain.cloud/IBMDeveloperSkillsNetwork-DL0120EN-SkillsNetwork/images/IDSN-logo.png\" width=\"300\" alt=\"cognitiveclass.ai logo\">\n",
    "\n",
    "<h1 align=\"center\"><font size=\"5\">RECURRENT NETWORKS and LSTM IN DEEP LEARNING</font></h1>\n"
   ]
  },
  {
   "cell_type": "markdown",
   "metadata": {},
   "source": [
    "Estimated time needed: **30** minutes\n"
   ]
  },
  {
   "cell_type": "markdown",
   "metadata": {},
   "source": [
    "<h2>Applying Recurrent Neural Networks/LSTM for Language Modeling</h2>\n",
    "Hello and welcome to this part. In this notebook, we will go over the topic of Language Modelling, and create a Recurrent Neural Network model based on the Long Short-Term Memory unit to train and benchmark on the Penn Treebank dataset. By the end of this notebook, you should be able to understand how TensorFlow builds and executes a RNN model for Language Modelling.\n"
   ]
  },
  {
   "cell_type": "markdown",
   "metadata": {},
   "source": [
    "<h2>The Objective</h2>\n",
    "By now, you should have an understanding of how Recurrent Networks work -- a specialized model to process sequential data by keeping track of the \"state\" or context. In this notebook, we go over a TensorFlow code snippet for creating a model focused on <b>Language Modelling</b> -- a very relevant task that is the cornerstone of many different linguistic problems such as <b>Speech Recognition, Machine Translation and Image Captioning</b>. For this, we will be using the Penn Treebank dataset, which is an often-used dataset for benchmarking Language Modelling models.\n"
   ]
  },
  {
   "cell_type": "markdown",
   "metadata": {},
   "source": [
    "\n",
    "<h2>Table of Contents</h2>\n",
    "<ol>\n",
    "    <li><a href=\"#language_modelling\">What exactly is Language Modelling?</a></li>\n",
    "    <li><a href=\"#treebank_dataset\">The Penn Treebank dataset</a></li>\n",
    "    <li><a href=\"#word_embedding\">Word Embedding</a></li>\n",
    "    <li><a href=\"#building_lstm_model\">Building the LSTM model for Language Modeling</a></li>\n",
    "    <li><a href=\"#ltsm\">LTSM</a></li>\n",
    "</ol>\n",
    "<p></p>\n",
    "</div>\n",
    "<br>\n"
   ]
  },
  {
   "cell_type": "markdown",
   "metadata": {},
   "source": [
    "--------\n"
   ]
  },
  {
   "cell_type": "markdown",
   "metadata": {},
   "source": [
    "<a id=\"language_modelling\"></a>\n",
    "<h2>What exactly is Language Modelling?</h2>\n",
    "Language Modelling, to put it simply, <b>is the task of assigning probabilities to sequences of words</b>. This means that, given a context of one or a sequence of words in the language the model was trained on, the model should provide the next most probable words or sequence of words that follows from the given sequence of words the sentence. Language Modelling is one of the most important tasks in Natural Language Processing.\n",
    "\n",
    "<img src=\"https://ibm.box.com/shared/static/1d1i5gub6wljby2vani2vzxp0xsph702.png\" width=\"1080\">\n",
    "<center><i>Example of a sentence being predicted</i></center>\n",
    "<br><br>\n",
    "In this example, one can see the predictions for the next word of a sentence, given the context \"This is an\". As you can see, this boils down to a sequential data analysis task -- you are given a word or a sequence of words (the input data), and, given the context (the state), you need to find out what is the next word (the prediction). This kind of analysis is very important for language-related tasks such as <b>Speech Recognition, Machine Translation, Image Captioning, Text Correction</b> and many other very relevant problems. \n",
    "\n",
    "<img src=\"https://ibm.box.com/shared/static/az39idf9ipfdpc5ugifpgxnydelhyf3i.png\" width=\"1080\">\n",
    "<center><i>The above example is a schema of an RNN in execution</i></center>\n",
    "<br><br>\n",
    "As the above image shows, Recurrent Network models fit this problem like a glove. Alongside LSTM and its capacity to maintain the model's state for over one thousand time steps, we have all the tools we need to undertake this problem. The goal for this notebook is to create a model that can reach <b>low levels of perplexity</b> on our desired dataset.\n",
    "\n",
    "For Language Modelling problems, <b>perplexity</b> is the way to gauge efficiency. Perplexity is simply a measure of how well a probabilistic model is able to predict its sample. A higher-level way to explain this would be saying that <b>low perplexity means a higher degree of trust in the predictions the model makes</b>. Therefore, the lower perplexity is, the better.\n"
   ]
  },
  {
   "cell_type": "markdown",
   "metadata": {},
   "source": [
    "<a id=\"treebank_dataset\"></a>\n",
    "<h2>The Penn Treebank dataset</h2>\n",
    "Historically, datasets big enough for Natural Language Processing are hard to come by. This is in part due to the necessity of the sentences to be broken down and tagged with a certain degree of correctness -- or else the models trained on it won't be able to be correct at all. This means that we need a <b>large amount of data, annotated by or at least corrected by humans</b>. This is, of course, not an easy task at all.\n",
    "\n",
    "The Penn Treebank, or PTB for short, is a dataset maintained by the University of Pennsylvania. It is <i>huge</i> -- there are over <b>four million and eight hundred thousand</b> annotated words in it, all corrected by humans. It is composed of many different sources, from abstracts of Department of Energy papers to texts from the Library of America. Since it is verifiably correct and of such a huge size, the Penn Treebank is commonly used as a benchmark dataset for Language Modelling.\n",
    "\n",
    "The dataset is divided in different kinds of annotations, such as Piece-of-Speech, Syntactic and Semantic skeletons. For this example, we will simply use a sample of clean, non-annotated words (with the exception of one tag --<code>&lt;unk&gt;</code>\n",
    ", which is used for rare words such as uncommon proper nouns) for our model. This means that we just want to predict what the next words would be, not what they mean in context or their classes on a given sentence.\n",
    "\n",
    "<center>Example of text from the dataset we are going to use, <b>ptb.train</b></center>\n",
    "<br><br>\n",
    "\n",
    "<div class=\"alert alert-block alert-info\" style=\"margin-top: 20px\">\n",
    "    <center>the percentage of lung cancer deaths among the workers at the west <code>&lt;unk&gt;</code> mass. paper factory appears to be the highest for any asbestos workers studied in western industrialized countries he said \n",
    " the plant which is owned by <code>&lt;unk&gt;</code> & <code>&lt;unk&gt;</code> co. was under contract with <code>&lt;unk&gt;</code> to make the cigarette filters \n",
    " the finding probably will support those who argue that the U.S. should regulate the class of asbestos including <code>&lt;unk&gt;</code> more <code>&lt;unk&gt;</code> than the common kind of asbestos <code>&lt;unk&gt;</code> found in most schools and other buildings dr. <code>&lt;unk&gt;</code> said</center>\n",
    "</div>\n"
   ]
  },
  {
   "cell_type": "markdown",
   "metadata": {},
   "source": [
    "<a id=\"word_embedding\"></a>\n",
    "<h2>Word Embeddings</h2><br/>\n",
    "\n",
    "For better processing, in this example, we will make use of <a href=\"https://www.tensorflow.org/tutorials/word2vec/?utm_medium=Exinfluencer&utm_source=Exinfluencer&utm_content=000026UJ&utm_term=10006555&utm_id=NA-SkillsNetwork-Channel-SkillsNetworkCoursesIBMDeveloperSkillsNetworkDL0120ENSkillsNetwork954-2022-01-01\"><b>word embeddings</b></a>, which is <b>a way of representing sentence structures or words as n-dimensional vectors (where n is a reasonably high number, such as 200 or 500) of real numbers</b>. Basically, we will assign each word a randomly-initialized vector, and input those into the network to be processed. After a number of iterations, these vectors are expected to assume values that help the network to correctly predict what it needs to -- in our case, the probable next word in the sentence. This is shown to be a very effective task in Natural Language Processing, and is a commonplace practice.\n",
    "<br><br>\n",
    "<font size=\"4\"><strong>\n",
    "$$Vec(\"Example\") = [0.02, 0.00, 0.00, 0.92, 0.30, \\ldots]$$\n",
    "</strong></font>\n",
    "<br>\n",
    "Word Embedding tends to group up similarly used words <i>reasonably</i> close together in the vectorial space. For example, if we use T-SNE (a dimensional reduction visualization algorithm) to flatten the dimensions of our vectors into a 2-dimensional space and plot these words in a 2-dimensional space, we might see something like this:\n",
    "\n",
    "<img src=\"https://ibm.box.com/shared/static/bqhc5dg879gcoabzhxra1w8rkg3od1cu.png\" width=\"800\">\n",
    "<center><i>T-SNE Mockup with clusters marked for easier visualization</i></center>\n",
    "<br><br>\n",
    "As you can see, words that are frequently used together, in place of each other, or in the same places as them tend to be grouped together -- being closer together the higher they are correlated. For example, \"None\" is pretty semantically close to \"Zero\", while a phrase that uses \"Italy\", you could probably also fit \"Germany\" in it, with little damage to the sentence structure. The vectorial \"closeness\" for similar words like this is a great indicator of a well-built model.\n",
    "\n",
    "<hr>\n",
    " \n"
   ]
  },
  {
   "cell_type": "markdown",
   "metadata": {},
   "source": [
    "We need to import the necessary modules for our code. We need <b><code>numpy</code></b> and <b><code>tensorflow</code></b>, obviously. Additionally, we can import directly the <b><code>tensorflow.models.rnn</code></b> model, which includes the function for building RNNs, and <b><code>tensorflow.models.rnn.ptb.reader</code></b> which is the helper module for getting the input data from the dataset we just downloaded.\n",
    "\n",
    "If you want to learn more take a look at https://github.com/tensorflow/models/blob/master/tutorials/rnn/ptb/reader.py\n"
   ]
  },
  {
   "cell_type": "code",
   "execution_count": 1,
   "metadata": {},
   "outputs": [
    {
     "name": "stdout",
     "output_type": "stream",
     "text": [
      "Requirement already satisfied: tensorflow==2.2.0 in /home/jupyterlab/conda/envs/python/lib/python3.7/site-packages (2.2.0)\n",
      "Requirement already satisfied: absl-py>=0.7.0 in /home/jupyterlab/conda/envs/python/lib/python3.7/site-packages (from tensorflow==2.2.0) (1.4.0)\n",
      "Requirement already satisfied: astunparse==1.6.3 in /home/jupyterlab/conda/envs/python/lib/python3.7/site-packages (from tensorflow==2.2.0) (1.6.3)\n",
      "Requirement already satisfied: gast==0.3.3 in /home/jupyterlab/conda/envs/python/lib/python3.7/site-packages (from tensorflow==2.2.0) (0.3.3)\n",
      "Requirement already satisfied: google-pasta>=0.1.8 in /home/jupyterlab/conda/envs/python/lib/python3.7/site-packages (from tensorflow==2.2.0) (0.2.0)\n",
      "Requirement already satisfied: h5py<2.11.0,>=2.10.0 in /home/jupyterlab/conda/envs/python/lib/python3.7/site-packages (from tensorflow==2.2.0) (2.10.0)\n",
      "Requirement already satisfied: keras-preprocessing>=1.1.0 in /home/jupyterlab/conda/envs/python/lib/python3.7/site-packages (from tensorflow==2.2.0) (1.1.2)\n",
      "Requirement already satisfied: numpy<2.0,>=1.16.0 in /home/jupyterlab/conda/envs/python/lib/python3.7/site-packages (from tensorflow==2.2.0) (1.21.4)\n",
      "Requirement already satisfied: opt-einsum>=2.3.2 in /home/jupyterlab/conda/envs/python/lib/python3.7/site-packages (from tensorflow==2.2.0) (3.3.0)\n",
      "Requirement already satisfied: protobuf>=3.8.0 in /home/jupyterlab/conda/envs/python/lib/python3.7/site-packages (from tensorflow==2.2.0) (4.21.8)\n",
      "Requirement already satisfied: tensorboard<2.3.0,>=2.2.0 in /home/jupyterlab/conda/envs/python/lib/python3.7/site-packages (from tensorflow==2.2.0) (2.2.2)\n",
      "Requirement already satisfied: tensorflow-estimator<2.3.0,>=2.2.0 in /home/jupyterlab/conda/envs/python/lib/python3.7/site-packages (from tensorflow==2.2.0) (2.2.0)\n",
      "Requirement already satisfied: termcolor>=1.1.0 in /home/jupyterlab/conda/envs/python/lib/python3.7/site-packages (from tensorflow==2.2.0) (2.3.0)\n",
      "Requirement already satisfied: wrapt>=1.11.1 in /home/jupyterlab/conda/envs/python/lib/python3.7/site-packages (from tensorflow==2.2.0) (1.14.1)\n",
      "Requirement already satisfied: six>=1.12.0 in /home/jupyterlab/conda/envs/python/lib/python3.7/site-packages (from tensorflow==2.2.0) (1.16.0)\n",
      "Requirement already satisfied: grpcio>=1.8.6 in /home/jupyterlab/conda/envs/python/lib/python3.7/site-packages (from tensorflow==2.2.0) (1.48.1)\n",
      "Requirement already satisfied: wheel>=0.26 in /home/jupyterlab/conda/envs/python/lib/python3.7/site-packages (from tensorflow==2.2.0) (0.40.0)\n",
      "Requirement already satisfied: scipy==1.4.1 in /home/jupyterlab/conda/envs/python/lib/python3.7/site-packages (from tensorflow==2.2.0) (1.4.1)\n",
      "Requirement already satisfied: google-auth<2,>=1.6.3 in /home/jupyterlab/conda/envs/python/lib/python3.7/site-packages (from tensorboard<2.3.0,>=2.2.0->tensorflow==2.2.0) (1.35.0)\n",
      "Requirement already satisfied: google-auth-oauthlib<0.5,>=0.4.1 in /home/jupyterlab/conda/envs/python/lib/python3.7/site-packages (from tensorboard<2.3.0,>=2.2.0->tensorflow==2.2.0) (0.4.6)\n",
      "Requirement already satisfied: markdown>=2.6.8 in /home/jupyterlab/conda/envs/python/lib/python3.7/site-packages (from tensorboard<2.3.0,>=2.2.0->tensorflow==2.2.0) (3.4.3)\n",
      "Requirement already satisfied: requests<3,>=2.21.0 in /home/jupyterlab/conda/envs/python/lib/python3.7/site-packages (from tensorboard<2.3.0,>=2.2.0->tensorflow==2.2.0) (2.29.0)\n",
      "Requirement already satisfied: setuptools>=41.0.0 in /home/jupyterlab/conda/envs/python/lib/python3.7/site-packages (from tensorboard<2.3.0,>=2.2.0->tensorflow==2.2.0) (67.7.2)\n",
      "Requirement already satisfied: tensorboard-plugin-wit>=1.6.0 in /home/jupyterlab/conda/envs/python/lib/python3.7/site-packages (from tensorboard<2.3.0,>=2.2.0->tensorflow==2.2.0) (1.8.1)\n",
      "Requirement already satisfied: werkzeug>=0.11.15 in /home/jupyterlab/conda/envs/python/lib/python3.7/site-packages (from tensorboard<2.3.0,>=2.2.0->tensorflow==2.2.0) (2.2.3)\n",
      "Requirement already satisfied: cachetools<5.0,>=2.0.0 in /home/jupyterlab/conda/envs/python/lib/python3.7/site-packages (from google-auth<2,>=1.6.3->tensorboard<2.3.0,>=2.2.0->tensorflow==2.2.0) (4.2.4)\n",
      "Requirement already satisfied: pyasn1-modules>=0.2.1 in /home/jupyterlab/conda/envs/python/lib/python3.7/site-packages (from google-auth<2,>=1.6.3->tensorboard<2.3.0,>=2.2.0->tensorflow==2.2.0) (0.3.0)\n",
      "Requirement already satisfied: rsa<5,>=3.1.4 in /home/jupyterlab/conda/envs/python/lib/python3.7/site-packages (from google-auth<2,>=1.6.3->tensorboard<2.3.0,>=2.2.0->tensorflow==2.2.0) (4.9)\n",
      "Requirement already satisfied: requests-oauthlib>=0.7.0 in /home/jupyterlab/conda/envs/python/lib/python3.7/site-packages (from google-auth-oauthlib<0.5,>=0.4.1->tensorboard<2.3.0,>=2.2.0->tensorflow==2.2.0) (1.3.1)\n",
      "Requirement already satisfied: importlib-metadata>=4.4 in /home/jupyterlab/conda/envs/python/lib/python3.7/site-packages (from markdown>=2.6.8->tensorboard<2.3.0,>=2.2.0->tensorflow==2.2.0) (4.11.4)\n",
      "Requirement already satisfied: charset-normalizer<4,>=2 in /home/jupyterlab/conda/envs/python/lib/python3.7/site-packages (from requests<3,>=2.21.0->tensorboard<2.3.0,>=2.2.0->tensorflow==2.2.0) (3.1.0)\n",
      "Requirement already satisfied: idna<4,>=2.5 in /home/jupyterlab/conda/envs/python/lib/python3.7/site-packages (from requests<3,>=2.21.0->tensorboard<2.3.0,>=2.2.0->tensorflow==2.2.0) (3.4)\n",
      "Requirement already satisfied: urllib3<1.27,>=1.21.1 in /home/jupyterlab/conda/envs/python/lib/python3.7/site-packages (from requests<3,>=2.21.0->tensorboard<2.3.0,>=2.2.0->tensorflow==2.2.0) (1.26.15)\n",
      "Requirement already satisfied: certifi>=2017.4.17 in /home/jupyterlab/conda/envs/python/lib/python3.7/site-packages (from requests<3,>=2.21.0->tensorboard<2.3.0,>=2.2.0->tensorflow==2.2.0) (2022.12.7)\n",
      "Requirement already satisfied: MarkupSafe>=2.1.1 in /home/jupyterlab/conda/envs/python/lib/python3.7/site-packages (from werkzeug>=0.11.15->tensorboard<2.3.0,>=2.2.0->tensorflow==2.2.0) (2.1.1)\n",
      "Requirement already satisfied: zipp>=0.5 in /home/jupyterlab/conda/envs/python/lib/python3.7/site-packages (from importlib-metadata>=4.4->markdown>=2.6.8->tensorboard<2.3.0,>=2.2.0->tensorflow==2.2.0) (3.15.0)\n",
      "Requirement already satisfied: typing-extensions>=3.6.4 in /home/jupyterlab/conda/envs/python/lib/python3.7/site-packages (from importlib-metadata>=4.4->markdown>=2.6.8->tensorboard<2.3.0,>=2.2.0->tensorflow==2.2.0) (4.5.0)\n",
      "Requirement already satisfied: pyasn1<0.6.0,>=0.4.6 in /home/jupyterlab/conda/envs/python/lib/python3.7/site-packages (from pyasn1-modules>=0.2.1->google-auth<2,>=1.6.3->tensorboard<2.3.0,>=2.2.0->tensorflow==2.2.0) (0.5.0)\n",
      "Requirement already satisfied: oauthlib>=3.0.0 in /home/jupyterlab/conda/envs/python/lib/python3.7/site-packages (from requests-oauthlib>=0.7.0->google-auth-oauthlib<0.5,>=0.4.1->tensorboard<2.3.0,>=2.2.0->tensorflow==2.2.0) (3.2.2)\n",
      "Requirement already satisfied: numpy==1.21.4 in /home/jupyterlab/conda/envs/python/lib/python3.7/site-packages (1.21.4)\n"
     ]
    }
   ],
   "source": [
    "!pip install tensorflow==2.2.0\n",
    "!pip install numpy==1.21.4\n",
    "#!pip install reader"
   ]
  },
  {
   "cell_type": "code",
   "execution_count": 2,
   "metadata": {},
   "outputs": [],
   "source": [
    "import time\n",
    "import numpy as np\n",
    "import tensorflow as tf\n",
    "if not tf.__version__ == '2.2.0':\n",
    "    print(tf.__version__)\n",
    "    raise ValueError('please upgrade to TensorFlow 2.2.0, or restart your Kernel (Kernel->Restart & Clear Output)')"
   ]
  },
  {
   "cell_type": "markdown",
   "metadata": {},
   "source": [
    "IMPORTANT! => Please restart the kernel by clicking on \"Kernel\"->\"Restart and Clear Outout\" and wait until all output disapears. Then your changes are beeing picked up\n"
   ]
  },
  {
   "cell_type": "code",
   "execution_count": 3,
   "metadata": {},
   "outputs": [
    {
     "name": "stdout",
     "output_type": "stream",
     "text": [
      "mkdir: cannot create directory ‘data’: File exists\n",
      "mkdir: cannot create directory ‘data/ptb’: File exists\n"
     ]
    }
   ],
   "source": [
    "!mkdir data\n",
    "!mkdir data/ptb\n",
    "!wget -q -O data/ptb/reader.py https://cf-courses-data.s3.us.cloud-object-storage.appdomain.cloud/IBMDeveloperSkillsNetwork-DL0120EN-SkillsNetwork/labs/Week3/data/ptb/reader.py\n",
    "!cp data/ptb/reader.py . \n",
    "\n"
   ]
  },
  {
   "cell_type": "code",
   "execution_count": 4,
   "metadata": {},
   "outputs": [],
   "source": [
    "#import reader\n",
    "\n",
    "# Copyright 2015 The TensorFlow Authors. All Rights Reserved.\n",
    "#\n",
    "# Licensed under the Apache License, Version 2.0 (the \"License\");\n",
    "# you may not use this file except in compliance with the License.\n",
    "# You may obtain a copy of the License at\n",
    "#\n",
    "#     http://www.apache.org/licenses/LICENSE-2.0\n",
    "#\n",
    "# Unless required by applicable law or agreed to in writing, software\n",
    "# distributed under the License is distributed on an \"AS IS\" BASIS,\n",
    "# WITHOUT WARRANTIES OR CONDITIONS OF ANY KIND, either express or implied.\n",
    "# See the License for the specific language governing permissions and\n",
    "# limitations under the License.\n",
    "# ==============================================================================\n",
    "\n",
    "\n",
    "\"\"\"Utilities for parsing PTB text files.\"\"\"\n",
    "from __future__ import absolute_import\n",
    "from __future__ import division\n",
    "from __future__ import print_function\n",
    "\n",
    "import collections\n",
    "import os\n",
    "\n",
    "import numpy as np\n",
    "import tensorflow as tf\n",
    "\n",
    "\n",
    "def _read_words(filename):\n",
    "  with tf.io.gfile.GFile(filename, \"r\") as f:\n",
    "    return f.read().replace(\"\\n\", \"<eos>\").split()\n",
    "\n",
    "\n",
    "def _build_vocab(filename):\n",
    "  data = _read_words(filename)\n",
    "\n",
    "  counter = collections.Counter(data)\n",
    "  count_pairs = sorted(counter.items(), key=lambda x: (-x[1], x[0]))\n",
    "\n",
    "  words, _ = list(zip(*count_pairs))\n",
    "  word_to_id = dict(zip(words, range(len(words))))\n",
    "\n",
    "  return word_to_id\n",
    "\n",
    "\n",
    "def _file_to_word_ids(filename, word_to_id):\n",
    "  data = _read_words(filename)\n",
    "  return [word_to_id[word] for word in data if word in word_to_id]\n",
    "\n",
    "\n",
    "def ptb_raw_data(data_path=None):\n",
    "  \"\"\"Load PTB raw data from data directory \"data_path\".\n",
    "\n",
    "  Reads PTB text files, converts strings to integer ids,\n",
    "  and performs mini-batching of the inputs.\n",
    "\n",
    "  The PTB dataset comes from Tomas Mikolov's webpage:\n",
    "\n",
    "  http://www.fit.vutbr.cz/~imikolov/rnnlm/simple-examples.tgz\n",
    "\n",
    "  Args:\n",
    "    data_path: string path to the directory where simple-examples.tgz has\n",
    "      been extracted.\n",
    "\n",
    "  Returns:\n",
    "    tuple (train_data, valid_data, test_data, vocabulary)\n",
    "    where each of the data objects can be passed to PTBIterator.\n",
    "  \"\"\"\n",
    "\n",
    "  train_path = os.path.join(data_path, \"ptb.train.txt\")\n",
    "  valid_path = os.path.join(data_path, \"ptb.valid.txt\")\n",
    "  test_path = os.path.join(data_path, \"ptb.test.txt\")\n",
    "\n",
    "  word_to_id = _build_vocab(train_path)\n",
    "  train_data = _file_to_word_ids(train_path, word_to_id)\n",
    "  valid_data = _file_to_word_ids(valid_path, word_to_id)\n",
    "  test_data = _file_to_word_ids(test_path, word_to_id)\n",
    "  vocabulary = len(word_to_id)\n",
    "  return train_data, valid_data, test_data, vocabulary, word_to_id\n",
    "\n",
    "\n",
    "def ptb_iterator(raw_data, batch_size, num_steps):\n",
    "  \"\"\"Iterate on the raw PTB data.\n",
    "\n",
    "  This generates batch_size pointers into the raw PTB data, and allows\n",
    "  minibatch iteration along these pointers.\n",
    "\n",
    "  Args:\n",
    "    raw_data: one of the raw data outputs from ptb_raw_data.\n",
    "    batch_size: int, the batch size.\n",
    "    num_steps: int, the number of unrolls.\n",
    "\n",
    "  Yields:\n",
    "    Pairs of the batched data, each a matrix of shape [batch_size, num_steps].\n",
    "    The second element of the tuple is the same data time-shifted to the\n",
    "    right by one.\n",
    "\n",
    "  Raises:\n",
    "    ValueError: if batch_size or num_steps are too high.\n",
    "  \"\"\"\n",
    "  raw_data = np.array(raw_data, dtype=np.int32)\n",
    "\n",
    "  data_len = len(raw_data)\n",
    "  batch_len = data_len // batch_size\n",
    "  data = np.zeros([batch_size, batch_len], dtype=np.int32)\n",
    "  for i in range(batch_size):\n",
    "    data[i] = raw_data[batch_len * i:batch_len * (i + 1)]\n",
    "\n",
    "  epoch_size = (batch_len - 1) // num_steps\n",
    "\n",
    "  if epoch_size == 0:\n",
    "    raise ValueError(\"epoch_size == 0, decrease batch_size or num_steps\")\n",
    "\n",
    "  for i in range(epoch_size):\n",
    "    x = data[:, i*num_steps:(i+1)*num_steps]\n",
    "    y = data[:, i*num_steps+1:(i+1)*num_steps+1]\n",
    "    yield (x, y)"
   ]
  },
  {
   "cell_type": "markdown",
   "metadata": {},
   "source": [
    "<a id=\"building_lstm_model\"></a>\n",
    "<h2>Building the LSTM model for Language Modeling</h2>\n",
    "Now that we know exactly what we are doing, we can start building our model using TensorFlow. The very first thing we need to do is download and extract the <code>simple-examples</code> dataset, which can be done by executing the code cell below.\n"
   ]
  },
  {
   "cell_type": "code",
   "execution_count": 5,
   "metadata": {},
   "outputs": [
    {
     "name": "stdout",
     "output_type": "stream",
     "text": [
      "--2023-05-11 13:23:20--  http://www.fit.vutbr.cz/~imikolov/rnnlm/simple-examples.tgz\n",
      "Resolving www.fit.vutbr.cz (www.fit.vutbr.cz)... 147.229.9.23, 2001:67c:1220:809::93e5:917\n",
      "Connecting to www.fit.vutbr.cz (www.fit.vutbr.cz)|147.229.9.23|:80... connected.\n",
      "HTTP request sent, awaiting response... 200 OK\n",
      "Length: 34869662 (33M) [application/x-gtar]\n",
      "Saving to: ‘simple-examples.tgz.8’\n",
      "\n",
      "simple-examples.tgz 100%[===================>]  33.25M  9.04MB/s    in 3.9s    \n",
      "\n",
      "2023-05-11 13:23:25 (8.61 MB/s) - ‘simple-examples.tgz.8’ saved [34869662/34869662]\n",
      "\n"
     ]
    }
   ],
   "source": [
    "!wget http://www.fit.vutbr.cz/~imikolov/rnnlm/simple-examples.tgz \n",
    "!tar xzf simple-examples.tgz -C data/"
   ]
  },
  {
   "cell_type": "markdown",
   "metadata": {},
   "source": [
    "Additionally, for the sake of making it easy to play around with the model's hyperparameters, we can declare them beforehand. Feel free to change these -- you will see a difference in performance each time you change those!  \n"
   ]
  },
  {
   "cell_type": "code",
   "execution_count": 6,
   "metadata": {},
   "outputs": [],
   "source": [
    "#Initial weight scale\n",
    "init_scale = 0.1\n",
    "#Initial learning rate\n",
    "learning_rate = 1.0\n",
    "#Maximum permissible norm for the gradient (For gradient clipping -- another measure against Exploding Gradients)\n",
    "max_grad_norm = 5\n",
    "#The number of layers in our model\n",
    "num_layers = 2\n",
    "#The total number of recurrence steps, also known as the number of layers when our RNN is \"unfolded\"\n",
    "num_steps = 20\n",
    "#The number of processing units (neurons) in the hidden layers\n",
    "hidden_size_l1 = 256\n",
    "hidden_size_l2 = 128\n",
    "#The maximum number of epochs trained with the initial learning rate\n",
    "max_epoch_decay_lr = 4\n",
    "#The total number of epochs in training\n",
    "max_epoch = 15\n",
    "#The probability for keeping data in the Dropout Layer (This is an optimization, but is outside our scope for this notebook!)\n",
    "#At 1, we ignore the Dropout Layer wrapping.\n",
    "keep_prob = 1\n",
    "#The decay for the learning rate\n",
    "decay = 0.5\n",
    "#The size for each batch of data\n",
    "batch_size = 30\n",
    "#The size of our vocabulary\n",
    "vocab_size = 10000\n",
    "embeding_vector_size= 200\n",
    "#Training flag to separate training from testing\n",
    "is_training = 1\n",
    "#Data directory for our dataset\n",
    "data_dir = \"data/simple-examples/data/\""
   ]
  },
  {
   "cell_type": "markdown",
   "metadata": {},
   "source": [
    "Some clarifications for LSTM architecture based on the arguments:\n",
    "\n",
    "Network structure:\n",
    "<ul>\n",
    "    <li>In this network, the number of LSTM cells are 2. To give the model more expressive power, we can add multiple layers of LSTMs to process the data. The output of the first layer will become the input of the second and so on.\n",
    "    </li>\n",
    "    <li>The recurrence steps is 20, that is, when our RNN is \"Unfolded\", the recurrence step is 20.</li>   \n",
    "    <li>the structure is like:\n",
    "        <ul>\n",
    "            <li>200 input units -> [200x200] Weight -> 200 Hidden units (first layer) -> [200x200] Weight matrix  -> 200 Hidden units (second layer) ->  [200] weight Matrix -> 200 unit output</li>\n",
    "        </ul>\n",
    "    </li>\n",
    "</ul>\n",
    "<br>\n",
    "\n",
    "Input layer: \n",
    "<ul>\n",
    "    <li>The network has 200 input units.</li>\n",
    "    <li>Suppose each word is represented by an embedding vector of dimensionality e=200. The input layer of each cell will have 200 linear units. These e=200 linear units are connected to each of the h=200 LSTM units in the hidden layer (assuming there is only one hidden layer, though our case has 2 layers).\n",
    "    </li>\n",
    "    <li>The input shape is [batch_size, num_steps], that is [30x20]. It will turn into [30x20x200] after embedding, and then 20x[30x200]\n",
    "    </li>\n",
    "</ul>\n",
    "<br>\n",
    "\n",
    "Hidden layer:\n",
    "<ul>\n",
    "    <li>Each LSTM has 200 hidden units which is equivalent to the dimensionality of the embedding words and output.</li>\n",
    "</ul>\n",
    "<br>\n"
   ]
  },
  {
   "cell_type": "markdown",
   "metadata": {},
   "source": [
    "There is a lot to be done and a ton of information to process at the same time, so go over this code slowly. It may seem complex at first, but if you try to apply what you just learned about language modelling to the code you see, you should be able to understand it.\n",
    "\n",
    "This code is adapted from the <a href=\"https://github.com/tensorflow/models\">PTBModel</a> example bundled with the TensorFlow source code.\n",
    "\n",
    "\n",
    "<h3>Training data</h3>\n",
    "The story starts from data:\n",
    "<ul>\n",
    "    <li>Train data is a list of words, of size 929589, represented by numbers, e.g. [9971, 9972, 9974, 9975,...]</li>\n",
    "    <li>We read data as mini-batch of size b=30. Assume the size of each sentence is 20 words (num_steps = 20). Then it will take $$floor(\\frac{N}{b \\times h})+1=1548$$ iterations for the learner to go through all sentences once. Where N is the size of the list of words, b is batch size, and h is size of each sentence. So, the number of iterators is 1548\n",
    "    </li>\n",
    "    <li>Each batch data is read from train dataset of size 600, and shape of [30x20]</li>\n",
    "</ul>\n"
   ]
  },
  {
   "cell_type": "code",
   "execution_count": 7,
   "metadata": {},
   "outputs": [],
   "source": [
    "# Reads the data and separates it into training data, validation data and testing data\n",
    "raw_data = ptb_raw_data(data_dir)\n",
    "train_data, valid_data, test_data, vocab, word_to_id = raw_data"
   ]
  },
  {
   "cell_type": "code",
   "execution_count": 8,
   "metadata": {},
   "outputs": [
    {
     "data": {
      "text/plain": [
       "929589"
      ]
     },
     "execution_count": 8,
     "metadata": {},
     "output_type": "execute_result"
    }
   ],
   "source": [
    "len(train_data)"
   ]
  },
  {
   "cell_type": "code",
   "execution_count": 9,
   "metadata": {},
   "outputs": [
    {
     "name": "stdout",
     "output_type": "stream",
     "text": [
      "['aer', 'banknote', 'berlitz', 'calloway', 'centrust', 'cluett', 'fromstein', 'gitano', 'guterman', 'hydro-quebec', 'ipo', 'kia', 'memotec', 'mlx', 'nahb', 'punts', 'rake', 'regatta', 'rubens', 'sim', 'snack-food', 'ssangyong', 'swapo', 'wachter', '<eos>', 'pierre', '<unk>', 'N', 'years', 'old', 'will', 'join', 'the', 'board', 'as', 'a', 'nonexecutive', 'director', 'nov.', 'N', '<eos>', 'mr.', '<unk>', 'is', 'chairman', 'of', '<unk>', 'n.v.', 'the', 'dutch', 'publishing', 'group', '<eos>', 'rudolph', '<unk>', 'N', 'years', 'old', 'and', 'former', 'chairman', 'of', 'consolidated', 'gold', 'fields', 'plc', 'was', 'named', 'a', 'nonexecutive', 'director', 'of', 'this', 'british', 'industrial', 'conglomerate', '<eos>', 'a', 'form', 'of', 'asbestos', 'once', 'used', 'to', 'make', 'kent', 'cigarette', 'filters', 'has', 'caused', 'a', 'high', 'percentage', 'of', 'cancer', 'deaths', 'among', 'a', 'group', 'of']\n"
     ]
    }
   ],
   "source": [
    "def id_to_word(id_list):\n",
    "    line = []\n",
    "    for w in id_list:\n",
    "        for word, wid in word_to_id.items():\n",
    "            if wid == w:\n",
    "                line.append(word)\n",
    "    return line            \n",
    "                \n",
    "\n",
    "print(id_to_word(train_data[0:100]))"
   ]
  },
  {
   "cell_type": "markdown",
   "metadata": {},
   "source": [
    "Lets just read one mini-batch now and feed our network:\n"
   ]
  },
  {
   "cell_type": "code",
   "execution_count": 10,
   "metadata": {},
   "outputs": [],
   "source": [
    "itera = ptb_iterator(train_data, batch_size, num_steps)\n",
    "first_touple = itera.__next__()\n",
    "_input_data = first_touple[0]\n",
    "_targets = first_touple[1]"
   ]
  },
  {
   "cell_type": "code",
   "execution_count": 11,
   "metadata": {},
   "outputs": [
    {
     "data": {
      "text/plain": [
       "(30, 20)"
      ]
     },
     "execution_count": 11,
     "metadata": {},
     "output_type": "execute_result"
    }
   ],
   "source": [
    "_input_data.shape"
   ]
  },
  {
   "cell_type": "code",
   "execution_count": 12,
   "metadata": {},
   "outputs": [
    {
     "data": {
      "text/plain": [
       "(30, 20)"
      ]
     },
     "execution_count": 12,
     "metadata": {},
     "output_type": "execute_result"
    }
   ],
   "source": [
    "_targets.shape"
   ]
  },
  {
   "cell_type": "markdown",
   "metadata": {},
   "source": [
    "Lets look at 3 sentences of our input x:\n"
   ]
  },
  {
   "cell_type": "code",
   "execution_count": 13,
   "metadata": {},
   "outputs": [
    {
     "data": {
      "text/plain": [
       "array([[9970, 9971, 9972, 9974, 9975, 9976, 9980, 9981, 9982, 9983, 9984,\n",
       "        9986, 9987, 9988, 9989, 9991, 9992, 9993, 9994, 9995],\n",
       "       [2654,    6,  334, 2886,    4,    1,  233,  711,  834,   11,  130,\n",
       "         123,    7,  514,    2,   63,   10,  514,    8,  605],\n",
       "       [   0, 1071,    4,    0,  185,   24,  368,   20,   31, 3109,  954,\n",
       "          12,    3,   21,    2, 2915,    2,   12,    3,   21]],\n",
       "      dtype=int32)"
      ]
     },
     "execution_count": 13,
     "metadata": {},
     "output_type": "execute_result"
    }
   ],
   "source": [
    "_input_data[0:3]"
   ]
  },
  {
   "cell_type": "code",
   "execution_count": 14,
   "metadata": {},
   "outputs": [
    {
     "name": "stdout",
     "output_type": "stream",
     "text": [
      "['aer', 'banknote', 'berlitz', 'calloway', 'centrust', 'cluett', 'fromstein', 'gitano', 'guterman', 'hydro-quebec', 'ipo', 'kia', 'memotec', 'mlx', 'nahb', 'punts', 'rake', 'regatta', 'rubens', 'sim']\n"
     ]
    }
   ],
   "source": [
    "print(id_to_word(_input_data[0,:]))"
   ]
  },
  {
   "cell_type": "markdown",
   "metadata": {},
   "source": [
    "<h3>Embeddings</h3>\n",
    "We have to convert the words in our dataset to vectors of numbers. The traditional approach is to use one-hot encoding method that is usually used for converting categorical values to numerical values. However, One-hot encoded vectors are high-dimensional, sparse and in a big dataset, computationally inefficient. So, we use word2vec approach. It is, in fact, a layer in our LSTM network, where the word IDs will be represented as a dense representation before feeding to the LSTM. \n",
    "\n",
    "The embedded vectors also get updated during the training process of the deep neural network.\n",
    "We create the embeddings for our input data. <b>embedding_vocab</b> is matrix of [10000x200] for all 10000 unique words.\n"
   ]
  },
  {
   "cell_type": "markdown",
   "metadata": {},
   "source": [
    "<b>embedding_lookup()</b> finds the embedded values for our batch of 30x20 words. It  goes to each row of <code>input_data</code>, and for each word in the row/sentence, finds the correspond vector in <code>embedding_dic<code>. <br>\n",
    "It creates a [30x20x200] tensor, so, the first element of <b>inputs</b> (the first sentence), is a matrix of 20x200, which each row of it, is vector representing a word in the sentence.\n"
   ]
  },
  {
   "cell_type": "code",
   "execution_count": 15,
   "metadata": {},
   "outputs": [],
   "source": [
    "embedding_layer = tf.keras.layers.Embedding(vocab_size, embeding_vector_size,batch_input_shape=(batch_size, num_steps),trainable=True,name=\"embedding_vocab\")  "
   ]
  },
  {
   "cell_type": "code",
   "execution_count": 16,
   "metadata": {},
   "outputs": [
    {
     "name": "stderr",
     "output_type": "stream",
     "text": [
      "2023-05-11 13:23:37.419273: W tensorflow/stream_executor/platform/default/dso_loader.cc:55] Could not load dynamic library 'libcuda.so.1'; dlerror: libcuda.so.1: cannot open shared object file: No such file or directory\n",
      "2023-05-11 13:23:37.419351: E tensorflow/stream_executor/cuda/cuda_driver.cc:313] failed call to cuInit: UNKNOWN ERROR (303)\n",
      "2023-05-11 13:23:37.419401: I tensorflow/stream_executor/cuda/cuda_diagnostics.cc:156] kernel driver does not appear to be running on this host (jupyterlab-mdanasmondol): /proc/driver/nvidia/version does not exist\n",
      "2023-05-11 13:23:37.419930: I tensorflow/core/platform/cpu_feature_guard.cc:143] Your CPU supports instructions that this TensorFlow binary was not compiled to use: AVX2 AVX512F FMA\n",
      "2023-05-11 13:23:37.439349: I tensorflow/core/platform/profile_utils/cpu_utils.cc:102] CPU Frequency: 2394345000 Hz\n",
      "2023-05-11 13:23:37.439919: I tensorflow/compiler/xla/service/service.cc:168] XLA service 0x7f2e20000b20 initialized for platform Host (this does not guarantee that XLA will be used). Devices:\n",
      "2023-05-11 13:23:37.439959: I tensorflow/compiler/xla/service/service.cc:176]   StreamExecutor device (0): Host, Default Version\n"
     ]
    },
    {
     "data": {
      "text/plain": [
       "<tf.Tensor: shape=(30, 20, 200), dtype=float32, numpy=\n",
       "array([[[-0.02709613, -0.04985071, -0.0187719 , ...,  0.00292475,\n",
       "         -0.02685393, -0.0119151 ],\n",
       "        [-0.03816019,  0.04084268, -0.0064944 , ...,  0.00854608,\n",
       "         -0.00111295, -0.0044939 ],\n",
       "        [-0.01931912, -0.04987828,  0.02424962, ..., -0.00015897,\n",
       "          0.00101554,  0.0436205 ],\n",
       "        ...,\n",
       "        [-0.02995243,  0.01830838, -0.04591734, ...,  0.01472365,\n",
       "         -0.0010234 , -0.01955491],\n",
       "        [-0.02833893, -0.04697503, -0.02201254, ..., -0.03705607,\n",
       "          0.03493026,  0.01032568],\n",
       "        [-0.01284909, -0.04615483,  0.02114337, ...,  0.01597739,\n",
       "          0.04335565, -0.01588375]],\n",
       "\n",
       "       [[-0.02496787,  0.044762  , -0.04142239, ...,  0.04260137,\n",
       "         -0.04603856,  0.01856444],\n",
       "        [-0.03904204, -0.03956168, -0.01847399, ...,  0.00026593,\n",
       "         -0.03194755, -0.04658192],\n",
       "        [-0.03649318,  0.01439878,  0.03088398, ..., -0.01510267,\n",
       "          0.04460749,  0.00372435],\n",
       "        ...,\n",
       "        [ 0.00228819, -0.00923164,  0.02071821, ..., -0.01668874,\n",
       "         -0.01486076,  0.00495956],\n",
       "        [-0.01176262, -0.0004993 ,  0.02553118, ..., -0.04705484,\n",
       "          0.0062255 , -0.02009742],\n",
       "        [ 0.03159591,  0.00183654,  0.03155703, ..., -0.03237917,\n",
       "         -0.03995391, -0.03519679]],\n",
       "\n",
       "       [[-0.02672964, -0.02804003, -0.04724555, ...,  0.00739484,\n",
       "         -0.03262887,  0.01557102],\n",
       "        [ 0.04288653, -0.04323716,  0.00100015, ...,  0.00591249,\n",
       "          0.00847276, -0.02943994],\n",
       "        [-0.01544919,  0.00224706, -0.03551783, ..., -0.04020976,\n",
       "         -0.02941513,  0.03745165],\n",
       "        ...,\n",
       "        [ 0.03396101,  0.01830517,  0.02691586, ..., -0.0375229 ,\n",
       "          0.00925888,  0.02389323],\n",
       "        [-0.02431887, -0.00036883, -0.0254722 , ..., -0.01825737,\n",
       "         -0.0080501 ,  0.01168165],\n",
       "        [ 0.04675081, -0.01399016,  0.03756101, ..., -0.04142012,\n",
       "          0.03946478, -0.0393121 ]],\n",
       "\n",
       "       ...,\n",
       "\n",
       "       [[-0.04560691, -0.02780789,  0.01269853, ...,  0.03695064,\n",
       "          0.03561037,  0.0055473 ],\n",
       "        [ 0.01992923, -0.04249017,  0.03764652, ..., -0.00660654,\n",
       "          0.03716046, -0.04326436],\n",
       "        [ 0.03373594,  0.01737888,  0.04231683, ..., -0.00886005,\n",
       "          0.01914882, -0.02488723],\n",
       "        ...,\n",
       "        [-0.03824655,  0.04391876, -0.03896372, ...,  0.01402685,\n",
       "         -0.00142133,  0.00464221],\n",
       "        [ 0.01584612,  0.02031734, -0.04520245, ..., -0.01536363,\n",
       "         -0.03987521,  0.01433945],\n",
       "        [ 0.02269754, -0.049839  ,  0.04546268, ...,  0.02964511,\n",
       "         -0.0129392 ,  0.04975027]],\n",
       "\n",
       "       [[-0.04221788,  0.02290529,  0.01315032, ...,  0.03890128,\n",
       "         -0.02573006,  0.0201365 ],\n",
       "        [ 0.02440261,  0.0203515 ,  0.01075262, ...,  0.03198   ,\n",
       "         -0.03688412,  0.01790113],\n",
       "        [-0.01544919,  0.00224706, -0.03551783, ..., -0.04020976,\n",
       "         -0.02941513,  0.03745165],\n",
       "        ...,\n",
       "        [-0.02855831,  0.0410387 , -0.00575035, ...,  0.04779542,\n",
       "         -0.03233236,  0.01323055],\n",
       "        [-0.03904204, -0.03956168, -0.01847399, ...,  0.00026593,\n",
       "         -0.03194755, -0.04658192],\n",
       "        [-0.02954729, -0.01137791, -0.00715864, ...,  0.01682666,\n",
       "          0.03951349, -0.04980922]],\n",
       "\n",
       "       [[ 0.02995514,  0.03555236, -0.01249192, ...,  0.02211049,\n",
       "          0.00878803, -0.01538976],\n",
       "        [ 0.04312834, -0.0010666 ,  0.00360344, ..., -0.04067191,\n",
       "          0.02894891, -0.0450359 ],\n",
       "        [ 0.01271646, -0.03745506,  0.0337124 , ...,  0.03591019,\n",
       "         -0.00909726, -0.03759339],\n",
       "        ...,\n",
       "        [-0.00332689, -0.02316196, -0.04967166, ...,  0.03099805,\n",
       "         -0.00363073, -0.04822202],\n",
       "        [-0.04189509, -0.02691942, -0.00489327, ..., -0.02728714,\n",
       "          0.00881632, -0.039566  ],\n",
       "        [-0.03725535, -0.01423057, -0.01087826, ...,  0.00310649,\n",
       "         -0.02468085,  0.02332877]]], dtype=float32)>"
      ]
     },
     "execution_count": 16,
     "metadata": {},
     "output_type": "execute_result"
    }
   ],
   "source": [
    "# Define where to get the data for our embeddings from\n",
    "inputs = embedding_layer(_input_data)\n",
    "inputs"
   ]
  },
  {
   "cell_type": "markdown",
   "metadata": {},
   "source": [
    "<h3>Constructing Recurrent Neural Networks</h3>\n"
   ]
  },
  {
   "cell_type": "markdown",
   "metadata": {},
   "source": [
    "In this step, we create the stacked LSTM using <b>tf.keras.layers.StackedRNNCells</b>, which is a 2 layer LSTM network:\n"
   ]
  },
  {
   "cell_type": "code",
   "execution_count": 17,
   "metadata": {},
   "outputs": [],
   "source": [
    "lstm_cell_l1 = tf.keras.layers.LSTMCell(hidden_size_l1)\n",
    "lstm_cell_l2 = tf.keras.layers.LSTMCell(hidden_size_l2)"
   ]
  },
  {
   "cell_type": "code",
   "execution_count": 18,
   "metadata": {},
   "outputs": [],
   "source": [
    "stacked_lstm = tf.keras.layers.StackedRNNCells([lstm_cell_l1, lstm_cell_l2])"
   ]
  },
  {
   "cell_type": "markdown",
   "metadata": {},
   "source": [
    "<b>tf.keras.layers.RNN</b> creates a recurrent neural network using <b>stacked_lstm</b>. \n",
    "\n",
    "The input should be a Tensor of shape: [batch_size, max_time, embedding_vector_size], in our case it would be (30, 20, 200)\n"
   ]
  },
  {
   "cell_type": "code",
   "execution_count": 19,
   "metadata": {},
   "outputs": [],
   "source": [
    "layer  =  tf.keras.layers.RNN(stacked_lstm,[batch_size, num_steps],return_state=False,stateful=True,trainable=True)"
   ]
  },
  {
   "cell_type": "markdown",
   "metadata": {},
   "source": [
    "Also, we initialize the states of the nework:\n",
    "\n",
    "<h4>_initial_state</h4>\n",
    "\n",
    "For each LSTM, there are 2 state matrices, c\\_state and m\\_state.  c_state and m_state represent \"Memory State\" and \"Cell State\". Each hidden layer, has a vector of size 30, which keeps the states. so, for 200 hidden units in each LSTM, we have a matrix of size [30x200]\n"
   ]
  },
  {
   "cell_type": "code",
   "execution_count": 20,
   "metadata": {},
   "outputs": [],
   "source": [
    "init_state = tf.Variable(tf.zeros([batch_size,embeding_vector_size]),trainable=False)"
   ]
  },
  {
   "cell_type": "code",
   "execution_count": 21,
   "metadata": {},
   "outputs": [],
   "source": [
    "layer.inital_state = init_state"
   ]
  },
  {
   "cell_type": "code",
   "execution_count": 22,
   "metadata": {},
   "outputs": [
    {
     "data": {
      "text/plain": [
       "<tf.Variable 'Variable:0' shape=(30, 200) dtype=float32, numpy=\n",
       "array([[0., 0., 0., ..., 0., 0., 0.],\n",
       "       [0., 0., 0., ..., 0., 0., 0.],\n",
       "       [0., 0., 0., ..., 0., 0., 0.],\n",
       "       ...,\n",
       "       [0., 0., 0., ..., 0., 0., 0.],\n",
       "       [0., 0., 0., ..., 0., 0., 0.],\n",
       "       [0., 0., 0., ..., 0., 0., 0.]], dtype=float32)>"
      ]
     },
     "execution_count": 22,
     "metadata": {},
     "output_type": "execute_result"
    }
   ],
   "source": [
    "layer.inital_state"
   ]
  },
  {
   "cell_type": "markdown",
   "metadata": {},
   "source": [
    "so, lets look at the outputs. The output of the stackedLSTM comes from 128 hidden_layer, and in each time step(=20), one of them get activated. we use the linear activation to map the 128 hidden layer to a [30X20 matrix]\n"
   ]
  },
  {
   "cell_type": "code",
   "execution_count": 23,
   "metadata": {},
   "outputs": [],
   "source": [
    "outputs = layer(inputs)"
   ]
  },
  {
   "cell_type": "code",
   "execution_count": 24,
   "metadata": {},
   "outputs": [
    {
     "data": {
      "text/plain": [
       "<tf.Tensor: shape=(30, 20, 128), dtype=float32, numpy=\n",
       "array([[[ 1.07253110e-03,  9.81183606e-04,  1.57601887e-03, ...,\n",
       "         -3.53484444e-04,  7.08582986e-04,  5.24252129e-04],\n",
       "        [ 2.28912919e-03,  4.24971012e-03,  7.97433662e-04, ...,\n",
       "         -2.38839042e-04,  9.73794900e-04, -4.79890659e-05],\n",
       "        [ 3.00597819e-03,  6.49813283e-03, -7.85476412e-04, ...,\n",
       "         -1.05378812e-03,  1.34007004e-03,  5.50978584e-04],\n",
       "        ...,\n",
       "        [ 4.24186373e-03, -2.63045076e-03,  4.54199687e-03, ...,\n",
       "         -3.85199254e-03,  6.53265277e-03,  6.80646067e-03],\n",
       "        [ 2.56244792e-03, -2.14821286e-03,  5.11976751e-03, ...,\n",
       "         -4.64082882e-03,  5.50845778e-03,  7.46799121e-03],\n",
       "        [ 1.12734898e-03, -1.14971912e-03,  5.72510203e-03, ...,\n",
       "         -6.28866116e-03,  4.73740231e-03,  6.87635364e-03]],\n",
       "\n",
       "       [[ 4.84303382e-05,  8.95264442e-04, -6.36812707e-04, ...,\n",
       "          6.22414052e-04, -1.63656732e-04,  3.29130504e-04],\n",
       "        [-2.14421493e-03,  2.25926648e-04, -1.89063619e-04, ...,\n",
       "          1.47531601e-03,  6.20944251e-04, -6.24019653e-04],\n",
       "        [-3.11352848e-03, -1.11204048e-03,  9.63909668e-04, ...,\n",
       "          1.30629446e-03,  4.98010595e-05, -1.72341941e-03],\n",
       "        ...,\n",
       "        [ 1.02185307e-03, -3.94549407e-03, -4.43393132e-03, ...,\n",
       "         -2.65729683e-03, -6.84966939e-03,  4.56808787e-03],\n",
       "        [ 1.49961933e-03, -2.48269551e-03, -4.24347399e-03, ...,\n",
       "         -2.54127500e-03, -6.08243840e-03,  3.37254792e-03],\n",
       "        [ 1.47062074e-03, -1.14537892e-03, -3.08373128e-03, ...,\n",
       "         -2.10970477e-03, -4.93567437e-03,  3.23881605e-03]],\n",
       "\n",
       "       [[-8.00798472e-04, -5.57089224e-04, -9.70144829e-05, ...,\n",
       "          5.78886946e-04, -6.06700953e-04,  1.36273302e-05],\n",
       "        [-1.80535181e-03, -1.13167323e-03, -4.92070918e-04, ...,\n",
       "          2.01721909e-03, -3.71337694e-04,  8.40007968e-04],\n",
       "        [-2.46720528e-03, -4.91623825e-04, -1.25475379e-03, ...,\n",
       "          1.34093408e-03, -8.96759215e-04,  3.43928579e-04],\n",
       "        ...,\n",
       "        [ 1.68182643e-03,  8.20128527e-03,  5.04561933e-03, ...,\n",
       "         -2.63709947e-03,  2.18166178e-03, -1.01933001e-04],\n",
       "        [ 7.70714541e-04,  7.35881878e-03,  5.81595441e-03, ...,\n",
       "         -1.70256221e-03,  2.16852222e-03,  9.76365816e-04],\n",
       "        [ 1.19103782e-03,  7.22939335e-03,  7.23395031e-03, ...,\n",
       "         -2.59013905e-04,  3.08707077e-03,  1.49486889e-03]],\n",
       "\n",
       "       ...,\n",
       "\n",
       "       [[ 5.17882363e-05,  1.44156173e-03,  1.43038307e-03, ...,\n",
       "         -7.54898705e-04, -1.09155255e-03,  2.69410782e-04],\n",
       "        [-1.16951873e-04,  2.69306614e-03,  2.10293452e-03, ...,\n",
       "          4.39769705e-04, -1.21797808e-03, -5.17008484e-05],\n",
       "        [ 5.16658656e-06,  1.75068690e-03,  2.22343788e-03, ...,\n",
       "          7.95196742e-04, -1.28239812e-03, -5.66078175e-04],\n",
       "        ...,\n",
       "        [ 3.55804921e-03,  3.69584397e-03,  5.92305185e-03, ...,\n",
       "          3.90328816e-03, -1.48409232e-03,  3.30265332e-03],\n",
       "        [ 3.92332952e-03,  2.99951318e-03,  6.26113778e-03, ...,\n",
       "          2.55720550e-03, -3.35416174e-03,  3.26385954e-03],\n",
       "        [ 5.01988642e-03,  2.73779291e-03,  6.94246637e-03, ...,\n",
       "          3.01557104e-03, -5.12421271e-03,  3.25534889e-03]],\n",
       "\n",
       "       [[ 3.41251762e-05,  5.61838446e-04,  1.03104161e-03, ...,\n",
       "         -1.19575334e-03, -1.19524205e-03, -9.18809674e-05],\n",
       "        [-1.04845606e-03,  2.68558110e-03,  2.10327515e-03, ...,\n",
       "         -2.05041259e-03, -1.73970114e-03, -3.11925192e-04],\n",
       "        [-1.36591878e-03,  4.41622501e-03,  2.14141537e-03, ...,\n",
       "         -3.43938940e-03, -2.61431257e-03, -6.79629447e-04],\n",
       "        ...,\n",
       "        [-1.12686341e-03,  3.12222575e-04, -4.52561289e-05, ...,\n",
       "         -1.19713135e-02, -1.03406068e-02,  2.95087462e-03],\n",
       "        [-3.05599929e-03, -1.07489317e-03,  2.53541186e-03, ...,\n",
       "         -1.12547157e-02, -9.97426268e-03,  2.26243539e-03],\n",
       "        [-3.52871139e-03, -2.06302223e-03,  2.56103929e-03, ...,\n",
       "         -8.03667307e-03, -9.35915951e-03,  2.95861368e-03]],\n",
       "\n",
       "       [[ 3.93841270e-04,  6.74815907e-04,  5.93820063e-04, ...,\n",
       "         -2.89834774e-04, -6.96387840e-04, -6.65205938e-04],\n",
       "        [ 1.72747415e-03,  4.94375825e-04,  1.55339984e-03, ...,\n",
       "         -7.41343189e-04, -1.24909554e-03, -3.89915600e-04],\n",
       "        [ 2.34603626e-03,  2.34352984e-03,  1.69879850e-03, ...,\n",
       "         -2.65965355e-04, -9.99323791e-04,  6.82773010e-04],\n",
       "        ...,\n",
       "        [-1.85401679e-03, -5.66474255e-03, -4.01871838e-03, ...,\n",
       "          1.19335891e-03, -2.68489518e-03, -8.85085668e-04],\n",
       "        [-2.18749372e-03, -6.58058887e-03, -5.06781507e-03, ...,\n",
       "          1.26358040e-03, -2.74447165e-03, -7.97012064e-04],\n",
       "        [-1.46455446e-03, -8.24701134e-03, -6.06877357e-03, ...,\n",
       "          1.07944652e-03, -3.74789187e-03, -3.79224424e-04]]],\n",
       "      dtype=float32)>"
      ]
     },
     "execution_count": 24,
     "metadata": {},
     "output_type": "execute_result"
    }
   ],
   "source": [
    "outputs"
   ]
  },
  {
   "cell_type": "markdown",
   "metadata": {},
   "source": [
    "<h2>Dense layer</h2>\n",
    "We now create densely-connected neural network layer that would reshape the outputs tensor from  [30 x 20 x 128] to [30 x 20 x 10000].\n"
   ]
  },
  {
   "cell_type": "code",
   "execution_count": 25,
   "metadata": {},
   "outputs": [],
   "source": [
    "dense = tf.keras.layers.Dense(vocab_size)"
   ]
  },
  {
   "cell_type": "code",
   "execution_count": 26,
   "metadata": {},
   "outputs": [],
   "source": [
    "logits_outputs  = dense(outputs)"
   ]
  },
  {
   "cell_type": "code",
   "execution_count": 27,
   "metadata": {},
   "outputs": [
    {
     "name": "stdout",
     "output_type": "stream",
     "text": [
      "shape of the output from dense layer:  (30, 20, 10000)\n"
     ]
    }
   ],
   "source": [
    "print(\"shape of the output from dense layer: \", logits_outputs.shape) #(batch_size, sequence_length, vocab_size)"
   ]
  },
  {
   "cell_type": "markdown",
   "metadata": {},
   "source": [
    "<h2>Activation layer</h2>\n",
    "\n",
    "\n",
    "A softmax activation layers is also then applied to derive the probability of the output being in any of the multiclass(10000 in this case) possibilities. \n"
   ]
  },
  {
   "cell_type": "code",
   "execution_count": 28,
   "metadata": {},
   "outputs": [],
   "source": [
    "activation = tf.keras.layers.Activation('softmax')"
   ]
  },
  {
   "cell_type": "code",
   "execution_count": 29,
   "metadata": {},
   "outputs": [],
   "source": [
    "output_words_prob = activation(logits_outputs)"
   ]
  },
  {
   "cell_type": "code",
   "execution_count": 30,
   "metadata": {},
   "outputs": [
    {
     "name": "stdout",
     "output_type": "stream",
     "text": [
      "shape of the output from the activation layer:  (30, 20, 10000)\n"
     ]
    }
   ],
   "source": [
    "print(\"shape of the output from the activation layer: \", output_words_prob.shape) #(batch_size, sequence_length, vocab_size)"
   ]
  },
  {
   "cell_type": "markdown",
   "metadata": {},
   "source": [
    "Lets look at the probability of observing words for t=0 to t=20:\n"
   ]
  },
  {
   "cell_type": "code",
   "execution_count": 31,
   "metadata": {},
   "outputs": [
    {
     "name": "stdout",
     "output_type": "stream",
     "text": [
      "The probability of observing words in t=0 to t=20 tf.Tensor(\n",
      "[[1.00015699e-04 9.99984841e-05 1.00003686e-04 ... 1.00008481e-04\n",
      "  9.99914846e-05 9.99879412e-05]\n",
      " [1.00011683e-04 1.00013800e-04 9.99942931e-05 ... 1.00015364e-04\n",
      "  9.99969416e-05 9.99782133e-05]\n",
      " [1.00006255e-04 1.00017103e-04 9.99861368e-05 ... 1.00000296e-04\n",
      "  1.00008336e-04 9.99763506e-05]\n",
      " ...\n",
      " [9.99898766e-05 1.00020523e-04 9.99962722e-05 ... 1.00058431e-04\n",
      "  1.00047029e-04 1.00028141e-04]\n",
      " [1.00012920e-04 1.00028112e-04 1.00004552e-04 ... 1.00058620e-04\n",
      "  1.00037461e-04 1.00036916e-04]\n",
      " [1.00025361e-04 1.00025580e-04 9.99869808e-05 ... 1.00049059e-04\n",
      "  1.00025230e-04 1.00028097e-04]], shape=(20, 10000), dtype=float32)\n"
     ]
    }
   ],
   "source": [
    "print(\"The probability of observing words in t=0 to t=20\", output_words_prob[0,0:num_steps])"
   ]
  },
  {
   "cell_type": "markdown",
   "metadata": {},
   "source": [
    "<h3>Prediction</h3>\n",
    "What is the word correspond to the probability output? Lets use the maximum probability:\n"
   ]
  },
  {
   "cell_type": "code",
   "execution_count": 32,
   "metadata": {},
   "outputs": [
    {
     "data": {
      "text/plain": [
       "array([7476, 5969, 5969, 5969, 5969, 8120, 8120, 8120, 8120, 8151, 3195,\n",
       "       3195, 9486, 4984, 2504, 2504, 2504, 2504, 2504, 7594])"
      ]
     },
     "execution_count": 32,
     "metadata": {},
     "output_type": "execute_result"
    }
   ],
   "source": [
    "np.argmax(output_words_prob[0,0:num_steps], axis=1)"
   ]
  },
  {
   "cell_type": "markdown",
   "metadata": {},
   "source": [
    "So, what is the ground truth for the first word of first sentence? You can get it from target tensor, if you want to find the embedding vector: \n"
   ]
  },
  {
   "cell_type": "code",
   "execution_count": 33,
   "metadata": {},
   "outputs": [
    {
     "data": {
      "text/plain": [
       "array([9971, 9972, 9974, 9975, 9976, 9980, 9981, 9982, 9983, 9984, 9986,\n",
       "       9987, 9988, 9989, 9991, 9992, 9993, 9994, 9995, 9996], dtype=int32)"
      ]
     },
     "execution_count": 33,
     "metadata": {},
     "output_type": "execute_result"
    }
   ],
   "source": [
    "_targets[0]"
   ]
  },
  {
   "cell_type": "markdown",
   "metadata": {},
   "source": [
    "<h4>Objective function</h4>\n",
    "\n",
    "\n",
    "How similar the predicted words are to the target words?\n",
    "\n",
    "\n",
    "Now we have to define our objective function, to calculate the similarity of predicted values to ground truth, and then, penalize the model with the error. Our objective is to minimize loss function, that is, to minimize the average negative log probability of the target words:\n",
    "\n",
    "$$\\text{loss} = -\\frac{1}{N}\\sum_{i=1}^{N} \\ln p_{\\text{target}_i}$$\n",
    "\n",
    "This function is already implemented and available in TensorFlow through *tf.keras.losses.sparse_categorical_crossentropy*. It calculates the categorical cross-entropy loss for <b>logits</b> and the <b>target</b> sequence.  \n",
    "\n",
    "The arguments of this function are:  \n",
    "<ul>\n",
    "    <li>logits: List of 2D Tensors of shape [batch_size x num_decoder_symbols].</li>  \n",
    "    <li>targets: List of 1D batch-sized int32 Tensors of the same length as logits.</li>   \n",
    "</ul>\n"
   ]
  },
  {
   "cell_type": "code",
   "execution_count": 34,
   "metadata": {},
   "outputs": [],
   "source": [
    "def crossentropy(y_true, y_pred):\n",
    "    return tf.keras.losses.sparse_categorical_crossentropy(y_true, y_pred)"
   ]
  },
  {
   "cell_type": "code",
   "execution_count": 35,
   "metadata": {},
   "outputs": [],
   "source": [
    "loss  = crossentropy(_targets, output_words_prob)"
   ]
  },
  {
   "cell_type": "markdown",
   "metadata": {},
   "source": [
    "Lets look at the first 10 values of loss:\n"
   ]
  },
  {
   "cell_type": "code",
   "execution_count": 36,
   "metadata": {},
   "outputs": [
    {
     "data": {
      "text/plain": [
       "<tf.Tensor: shape=(10,), dtype=float32, numpy=\n",
       "array([9.210297 , 9.210364 , 9.210846 , 9.209732 , 9.211445 , 9.210309 ,\n",
       "       9.209892 , 9.2098675, 9.211081 , 9.210749 ], dtype=float32)>"
      ]
     },
     "execution_count": 36,
     "metadata": {},
     "output_type": "execute_result"
    }
   ],
   "source": [
    "loss[0,:10]"
   ]
  },
  {
   "cell_type": "markdown",
   "metadata": {},
   "source": [
    "Now, we define cost as average of the losses:\n"
   ]
  },
  {
   "cell_type": "code",
   "execution_count": 37,
   "metadata": {},
   "outputs": [
    {
     "data": {
      "text/plain": [
       "<tf.Tensor: shape=(), dtype=float32, numpy=184.20702>"
      ]
     },
     "execution_count": 37,
     "metadata": {},
     "output_type": "execute_result"
    }
   ],
   "source": [
    "cost = tf.reduce_sum(loss / batch_size)\n",
    "cost"
   ]
  },
  {
   "cell_type": "markdown",
   "metadata": {},
   "source": [
    "<h3>Training</h3>\n",
    "\n",
    "To do training for our network, we have to take the following steps:\n",
    "<ol>\n",
    "    <li>Define the optimizer.</li>\n",
    "    <li>Assemble layers to build model.</li>\n",
    "    <li>Calculate the gradients based on the loss function.</li>\n",
    "    <li>Apply the optimizer to the variables/gradients tuple.</li>\n",
    "</ol>\n"
   ]
  },
  {
   "cell_type": "markdown",
   "metadata": {},
   "source": [
    "<h4>1. Define Optimizer</h4>\n",
    "\n"
   ]
  },
  {
   "cell_type": "code",
   "execution_count": 38,
   "metadata": {},
   "outputs": [],
   "source": [
    "# Create a variable for the learning rate\n",
    "lr = tf.Variable(0.0, trainable=False)\n",
    "optimizer = tf.keras.optimizers.SGD(lr=lr, clipnorm=max_grad_norm)"
   ]
  },
  {
   "cell_type": "markdown",
   "metadata": {},
   "source": [
    "<h4>2. Assemble layers to build model.</h4>\n"
   ]
  },
  {
   "cell_type": "code",
   "execution_count": 39,
   "metadata": {},
   "outputs": [
    {
     "name": "stdout",
     "output_type": "stream",
     "text": [
      "Model: \"sequential\"\n",
      "_________________________________________________________________\n",
      "Layer (type)                 Output Shape              Param #   \n",
      "=================================================================\n",
      "embedding_vocab (Embedding)  (30, 20, 200)             2000000   \n",
      "_________________________________________________________________\n",
      "rnn (RNN)                    (30, 20, 128)             671088    \n",
      "_________________________________________________________________\n",
      "dense (Dense)                (30, 20, 10000)           1290000   \n",
      "_________________________________________________________________\n",
      "activation (Activation)      (30, 20, 10000)           0         \n",
      "=================================================================\n",
      "Total params: 3,961,088\n",
      "Trainable params: 3,955,088\n",
      "Non-trainable params: 6,000\n",
      "_________________________________________________________________\n"
     ]
    }
   ],
   "source": [
    "model = tf.keras.Sequential()\n",
    "model.add(embedding_layer)\n",
    "model.add(layer)\n",
    "model.add(dense)\n",
    "model.add(activation)\n",
    "model.compile(loss=crossentropy, optimizer=optimizer)\n",
    "model.summary()"
   ]
  },
  {
   "cell_type": "markdown",
   "metadata": {},
   "source": [
    "\n",
    "<h4>2. Trainable Variables</h4>\n"
   ]
  },
  {
   "cell_type": "markdown",
   "metadata": {},
   "source": [
    "Defining a variable, if you passed <i>trainable=True</i>, the variable constructor automatically adds new variables to the graph collection <b>GraphKeys.TRAINABLE_VARIABLES</b>. Now, using <i>tf.trainable_variables()</i> you can get all variables created with <b>trainable=True</b>.\n"
   ]
  },
  {
   "cell_type": "code",
   "execution_count": 40,
   "metadata": {},
   "outputs": [],
   "source": [
    "# Get all TensorFlow variables marked as \"trainable\" (i.e. all of them except _lr, which we just created)\n",
    "tvars = model.trainable_variables"
   ]
  },
  {
   "cell_type": "markdown",
   "metadata": {},
   "source": [
    "Note: we can find the name and scope of all variables:\n"
   ]
  },
  {
   "cell_type": "code",
   "execution_count": 41,
   "metadata": {},
   "outputs": [
    {
     "data": {
      "text/plain": [
       "['embedding_vocab/embeddings:0',\n",
       " 'rnn/stacked_rnn_cells/lstm_cell/kernel:0',\n",
       " 'rnn/stacked_rnn_cells/lstm_cell/recurrent_kernel:0',\n",
       " 'rnn/stacked_rnn_cells/lstm_cell/bias:0',\n",
       " 'rnn/stacked_rnn_cells/lstm_cell_1/kernel:0',\n",
       " 'rnn/stacked_rnn_cells/lstm_cell_1/recurrent_kernel:0',\n",
       " 'rnn/stacked_rnn_cells/lstm_cell_1/bias:0',\n",
       " 'dense/kernel:0',\n",
       " 'dense/bias:0']"
      ]
     },
     "execution_count": 41,
     "metadata": {},
     "output_type": "execute_result"
    }
   ],
   "source": [
    "[v.name for v in tvars] "
   ]
  },
  {
   "cell_type": "markdown",
   "metadata": {},
   "source": [
    "<h4>3. Calculate the gradients based on the loss function</h4>\n"
   ]
  },
  {
   "cell_type": "markdown",
   "metadata": {},
   "source": [
    "**Gradient**: The gradient of a function is the slope of its derivative (line), or in other words, the rate of change of a function. It's a vector (a direction to move) that points in the direction of greatest increase of the function, and calculated by the <b>derivative</b> operation.\n"
   ]
  },
  {
   "cell_type": "markdown",
   "metadata": {},
   "source": [
    "First lets recall the gradient function using an toy example:\n",
    "$$ z = \\left(2x^2 + 3xy\\right)$$\n"
   ]
  },
  {
   "cell_type": "code",
   "execution_count": 42,
   "metadata": {},
   "outputs": [],
   "source": [
    "x = tf.constant(1.0)\n",
    "y =  tf.constant(2.0)\n",
    "with tf.GradientTape(persistent=True) as g:\n",
    "    g.watch(x)\n",
    "    g.watch(y)\n",
    "    func_test = 2 * x * x + 3 * x * y"
   ]
  },
  {
   "cell_type": "markdown",
   "metadata": {},
   "source": [
    "The <b>tf.gradients()</b> function allows you to compute the symbolic gradient of one tensor with respect to one or more other tensors—including variables. <b>tf.gradients(func, xs)</b> constructs symbolic partial derivatives of sum of <b>func</b> w.r.t. <i>x</i> in <b>xs</b>. \n",
    "\n",
    "Now, lets look at the derivitive w.r.t. <b>var_x</b>:\n",
    "$$ \\frac{\\partial \\:}{\\partial \\:x}\\left(2x^2 + 3xy\\right) = 4x + 3y $$\n"
   ]
  },
  {
   "cell_type": "code",
   "execution_count": 43,
   "metadata": {},
   "outputs": [
    {
     "name": "stdout",
     "output_type": "stream",
     "text": [
      "tf.Tensor(10.0, shape=(), dtype=float32)\n"
     ]
    }
   ],
   "source": [
    "var_grad = g.gradient(func_test, x) # Will compute to 10.0\n",
    "print(var_grad)"
   ]
  },
  {
   "cell_type": "markdown",
   "metadata": {},
   "source": [
    "the derivative w.r.t. <b>var_y</b>:\n",
    "$$ \\frac{\\partial \\:}{\\partial \\:y}\\left(2x^2 + 3xy\\right) = 3x $$\n"
   ]
  },
  {
   "cell_type": "code",
   "execution_count": 44,
   "metadata": {},
   "outputs": [
    {
     "name": "stdout",
     "output_type": "stream",
     "text": [
      "tf.Tensor(3.0, shape=(), dtype=float32)\n"
     ]
    }
   ],
   "source": [
    "var_grad = g.gradient(func_test, y) # Will compute to 3.0\n",
    "print(var_grad)"
   ]
  },
  {
   "cell_type": "markdown",
   "metadata": {},
   "source": [
    "Now, we can look at gradients w.r.t all variables:\n"
   ]
  },
  {
   "cell_type": "code",
   "execution_count": 45,
   "metadata": {},
   "outputs": [],
   "source": [
    "with tf.GradientTape() as tape:\n",
    "    # Forward pass.\n",
    "    output_words_prob = model(_input_data)\n",
    "    # Loss value for this batch.\n",
    "    loss  = crossentropy(_targets, output_words_prob)\n",
    "    cost = tf.reduce_sum(loss,axis=0) / batch_size"
   ]
  },
  {
   "cell_type": "code",
   "execution_count": 46,
   "metadata": {},
   "outputs": [],
   "source": [
    "# Get gradients of loss wrt the trainable variables.\n",
    "grad_t_list = tape.gradient(cost, tvars)"
   ]
  },
  {
   "cell_type": "code",
   "execution_count": 47,
   "metadata": {},
   "outputs": [
    {
     "name": "stdout",
     "output_type": "stream",
     "text": [
      "[<tensorflow.python.framework.indexed_slices.IndexedSlices object at 0x7f2ed8f73050>, <tf.Tensor: shape=(200, 1024), dtype=float32, numpy=\n",
      "array([[-7.3556862e-08,  8.4814724e-07,  3.3769425e-07, ...,\n",
      "         3.1712929e-08,  2.7982562e-08, -2.2667733e-07],\n",
      "       [ 1.7691401e-07, -8.1491271e-07,  2.7457219e-07, ...,\n",
      "         1.1958238e-07, -2.4505715e-07, -2.6092758e-07],\n",
      "       [ 8.4230507e-09,  6.2467097e-07,  6.5047755e-07, ...,\n",
      "        -1.5244284e-07, -4.9721359e-07,  4.0455825e-07],\n",
      "       ...,\n",
      "       [ 1.3765406e-07, -1.0662394e-06,  5.3579743e-07, ...,\n",
      "        -4.8731494e-08, -2.6181240e-07,  8.2824528e-08],\n",
      "       [-5.5247779e-07, -2.1600964e-07, -1.8407550e-07, ...,\n",
      "        -4.7365927e-07, -9.8591563e-08,  3.3066232e-07],\n",
      "       [-3.3077370e-08, -6.3026778e-07, -2.2026154e-07, ...,\n",
      "        -3.0161537e-08,  1.3750582e-07, -8.5384400e-08]], dtype=float32)>, <tf.Tensor: shape=(256, 1024), dtype=float32, numpy=\n",
      "array([[-1.2192010e-07, -1.3798559e-08, -1.3842850e-07, ...,\n",
      "        -2.6244507e-08,  1.5869921e-07, -5.7699538e-08],\n",
      "       [-8.3619746e-08, -3.1398443e-08,  3.3020363e-08, ...,\n",
      "         5.9042875e-08,  7.5242454e-08,  2.8482695e-08],\n",
      "       [-4.4135003e-08,  9.0373696e-08, -9.1642647e-08, ...,\n",
      "         9.0100883e-08,  1.3548373e-08,  5.0821448e-08],\n",
      "       ...,\n",
      "       [-8.6235730e-08, -1.8150942e-08, -6.0133488e-08, ...,\n",
      "         5.7890926e-08,  1.3651922e-07,  2.3311863e-07],\n",
      "       [-1.3841913e-07, -3.5197253e-08, -5.3044218e-08, ...,\n",
      "         1.0258578e-08,  3.4265366e-07,  1.1510686e-08],\n",
      "       [ 1.6420756e-08,  1.2336869e-07,  7.1701734e-08, ...,\n",
      "         5.3204523e-08,  5.7817992e-08,  4.6899112e-07]], dtype=float32)>, <tf.Tensor: shape=(1024,), dtype=float32, numpy=\n",
      "array([-2.5270234e-05,  1.4276289e-05, -3.5383571e-06, ...,\n",
      "       -1.6497987e-05,  2.0426187e-05,  1.6491580e-05], dtype=float32)>, <tf.Tensor: shape=(256, 512), dtype=float32, numpy=\n",
      "array([[ 8.09383636e-08, -2.94028730e-08,  1.96281832e-07, ...,\n",
      "         1.05873269e-07,  8.22090271e-08, -2.39459759e-08],\n",
      "       [-8.32967118e-09,  5.08743483e-08,  2.90636848e-08, ...,\n",
      "         7.83059306e-08, -1.27682597e-07, -1.14191451e-07],\n",
      "       [-1.49949017e-07, -2.08833200e-07,  4.97130159e-09, ...,\n",
      "         3.80922067e-08, -3.09941726e-08, -1.64071196e-07],\n",
      "       ...,\n",
      "       [-2.51865551e-08, -4.60333922e-08,  2.78743730e-08, ...,\n",
      "         2.43501404e-07,  6.83387782e-08, -2.30896688e-07],\n",
      "       [-1.17080802e-07,  4.92945134e-08, -2.61788500e-07, ...,\n",
      "         1.39368879e-07, -3.16457488e-07, -1.54635032e-07],\n",
      "       [-3.55376280e-08, -8.23649344e-08, -1.02524716e-07, ...,\n",
      "         1.96420800e-07,  1.91199206e-07,  2.12202977e-07]], dtype=float32)>, <tf.Tensor: shape=(128, 512), dtype=float32, numpy=\n",
      "array([[ 1.1863163e-07,  8.5701842e-08,  1.1776821e-07, ...,\n",
      "        -2.8525145e-08, -9.5248929e-08, -5.1893645e-10],\n",
      "       [ 3.3667229e-09,  2.4137847e-07,  2.9264893e-08, ...,\n",
      "         6.6008994e-09, -1.5070137e-07,  5.4381051e-09],\n",
      "       [-9.5910977e-09,  1.1700274e-07,  1.0797201e-07, ...,\n",
      "        -1.0117300e-07, -6.9188928e-08,  9.6467176e-08],\n",
      "       ...,\n",
      "       [ 1.7164144e-08, -3.8031978e-08, -2.4171733e-08, ...,\n",
      "        -8.1397964e-08, -7.1334991e-09,  7.7966327e-09],\n",
      "       [ 1.1558789e-07,  1.2284859e-07, -3.1332803e-10, ...,\n",
      "         3.0964532e-08, -2.3557119e-07,  4.6989104e-08],\n",
      "       [ 1.1039998e-07, -5.3210101e-08,  8.4322522e-08, ...,\n",
      "        -8.0664861e-08, -1.6863780e-08,  6.3712626e-08]], dtype=float32)>, <tf.Tensor: shape=(512,), dtype=float32, numpy=\n",
      "array([-9.19202284e-06, -8.44440819e-07,  4.80022481e-06,  5.45955045e-05,\n",
      "        3.43763804e-06,  3.70513444e-05,  1.94590393e-05,  5.75070408e-06,\n",
      "       -3.84098312e-05, -5.07063814e-05, -1.26501272e-05,  6.47534625e-06,\n",
      "        4.89723425e-05, -1.84544206e-05, -2.67286941e-06,  4.66025158e-05,\n",
      "       -2.05862198e-05,  1.70723542e-05,  2.79695178e-06, -6.00010899e-05,\n",
      "       -8.52214143e-05,  1.22676693e-05, -1.67714734e-05, -3.75041382e-05,\n",
      "       -1.48597665e-05,  1.71066531e-05,  1.18742164e-05, -2.47794924e-06,\n",
      "        7.92926221e-06, -5.12149345e-05,  6.91827663e-05, -3.95650532e-05,\n",
      "        2.57715656e-05, -1.36430226e-05,  1.99740916e-05,  9.69812027e-06,\n",
      "        8.26060386e-06,  7.29510884e-06, -1.06024345e-06, -5.04757918e-05,\n",
      "       -2.54995975e-05, -3.07954906e-05, -3.68839173e-05,  3.26732843e-05,\n",
      "        2.93395842e-05,  1.28846150e-05,  1.84399742e-05,  6.15243880e-06,\n",
      "        2.90296102e-05, -5.04463969e-07, -3.67107241e-05,  9.50541835e-06,\n",
      "        5.36491716e-05, -3.89721172e-05, -1.96245473e-05, -5.58790707e-05,\n",
      "        3.92661823e-05,  2.74491249e-05,  2.38235698e-05,  4.20145334e-05,\n",
      "       -1.19142151e-05, -3.64619882e-05,  4.11060537e-05,  4.27631585e-06,\n",
      "        4.32206798e-06,  8.92952157e-05,  1.99615697e-05,  5.61898123e-05,\n",
      "        4.95120730e-06,  6.26471010e-05,  1.33981503e-05,  1.99399092e-05,\n",
      "        1.17239028e-06,  6.59709549e-05, -1.06944481e-05,  9.78677599e-06,\n",
      "       -5.73764919e-05, -8.24634662e-06,  4.03581507e-05,  2.34845611e-05,\n",
      "       -1.38396799e-05, -2.02592837e-05, -2.00237409e-05, -2.26792145e-05,\n",
      "       -2.74554332e-05,  1.28001766e-05, -3.70454654e-05, -1.69022514e-05,\n",
      "        9.99369945e-07,  3.06196671e-05, -1.98706257e-05,  1.78792216e-05,\n",
      "       -2.54350766e-06,  2.40618010e-05,  2.04819371e-05, -4.64616551e-06,\n",
      "        2.35406969e-06,  1.73439585e-05,  2.30458118e-05, -4.71024978e-05,\n",
      "       -1.42073724e-04,  6.29618808e-06,  2.08702545e-07,  3.32073105e-05,\n",
      "       -4.99247108e-05, -1.42623321e-07,  4.12728223e-05,  5.37824890e-05,\n",
      "        5.03991578e-06,  5.06576635e-06, -1.76438771e-05,  9.39853635e-05,\n",
      "        3.54938966e-05, -3.52932220e-05, -2.98968553e-05,  2.20204583e-05,\n",
      "       -6.34416429e-05, -2.22247654e-05,  8.79920844e-06, -1.14584564e-05,\n",
      "       -9.51767943e-05,  4.03990889e-05, -4.29806823e-06,  6.60477526e-05,\n",
      "        5.57742169e-07,  2.15293931e-05,  3.79576886e-05, -2.74604281e-05,\n",
      "        5.36976040e-06,  4.15768955e-06, -2.32508864e-06,  8.13335355e-05,\n",
      "        2.72966590e-05,  5.24638162e-05,  2.46636100e-05, -5.59842010e-06,\n",
      "       -6.58877907e-05, -6.40430007e-05, -3.09659590e-05,  2.26156953e-05,\n",
      "        6.27608897e-05, -3.21844927e-05,  4.65123776e-06,  7.96644454e-05,\n",
      "       -3.55297161e-05,  3.45688641e-05, -4.80874041e-06, -8.75236146e-05,\n",
      "       -1.18725809e-04,  1.85031786e-05, -1.45852191e-05, -4.54863548e-05,\n",
      "       -2.65392864e-05,  3.37250749e-05,  2.26938082e-05,  4.55520239e-06,\n",
      "       -7.32559784e-06, -7.56558657e-05,  1.20274657e-04, -7.00666351e-05,\n",
      "        4.09015411e-05, -1.73836215e-05,  1.75769219e-06,  2.77073923e-07,\n",
      "        6.97829637e-06, -1.40020256e-05, -2.65685667e-05, -7.61112969e-05,\n",
      "       -6.91040914e-05, -3.32915042e-05, -4.56901616e-05,  1.24876697e-05,\n",
      "        3.78129553e-05,  1.73602803e-05,  3.10540490e-05, -1.45669683e-05,\n",
      "        5.11491926e-05, -1.64621961e-05, -3.54713338e-05,  2.45396404e-05,\n",
      "        8.21085196e-05, -2.02830524e-05, -5.92499418e-05, -1.01522739e-04,\n",
      "        8.52724261e-05,  2.48353244e-05,  5.92700999e-05,  6.93441980e-05,\n",
      "        1.98578928e-05, -3.94361923e-05,  6.50283837e-05,  2.27186429e-05,\n",
      "        2.86177419e-05,  1.17122720e-04,  2.82130022e-05,  5.85549060e-05,\n",
      "       -8.33239210e-06,  7.94032821e-05,  6.42914620e-06,  8.70839140e-05,\n",
      "        3.58047619e-05,  1.04490944e-04, -5.66217659e-06, -2.90380631e-05,\n",
      "       -6.15742465e-05, -1.32326550e-05,  4.59856492e-05,  6.36443801e-05,\n",
      "       -1.60929994e-05, -1.46848251e-05, -4.55885602e-05, -2.08422389e-05,\n",
      "       -3.91360554e-05,  3.51619092e-05, -5.10793543e-05, -1.33129406e-05,\n",
      "        9.15598775e-06,  7.15238566e-05, -3.58947946e-05,  4.83039148e-05,\n",
      "       -1.76943126e-06,  2.07328649e-05,  1.92511070e-05, -5.04286527e-06,\n",
      "        8.96402344e-06,  3.45268054e-05,  2.64286846e-05, -4.31956869e-05,\n",
      "       -2.12648738e-04,  5.41494555e-05,  2.27373130e-06,  5.38852582e-05,\n",
      "       -8.36386098e-05,  2.12279574e-05,  7.28927189e-05,  4.01879661e-05,\n",
      "        1.20438654e-05,  1.52308139e-05, -5.31511978e-06,  1.49516418e-04,\n",
      "        5.02352341e-05, -4.73475629e-05, -2.90300850e-05,  1.74535453e-05,\n",
      "       -8.21565263e-05, -1.79790841e-05,  2.63173260e-05, -5.56460191e-06,\n",
      "       -1.63937104e-04,  3.87070941e-05,  1.24950820e-05,  1.05176587e-04,\n",
      "       -6.91796231e-07,  1.64091743e-05,  4.72161882e-05, -2.15397540e-05,\n",
      "        1.10412966e-02,  1.39980493e-02,  1.24447541e-02,  2.00334638e-02,\n",
      "       -1.59909762e-02, -3.99516225e-02, -2.79558613e-03, -5.47178788e-04,\n",
      "       -3.27526890e-02, -2.41543725e-02, -2.73981504e-02, -3.18795396e-03,\n",
      "        1.88168567e-02, -7.48744514e-03, -2.19587851e-02,  4.26575169e-02,\n",
      "        3.30395103e-02,  2.11173780e-02,  1.37847580e-03, -3.41099687e-02,\n",
      "        2.89935619e-02,  2.25215647e-02,  2.23579109e-02,  1.34129301e-02,\n",
      "       -1.47568679e-03,  4.62013856e-02, -3.41197476e-02, -4.64675156e-03,\n",
      "        1.67222340e-02, -1.00645470e-02, -5.80000468e-02,  5.78954071e-02,\n",
      "       -7.08979834e-03,  4.10568900e-05, -1.01981005e-02, -2.17963569e-02,\n",
      "        3.18906158e-02,  1.71400607e-02,  2.54690982e-02, -1.63627602e-02,\n",
      "       -1.20073752e-02,  1.57360863e-02, -6.36979938e-03,  2.50469465e-02,\n",
      "        1.96774174e-02, -1.42486040e-02, -4.92816232e-03,  4.92245741e-02,\n",
      "       -1.92445852e-02,  3.68480049e-02, -5.44828037e-03, -4.47588488e-02,\n",
      "        3.48856226e-02,  5.86439203e-03,  2.66438928e-02,  2.01782994e-02,\n",
      "        1.51327085e-02,  2.72752792e-02, -4.32159863e-02, -1.82671398e-02,\n",
      "       -2.50417329e-02,  1.25476308e-02, -6.66267006e-03,  1.61873959e-02,\n",
      "        2.10096855e-02,  6.40597753e-03, -1.60253048e-02, -3.82283106e-02,\n",
      "       -2.30317563e-03,  2.67355749e-03,  3.86170372e-02, -9.01414547e-03,\n",
      "        1.43048950e-02,  4.17218432e-02, -3.60162705e-02, -1.76120587e-02,\n",
      "        8.66012648e-04, -2.25721188e-02, -3.44266333e-02,  3.32327858e-02,\n",
      "        9.51512437e-03, -4.51900437e-02,  1.82610862e-02, -1.11477757e-02,\n",
      "        9.38632898e-03,  9.30085592e-03, -9.06114094e-03, -3.33567616e-03,\n",
      "        8.69004894e-03,  6.88363463e-02, -1.01936590e-02, -1.24949189e-02,\n",
      "       -2.87306905e-02, -2.39035133e-02, -3.73863205e-02, -6.10124366e-03,\n",
      "       -2.68426258e-04, -6.23524264e-02, -1.01034250e-02,  3.16188559e-02,\n",
      "        6.93499595e-02, -1.23856962e-02,  8.61250330e-03, -1.07208742e-02,\n",
      "        2.81517264e-02,  1.83784757e-02,  4.54278514e-02, -3.73761505e-02,\n",
      "       -1.91827100e-02, -7.02897180e-03,  1.82047747e-02,  4.60543111e-02,\n",
      "       -7.87631609e-03, -8.55726749e-03, -4.46028039e-02, -1.86268184e-02,\n",
      "       -4.08725515e-02, -1.85534991e-02, -7.93337636e-03,  3.18036191e-02,\n",
      "        3.54785360e-02,  3.03659420e-02, -1.39194238e-03,  2.16650926e-02,\n",
      "       -1.25239976e-02, -5.48613211e-03, -2.19890233e-02,  3.32874665e-03,\n",
      "       -1.47483115e-05, -1.35707023e-06, -5.12682527e-06,  5.86782407e-05,\n",
      "       -1.50592450e-06,  3.65993728e-05,  1.78104729e-05,  1.98041926e-06,\n",
      "       -4.47308703e-05, -5.70260891e-05, -1.68971819e-05,  6.56798238e-06,\n",
      "        5.10000646e-05, -1.96862256e-05, -3.32555783e-06,  4.99541748e-05,\n",
      "       -2.24970754e-05,  2.08029815e-05, -3.74125557e-06, -6.73043251e-05,\n",
      "       -9.28120717e-05,  8.39924178e-06, -2.23019051e-05, -3.50910232e-05,\n",
      "       -2.41493544e-05,  2.57822667e-05,  1.71383017e-05, -9.63132334e-06,\n",
      "        9.62000649e-06, -6.06390677e-05,  9.03830296e-05, -4.72410502e-05,\n",
      "        2.24916330e-05, -1.46055681e-05,  1.97533136e-05,  1.35758582e-05,\n",
      "        8.53898200e-07,  8.10363053e-06, -8.57750365e-06, -5.81357381e-05,\n",
      "       -5.06501092e-05, -2.48167908e-05, -4.84629927e-05,  2.80466775e-05,\n",
      "        3.44000655e-05,  1.98179514e-05,  1.94466738e-05,  4.52916174e-06,\n",
      "        4.36445553e-05, -1.42297449e-05, -2.99809108e-05,  1.39367803e-05,\n",
      "        5.99800478e-05, -4.09132481e-05, -2.83308254e-05, -6.34093230e-05,\n",
      "        4.92676409e-05,  2.62897611e-05,  3.61692510e-05,  5.10743412e-05,\n",
      "       -1.83084194e-06, -3.33387834e-05,  5.48041717e-05, -1.34753918e-06,\n",
      "        1.73180615e-05,  8.79049694e-05,  1.31283668e-05,  5.40627079e-05,\n",
      "        2.22182462e-06,  7.07094368e-05,  1.06594734e-05,  3.32106283e-05,\n",
      "        9.13968506e-06,  7.94037551e-05, -1.03878865e-05,  7.54267967e-06,\n",
      "       -5.49118340e-05, -3.60910053e-06,  4.66160054e-05,  2.57020965e-05,\n",
      "       -1.85829285e-05, -1.70182757e-05, -1.94753575e-05, -2.94395541e-05,\n",
      "       -2.74839003e-05,  2.45995325e-05, -3.98494194e-05, -1.06883663e-05,\n",
      "        5.52261690e-06,  4.09259846e-05, -2.37430686e-05,  1.86908546e-05,\n",
      "        3.12242719e-06,  2.39109104e-05,  2.33242718e-05, -3.49175298e-06,\n",
      "       -2.87775742e-06,  2.73138412e-05,  2.96381731e-05, -5.74844307e-05,\n",
      "       -1.71318025e-04,  7.74609998e-06, -7.18132924e-06,  3.77870747e-05,\n",
      "       -5.35275904e-05,  2.12415489e-06,  5.16360087e-05,  5.53017890e-05,\n",
      "       -6.86763087e-07,  6.26341443e-06, -9.51858601e-06,  1.14704424e-04,\n",
      "        3.77485558e-05, -3.61812781e-05, -2.71913705e-05,  2.14895827e-05,\n",
      "       -7.81081762e-05, -2.74216964e-05,  1.69548894e-05, -5.65007758e-06,\n",
      "       -1.09652945e-04,  5.00372989e-05, -1.19450306e-06,  7.98609253e-05,\n",
      "       -1.12159632e-05,  2.52760237e-05,  3.96144387e-05, -2.52358332e-05],\n",
      "      dtype=float32)>, <tf.Tensor: shape=(128, 10000), dtype=float32, numpy=\n",
      "array([[ 1.5134873e-03,  2.5225880e-03,  5.6770945e-04, ...,\n",
      "        -1.4021402e-06, -1.4016859e-06, -1.4025660e-06],\n",
      "       [-3.2127879e-04, -1.2920317e-03,  1.9123379e-04, ...,\n",
      "         6.1349135e-07,  6.1374652e-07,  6.1265735e-07],\n",
      "       [ 9.3268231e-05,  1.8892675e-03,  1.2923182e-03, ...,\n",
      "        -8.0029923e-07, -8.0151165e-07, -8.0103865e-07],\n",
      "       ...,\n",
      "       [ 1.1612328e-03,  1.3923463e-03,  5.3102965e-04, ...,\n",
      "        -2.3879029e-06, -2.3885841e-06, -2.3879609e-06],\n",
      "       [ 7.7235594e-04,  5.2737677e-04,  9.8973431e-04, ...,\n",
      "        -2.1508056e-06, -2.1519636e-06, -2.1499825e-06],\n",
      "       [-8.9875225e-04, -8.5727434e-04, -5.7060114e-04, ...,\n",
      "         1.4066487e-06,  1.4088282e-06,  1.4079337e-06]], dtype=float32)>, <tf.Tensor: shape=(10000,), dtype=float32, numpy=\n",
      "array([-0.79799813, -1.0313318 , -1.0313314 , ...,  0.00199983,\n",
      "        0.00200046,  0.00199997], dtype=float32)>]\n"
     ]
    }
   ],
   "source": [
    "print(grad_t_list)"
   ]
  },
  {
   "cell_type": "markdown",
   "metadata": {},
   "source": [
    "\n",
    "\n",
    "\n",
    "now, we have a list of tensors, t-list. We can use it to find clipped tensors. <b>clip_by_global_norm</b> clips values of multiple tensors by the ratio of the sum of their norms.\n",
    "\n",
    "<b>clip_by_global_norm</b> get <i>t-list</i> as input and returns 2 things:\n",
    "<ul>\n",
    "    <li>a list of clipped tensors, so called <i>list_clipped</i></li> \n",
    "    <li>the global norm (global_norm) of all tensors in t_list</li> \n",
    "</ul>\n"
   ]
  },
  {
   "cell_type": "code",
   "execution_count": 48,
   "metadata": {},
   "outputs": [
    {
     "data": {
      "text/plain": [
       "[<tensorflow.python.framework.indexed_slices.IndexedSlices at 0x7f2ed8f0e090>,\n",
       " <tf.Tensor: shape=(200, 1024), dtype=float32, numpy=\n",
       " array([[-7.3556862e-08,  8.4814724e-07,  3.3769425e-07, ...,\n",
       "          3.1712929e-08,  2.7982562e-08, -2.2667733e-07],\n",
       "        [ 1.7691401e-07, -8.1491271e-07,  2.7457219e-07, ...,\n",
       "          1.1958238e-07, -2.4505715e-07, -2.6092758e-07],\n",
       "        [ 8.4230507e-09,  6.2467097e-07,  6.5047755e-07, ...,\n",
       "         -1.5244284e-07, -4.9721359e-07,  4.0455825e-07],\n",
       "        ...,\n",
       "        [ 1.3765406e-07, -1.0662394e-06,  5.3579743e-07, ...,\n",
       "         -4.8731494e-08, -2.6181240e-07,  8.2824528e-08],\n",
       "        [-5.5247779e-07, -2.1600964e-07, -1.8407550e-07, ...,\n",
       "         -4.7365927e-07, -9.8591563e-08,  3.3066232e-07],\n",
       "        [-3.3077370e-08, -6.3026778e-07, -2.2026154e-07, ...,\n",
       "         -3.0161537e-08,  1.3750582e-07, -8.5384400e-08]], dtype=float32)>,\n",
       " <tf.Tensor: shape=(256, 1024), dtype=float32, numpy=\n",
       " array([[-1.2192010e-07, -1.3798559e-08, -1.3842850e-07, ...,\n",
       "         -2.6244507e-08,  1.5869921e-07, -5.7699538e-08],\n",
       "        [-8.3619746e-08, -3.1398443e-08,  3.3020363e-08, ...,\n",
       "          5.9042875e-08,  7.5242454e-08,  2.8482695e-08],\n",
       "        [-4.4135003e-08,  9.0373696e-08, -9.1642647e-08, ...,\n",
       "          9.0100883e-08,  1.3548373e-08,  5.0821448e-08],\n",
       "        ...,\n",
       "        [-8.6235730e-08, -1.8150942e-08, -6.0133488e-08, ...,\n",
       "          5.7890926e-08,  1.3651922e-07,  2.3311863e-07],\n",
       "        [-1.3841913e-07, -3.5197253e-08, -5.3044218e-08, ...,\n",
       "          1.0258578e-08,  3.4265366e-07,  1.1510686e-08],\n",
       "        [ 1.6420756e-08,  1.2336869e-07,  7.1701734e-08, ...,\n",
       "          5.3204523e-08,  5.7817992e-08,  4.6899112e-07]], dtype=float32)>,\n",
       " <tf.Tensor: shape=(1024,), dtype=float32, numpy=\n",
       " array([-2.5270234e-05,  1.4276289e-05, -3.5383571e-06, ...,\n",
       "        -1.6497987e-05,  2.0426187e-05,  1.6491580e-05], dtype=float32)>,\n",
       " <tf.Tensor: shape=(256, 512), dtype=float32, numpy=\n",
       " array([[ 8.09383636e-08, -2.94028730e-08,  1.96281832e-07, ...,\n",
       "          1.05873269e-07,  8.22090271e-08, -2.39459759e-08],\n",
       "        [-8.32967118e-09,  5.08743483e-08,  2.90636848e-08, ...,\n",
       "          7.83059306e-08, -1.27682597e-07, -1.14191451e-07],\n",
       "        [-1.49949017e-07, -2.08833200e-07,  4.97130159e-09, ...,\n",
       "          3.80922067e-08, -3.09941726e-08, -1.64071196e-07],\n",
       "        ...,\n",
       "        [-2.51865551e-08, -4.60333922e-08,  2.78743730e-08, ...,\n",
       "          2.43501404e-07,  6.83387782e-08, -2.30896688e-07],\n",
       "        [-1.17080802e-07,  4.92945134e-08, -2.61788500e-07, ...,\n",
       "          1.39368879e-07, -3.16457488e-07, -1.54635032e-07],\n",
       "        [-3.55376280e-08, -8.23649344e-08, -1.02524716e-07, ...,\n",
       "          1.96420800e-07,  1.91199206e-07,  2.12202977e-07]], dtype=float32)>,\n",
       " <tf.Tensor: shape=(128, 512), dtype=float32, numpy=\n",
       " array([[ 1.1863163e-07,  8.5701842e-08,  1.1776821e-07, ...,\n",
       "         -2.8525145e-08, -9.5248929e-08, -5.1893645e-10],\n",
       "        [ 3.3667229e-09,  2.4137847e-07,  2.9264893e-08, ...,\n",
       "          6.6008994e-09, -1.5070137e-07,  5.4381051e-09],\n",
       "        [-9.5910977e-09,  1.1700274e-07,  1.0797201e-07, ...,\n",
       "         -1.0117300e-07, -6.9188928e-08,  9.6467176e-08],\n",
       "        ...,\n",
       "        [ 1.7164144e-08, -3.8031978e-08, -2.4171733e-08, ...,\n",
       "         -8.1397964e-08, -7.1334991e-09,  7.7966327e-09],\n",
       "        [ 1.1558789e-07,  1.2284859e-07, -3.1332803e-10, ...,\n",
       "          3.0964532e-08, -2.3557119e-07,  4.6989104e-08],\n",
       "        [ 1.1039998e-07, -5.3210101e-08,  8.4322522e-08, ...,\n",
       "         -8.0664861e-08, -1.6863780e-08,  6.3712626e-08]], dtype=float32)>,\n",
       " <tf.Tensor: shape=(512,), dtype=float32, numpy=\n",
       " array([-9.19202284e-06, -8.44440819e-07,  4.80022481e-06,  5.45955045e-05,\n",
       "         3.43763804e-06,  3.70513444e-05,  1.94590393e-05,  5.75070408e-06,\n",
       "        -3.84098312e-05, -5.07063814e-05, -1.26501272e-05,  6.47534625e-06,\n",
       "         4.89723425e-05, -1.84544206e-05, -2.67286941e-06,  4.66025158e-05,\n",
       "        -2.05862198e-05,  1.70723542e-05,  2.79695178e-06, -6.00010899e-05,\n",
       "        -8.52214143e-05,  1.22676693e-05, -1.67714734e-05, -3.75041382e-05,\n",
       "        -1.48597665e-05,  1.71066531e-05,  1.18742164e-05, -2.47794924e-06,\n",
       "         7.92926221e-06, -5.12149345e-05,  6.91827663e-05, -3.95650532e-05,\n",
       "         2.57715656e-05, -1.36430226e-05,  1.99740916e-05,  9.69812027e-06,\n",
       "         8.26060386e-06,  7.29510884e-06, -1.06024345e-06, -5.04757918e-05,\n",
       "        -2.54995975e-05, -3.07954906e-05, -3.68839173e-05,  3.26732843e-05,\n",
       "         2.93395842e-05,  1.28846150e-05,  1.84399742e-05,  6.15243880e-06,\n",
       "         2.90296102e-05, -5.04463969e-07, -3.67107241e-05,  9.50541835e-06,\n",
       "         5.36491716e-05, -3.89721172e-05, -1.96245473e-05, -5.58790707e-05,\n",
       "         3.92661823e-05,  2.74491249e-05,  2.38235698e-05,  4.20145334e-05,\n",
       "        -1.19142151e-05, -3.64619882e-05,  4.11060537e-05,  4.27631585e-06,\n",
       "         4.32206798e-06,  8.92952157e-05,  1.99615697e-05,  5.61898123e-05,\n",
       "         4.95120730e-06,  6.26471010e-05,  1.33981503e-05,  1.99399092e-05,\n",
       "         1.17239028e-06,  6.59709549e-05, -1.06944481e-05,  9.78677599e-06,\n",
       "        -5.73764919e-05, -8.24634662e-06,  4.03581507e-05,  2.34845611e-05,\n",
       "        -1.38396799e-05, -2.02592837e-05, -2.00237409e-05, -2.26792145e-05,\n",
       "        -2.74554332e-05,  1.28001766e-05, -3.70454654e-05, -1.69022514e-05,\n",
       "         9.99369945e-07,  3.06196671e-05, -1.98706257e-05,  1.78792216e-05,\n",
       "        -2.54350766e-06,  2.40618010e-05,  2.04819371e-05, -4.64616551e-06,\n",
       "         2.35406969e-06,  1.73439585e-05,  2.30458118e-05, -4.71024978e-05,\n",
       "        -1.42073724e-04,  6.29618808e-06,  2.08702545e-07,  3.32073105e-05,\n",
       "        -4.99247108e-05, -1.42623321e-07,  4.12728223e-05,  5.37824890e-05,\n",
       "         5.03991578e-06,  5.06576635e-06, -1.76438771e-05,  9.39853635e-05,\n",
       "         3.54938966e-05, -3.52932220e-05, -2.98968553e-05,  2.20204583e-05,\n",
       "        -6.34416429e-05, -2.22247654e-05,  8.79920844e-06, -1.14584564e-05,\n",
       "        -9.51767943e-05,  4.03990889e-05, -4.29806823e-06,  6.60477526e-05,\n",
       "         5.57742169e-07,  2.15293931e-05,  3.79576886e-05, -2.74604281e-05,\n",
       "         5.36976040e-06,  4.15768955e-06, -2.32508864e-06,  8.13335355e-05,\n",
       "         2.72966590e-05,  5.24638162e-05,  2.46636100e-05, -5.59842010e-06,\n",
       "        -6.58877907e-05, -6.40430007e-05, -3.09659590e-05,  2.26156953e-05,\n",
       "         6.27608897e-05, -3.21844927e-05,  4.65123776e-06,  7.96644454e-05,\n",
       "        -3.55297161e-05,  3.45688641e-05, -4.80874041e-06, -8.75236146e-05,\n",
       "        -1.18725809e-04,  1.85031786e-05, -1.45852191e-05, -4.54863548e-05,\n",
       "        -2.65392864e-05,  3.37250749e-05,  2.26938082e-05,  4.55520239e-06,\n",
       "        -7.32559784e-06, -7.56558657e-05,  1.20274657e-04, -7.00666351e-05,\n",
       "         4.09015411e-05, -1.73836215e-05,  1.75769219e-06,  2.77073923e-07,\n",
       "         6.97829637e-06, -1.40020256e-05, -2.65685667e-05, -7.61112969e-05,\n",
       "        -6.91040914e-05, -3.32915042e-05, -4.56901616e-05,  1.24876697e-05,\n",
       "         3.78129553e-05,  1.73602803e-05,  3.10540490e-05, -1.45669683e-05,\n",
       "         5.11491926e-05, -1.64621961e-05, -3.54713338e-05,  2.45396404e-05,\n",
       "         8.21085196e-05, -2.02830524e-05, -5.92499418e-05, -1.01522739e-04,\n",
       "         8.52724261e-05,  2.48353244e-05,  5.92700999e-05,  6.93441980e-05,\n",
       "         1.98578928e-05, -3.94361923e-05,  6.50283837e-05,  2.27186429e-05,\n",
       "         2.86177419e-05,  1.17122720e-04,  2.82130022e-05,  5.85549060e-05,\n",
       "        -8.33239210e-06,  7.94032821e-05,  6.42914620e-06,  8.70839140e-05,\n",
       "         3.58047619e-05,  1.04490944e-04, -5.66217659e-06, -2.90380631e-05,\n",
       "        -6.15742465e-05, -1.32326550e-05,  4.59856492e-05,  6.36443801e-05,\n",
       "        -1.60929994e-05, -1.46848251e-05, -4.55885602e-05, -2.08422389e-05,\n",
       "        -3.91360554e-05,  3.51619092e-05, -5.10793543e-05, -1.33129406e-05,\n",
       "         9.15598775e-06,  7.15238566e-05, -3.58947946e-05,  4.83039148e-05,\n",
       "        -1.76943126e-06,  2.07328649e-05,  1.92511070e-05, -5.04286527e-06,\n",
       "         8.96402344e-06,  3.45268054e-05,  2.64286846e-05, -4.31956869e-05,\n",
       "        -2.12648738e-04,  5.41494555e-05,  2.27373130e-06,  5.38852582e-05,\n",
       "        -8.36386098e-05,  2.12279574e-05,  7.28927189e-05,  4.01879661e-05,\n",
       "         1.20438654e-05,  1.52308139e-05, -5.31511978e-06,  1.49516418e-04,\n",
       "         5.02352341e-05, -4.73475629e-05, -2.90300850e-05,  1.74535453e-05,\n",
       "        -8.21565263e-05, -1.79790841e-05,  2.63173260e-05, -5.56460191e-06,\n",
       "        -1.63937104e-04,  3.87070941e-05,  1.24950820e-05,  1.05176587e-04,\n",
       "        -6.91796231e-07,  1.64091743e-05,  4.72161882e-05, -2.15397540e-05,\n",
       "         1.10412966e-02,  1.39980493e-02,  1.24447541e-02,  2.00334638e-02,\n",
       "        -1.59909762e-02, -3.99516225e-02, -2.79558613e-03, -5.47178788e-04,\n",
       "        -3.27526890e-02, -2.41543725e-02, -2.73981504e-02, -3.18795396e-03,\n",
       "         1.88168567e-02, -7.48744514e-03, -2.19587851e-02,  4.26575169e-02,\n",
       "         3.30395103e-02,  2.11173780e-02,  1.37847580e-03, -3.41099687e-02,\n",
       "         2.89935619e-02,  2.25215647e-02,  2.23579109e-02,  1.34129301e-02,\n",
       "        -1.47568679e-03,  4.62013856e-02, -3.41197476e-02, -4.64675156e-03,\n",
       "         1.67222340e-02, -1.00645470e-02, -5.80000468e-02,  5.78954071e-02,\n",
       "        -7.08979834e-03,  4.10568900e-05, -1.01981005e-02, -2.17963569e-02,\n",
       "         3.18906158e-02,  1.71400607e-02,  2.54690982e-02, -1.63627602e-02,\n",
       "        -1.20073752e-02,  1.57360863e-02, -6.36979938e-03,  2.50469465e-02,\n",
       "         1.96774174e-02, -1.42486040e-02, -4.92816232e-03,  4.92245741e-02,\n",
       "        -1.92445852e-02,  3.68480049e-02, -5.44828037e-03, -4.47588488e-02,\n",
       "         3.48856226e-02,  5.86439203e-03,  2.66438928e-02,  2.01782994e-02,\n",
       "         1.51327085e-02,  2.72752792e-02, -4.32159863e-02, -1.82671398e-02,\n",
       "        -2.50417329e-02,  1.25476308e-02, -6.66267006e-03,  1.61873959e-02,\n",
       "         2.10096855e-02,  6.40597753e-03, -1.60253048e-02, -3.82283106e-02,\n",
       "        -2.30317563e-03,  2.67355749e-03,  3.86170372e-02, -9.01414547e-03,\n",
       "         1.43048950e-02,  4.17218432e-02, -3.60162705e-02, -1.76120587e-02,\n",
       "         8.66012648e-04, -2.25721188e-02, -3.44266333e-02,  3.32327858e-02,\n",
       "         9.51512437e-03, -4.51900437e-02,  1.82610862e-02, -1.11477757e-02,\n",
       "         9.38632898e-03,  9.30085592e-03, -9.06114094e-03, -3.33567616e-03,\n",
       "         8.69004894e-03,  6.88363463e-02, -1.01936590e-02, -1.24949189e-02,\n",
       "        -2.87306905e-02, -2.39035133e-02, -3.73863205e-02, -6.10124366e-03,\n",
       "        -2.68426258e-04, -6.23524264e-02, -1.01034250e-02,  3.16188559e-02,\n",
       "         6.93499595e-02, -1.23856962e-02,  8.61250330e-03, -1.07208742e-02,\n",
       "         2.81517264e-02,  1.83784757e-02,  4.54278514e-02, -3.73761505e-02,\n",
       "        -1.91827100e-02, -7.02897180e-03,  1.82047747e-02,  4.60543111e-02,\n",
       "        -7.87631609e-03, -8.55726749e-03, -4.46028039e-02, -1.86268184e-02,\n",
       "        -4.08725515e-02, -1.85534991e-02, -7.93337636e-03,  3.18036191e-02,\n",
       "         3.54785360e-02,  3.03659420e-02, -1.39194238e-03,  2.16650926e-02,\n",
       "        -1.25239976e-02, -5.48613211e-03, -2.19890233e-02,  3.32874665e-03,\n",
       "        -1.47483115e-05, -1.35707023e-06, -5.12682527e-06,  5.86782407e-05,\n",
       "        -1.50592450e-06,  3.65993728e-05,  1.78104729e-05,  1.98041926e-06,\n",
       "        -4.47308703e-05, -5.70260891e-05, -1.68971819e-05,  6.56798238e-06,\n",
       "         5.10000646e-05, -1.96862256e-05, -3.32555783e-06,  4.99541748e-05,\n",
       "        -2.24970754e-05,  2.08029815e-05, -3.74125557e-06, -6.73043251e-05,\n",
       "        -9.28120717e-05,  8.39924178e-06, -2.23019051e-05, -3.50910232e-05,\n",
       "        -2.41493544e-05,  2.57822667e-05,  1.71383017e-05, -9.63132334e-06,\n",
       "         9.62000649e-06, -6.06390677e-05,  9.03830296e-05, -4.72410502e-05,\n",
       "         2.24916330e-05, -1.46055681e-05,  1.97533136e-05,  1.35758582e-05,\n",
       "         8.53898200e-07,  8.10363053e-06, -8.57750365e-06, -5.81357381e-05,\n",
       "        -5.06501092e-05, -2.48167908e-05, -4.84629927e-05,  2.80466775e-05,\n",
       "         3.44000655e-05,  1.98179514e-05,  1.94466738e-05,  4.52916174e-06,\n",
       "         4.36445553e-05, -1.42297449e-05, -2.99809108e-05,  1.39367803e-05,\n",
       "         5.99800478e-05, -4.09132481e-05, -2.83308254e-05, -6.34093230e-05,\n",
       "         4.92676409e-05,  2.62897611e-05,  3.61692510e-05,  5.10743412e-05,\n",
       "        -1.83084194e-06, -3.33387834e-05,  5.48041717e-05, -1.34753918e-06,\n",
       "         1.73180615e-05,  8.79049694e-05,  1.31283668e-05,  5.40627079e-05,\n",
       "         2.22182462e-06,  7.07094368e-05,  1.06594734e-05,  3.32106283e-05,\n",
       "         9.13968506e-06,  7.94037551e-05, -1.03878865e-05,  7.54267967e-06,\n",
       "        -5.49118340e-05, -3.60910053e-06,  4.66160054e-05,  2.57020965e-05,\n",
       "        -1.85829285e-05, -1.70182757e-05, -1.94753575e-05, -2.94395541e-05,\n",
       "        -2.74839003e-05,  2.45995325e-05, -3.98494194e-05, -1.06883663e-05,\n",
       "         5.52261690e-06,  4.09259846e-05, -2.37430686e-05,  1.86908546e-05,\n",
       "         3.12242719e-06,  2.39109104e-05,  2.33242718e-05, -3.49175298e-06,\n",
       "        -2.87775742e-06,  2.73138412e-05,  2.96381731e-05, -5.74844307e-05,\n",
       "        -1.71318025e-04,  7.74609998e-06, -7.18132924e-06,  3.77870747e-05,\n",
       "        -5.35275904e-05,  2.12415489e-06,  5.16360087e-05,  5.53017890e-05,\n",
       "        -6.86763087e-07,  6.26341443e-06, -9.51858601e-06,  1.14704424e-04,\n",
       "         3.77485558e-05, -3.61812781e-05, -2.71913705e-05,  2.14895827e-05,\n",
       "        -7.81081762e-05, -2.74216964e-05,  1.69548894e-05, -5.65007758e-06,\n",
       "        -1.09652945e-04,  5.00372989e-05, -1.19450306e-06,  7.98609253e-05,\n",
       "        -1.12159632e-05,  2.52760237e-05,  3.96144387e-05, -2.52358332e-05],\n",
       "       dtype=float32)>,\n",
       " <tf.Tensor: shape=(128, 10000), dtype=float32, numpy=\n",
       " array([[ 1.5134873e-03,  2.5225880e-03,  5.6770945e-04, ...,\n",
       "         -1.4021402e-06, -1.4016859e-06, -1.4025660e-06],\n",
       "        [-3.2127879e-04, -1.2920317e-03,  1.9123379e-04, ...,\n",
       "          6.1349135e-07,  6.1374652e-07,  6.1265735e-07],\n",
       "        [ 9.3268231e-05,  1.8892675e-03,  1.2923182e-03, ...,\n",
       "         -8.0029923e-07, -8.0151165e-07, -8.0103865e-07],\n",
       "        ...,\n",
       "        [ 1.1612328e-03,  1.3923463e-03,  5.3102965e-04, ...,\n",
       "         -2.3879029e-06, -2.3885841e-06, -2.3879609e-06],\n",
       "        [ 7.7235594e-04,  5.2737677e-04,  9.8973431e-04, ...,\n",
       "         -2.1508056e-06, -2.1519636e-06, -2.1499825e-06],\n",
       "        [-8.9875225e-04, -8.5727434e-04, -5.7060114e-04, ...,\n",
       "          1.4066487e-06,  1.4088282e-06,  1.4079337e-06]], dtype=float32)>,\n",
       " <tf.Tensor: shape=(10000,), dtype=float32, numpy=\n",
       " array([-0.79799813, -1.0313318 , -1.0313314 , ...,  0.00199983,\n",
       "         0.00200046,  0.00199997], dtype=float32)>]"
      ]
     },
     "execution_count": 48,
     "metadata": {},
     "output_type": "execute_result"
    }
   ],
   "source": [
    "# Define the gradient clipping threshold\n",
    "grads, _ = tf.clip_by_global_norm(grad_t_list, max_grad_norm)\n",
    "grads"
   ]
  },
  {
   "cell_type": "markdown",
   "metadata": {},
   "source": [
    "<h4> 4.Apply the optimizer to the variables/gradients tuple. </h4>\n"
   ]
  },
  {
   "cell_type": "code",
   "execution_count": 49,
   "metadata": {},
   "outputs": [],
   "source": [
    "# Create the training TensorFlow Operation through our optimizer\n",
    "train_op = optimizer.apply_gradients(zip(grads, tvars))"
   ]
  },
  {
   "cell_type": "markdown",
   "metadata": {},
   "source": [
    "<a id=\"ltsm\"></a>\n",
    "<h2>LSTM</h2>\n"
   ]
  },
  {
   "cell_type": "markdown",
   "metadata": {},
   "source": [
    "We learned how the model is build step by step. Noe, let's then create a Class that represents our model. This class needs a few things:\n",
    "<ul>\n",
    "    <li>We have to create the model in accordance with our defined hyperparameters</li>\n",
    "    <li>We have to create the LSTM cell structure and connect them with our RNN structure</li>\n",
    "    <li>We have to create the word embeddings and point them to the input data</li>\n",
    "    <li>We have to create the input structure for our RNN</li>\n",
    "    <li>We need to create a logistic structure to return the probability of our words</li>\n",
    "    <li>We need to create the loss and cost functions for our optimizer to work, and then create the optimizer</li>\n",
    "    <li>And finally, we need to create a training operation that can be run to actually train our model</li>\n",
    "</ul>\n"
   ]
  },
  {
   "cell_type": "code",
   "execution_count": 50,
   "metadata": {},
   "outputs": [],
   "source": [
    "class PTBModel(object):\n",
    "\n",
    "\n",
    "    def __init__(self):\n",
    "        ######################################\n",
    "        # Setting parameters for ease of use #\n",
    "        ######################################\n",
    "        self.batch_size = batch_size\n",
    "        self.num_steps = num_steps\n",
    "        self.hidden_size_l1 = hidden_size_l1\n",
    "        self.hidden_size_l2 = hidden_size_l2\n",
    "        self.vocab_size = vocab_size\n",
    "        self.embeding_vector_size = embeding_vector_size\n",
    "        # Create a variable for the learning rate\n",
    "        self._lr = 1.0\n",
    "        \n",
    "        ###############################################################################\n",
    "        # Initializing the model using keras Sequential API  #\n",
    "        ###############################################################################\n",
    "        \n",
    "        self._model = tf.keras.models.Sequential()\n",
    "        \n",
    "        ####################################################################\n",
    "        # Creating the word embeddings layer and adding it to the sequence #\n",
    "        ####################################################################\n",
    "        with tf.device(\"/cpu:0\"):\n",
    "            # Create the embeddings for our input data. Size is hidden size.\n",
    "            self._embedding_layer = tf.keras.layers.Embedding(self.vocab_size, self.embeding_vector_size,batch_input_shape=(self.batch_size, self.num_steps),trainable=True,name=\"embedding_vocab\")  #[10000x200]\n",
    "            self._model.add(self._embedding_layer)\n",
    "            \n",
    "\n",
    "        ##########################################################################\n",
    "        # Creating the LSTM cell structure and connect it with the RNN structure #\n",
    "        ##########################################################################\n",
    "        # Create the LSTM Cells. \n",
    "        # This creates only the structure for the LSTM and has to be associated with a RNN unit still.\n",
    "        # The argument  of LSTMCell is size of hidden layer, that is, the number of hidden units of the LSTM (inside A). \n",
    "        # LSTM cell processes one word at a time and computes probabilities of the possible continuations of the sentence.\n",
    "        lstm_cell_l1 = tf.keras.layers.LSTMCell(hidden_size_l1)\n",
    "        lstm_cell_l2 = tf.keras.layers.LSTMCell(hidden_size_l2)\n",
    "        \n",
    "\n",
    "        \n",
    "        # By taking in the LSTM cells as parameters, the StackedRNNCells function junctions the LSTM units to the RNN units.\n",
    "        # RNN cell composed sequentially of stacked simple cells.\n",
    "        stacked_lstm = tf.keras.layers.StackedRNNCells([lstm_cell_l1, lstm_cell_l2])\n",
    "\n",
    "\n",
    "        \n",
    "\n",
    "        ############################################\n",
    "        # Creating the input structure for our RNN #\n",
    "        ############################################\n",
    "        # Input structure is 20x[30x200]\n",
    "        # Considering each word is represended by a 200 dimentional vector, and we have 30 batchs, we create 30 word-vectors of size [30xx2000]\n",
    "        # The input structure is fed from the embeddings, which are filled in by the input data\n",
    "        # Feeding a batch of b sentences to a RNN:\n",
    "        # In step 1,  first word of each of the b sentences (in a batch) is input in parallel.  \n",
    "        # In step 2,  second word of each of the b sentences is input in parallel. \n",
    "        # The parallelism is only for efficiency.  \n",
    "        # Each sentence in a batch is handled in parallel, but the network sees one word of a sentence at a time and does the computations accordingly. \n",
    "        # All the computations involving the words of all sentences in a batch at a given time step are done in parallel. \n",
    "\n",
    "        ########################################################################################################\n",
    "        # Instantiating our RNN model and setting stateful to True to feed forward the state to the next layer #\n",
    "        ########################################################################################################\n",
    "        \n",
    "        self._RNNlayer  =  tf.keras.layers.RNN(stacked_lstm,[batch_size, num_steps],return_state=False,stateful=True,trainable=True)\n",
    "        \n",
    "        # Define the initial state, i.e., the model state for the very first data point\n",
    "        # It initialize the state of the LSTM memory. The memory state of the network is initialized with a vector of zeros and gets updated after reading each word.\n",
    "        self._initial_state = tf.Variable(tf.zeros([batch_size,embeding_vector_size]),trainable=False)\n",
    "        self._RNNlayer.inital_state = self._initial_state\n",
    "    \n",
    "        ############################################\n",
    "        # Adding RNN layer to keras sequential API #\n",
    "        ############################################        \n",
    "        self._model.add(self._RNNlayer)\n",
    "        \n",
    "        #self._model.add(tf.keras.layers.LSTM(hidden_size_l1,return_sequences=True,stateful=True))\n",
    "        #self._model.add(tf.keras.layers.LSTM(hidden_size_l2,return_sequences=True))\n",
    "        \n",
    "        \n",
    "        ####################################################################################################\n",
    "        # Instantiating a Dense layer that connects the output to the vocab_size  and adding layer to model#\n",
    "        ####################################################################################################\n",
    "        self._dense = tf.keras.layers.Dense(self.vocab_size)\n",
    "        self._model.add(self._dense)\n",
    " \n",
    "        \n",
    "        ####################################################################################################\n",
    "        # Adding softmax activation layer and deriving probability to each class and adding layer to model #\n",
    "        ####################################################################################################\n",
    "        self._activation = tf.keras.layers.Activation('softmax')\n",
    "        self._model.add(self._activation)\n",
    "\n",
    "        ##########################################################\n",
    "        # Instantiating the stochastic gradient decent optimizer #\n",
    "        ########################################################## \n",
    "        self._optimizer = tf.keras.optimizers.SGD(lr=self._lr, clipnorm=max_grad_norm)\n",
    "        \n",
    "        \n",
    "        ##############################################################################\n",
    "        # Compiling and summarizing the model stacked using the keras sequential API #\n",
    "        ##############################################################################\n",
    "        self._model.compile(loss=self.crossentropy, optimizer=self._optimizer)\n",
    "        self._model.summary()\n",
    "\n",
    "\n",
    "    def crossentropy(self,y_true, y_pred):\n",
    "        return tf.keras.losses.sparse_categorical_crossentropy(y_true, y_pred)\n",
    "\n",
    "    def train_batch(self,_input_data,_targets):\n",
    "        #################################################\n",
    "        # Creating the Training Operation for our Model #\n",
    "        #################################################\n",
    "        # Create a variable for the learning rate\n",
    "        self._lr = tf.Variable(0.0, trainable=False)\n",
    "        # Get all TensorFlow variables marked as \"trainable\" (i.e. all of them except _lr, which we just created)\n",
    "        tvars = self._model.trainable_variables\n",
    "        # Define the gradient clipping threshold\n",
    "        with tf.GradientTape() as tape:\n",
    "            # Forward pass.\n",
    "            output_words_prob = self._model(_input_data)\n",
    "            # Loss value for this batch.\n",
    "            loss  = self.crossentropy(_targets, output_words_prob)\n",
    "            # average across batch and reduce sum\n",
    "            cost = tf.reduce_sum(loss/ self.batch_size)\n",
    "        # Get gradients of loss wrt the trainable variables.\n",
    "        grad_t_list = tape.gradient(cost, tvars)\n",
    "        # Define the gradient clipping threshold\n",
    "        grads, _ = tf.clip_by_global_norm(grad_t_list, max_grad_norm)\n",
    "        # Create the training TensorFlow Operation through our optimizer\n",
    "        train_op = self._optimizer.apply_gradients(zip(grads, tvars))\n",
    "        return cost\n",
    "        \n",
    "    def test_batch(self,_input_data,_targets):\n",
    "        #################################################\n",
    "        # Creating the Testing Operation for our Model #\n",
    "        #################################################\n",
    "        output_words_prob = self._model(_input_data)\n",
    "        loss  = self.crossentropy(_targets, output_words_prob)\n",
    "        # average across batch and reduce sum\n",
    "        cost = tf.reduce_sum(loss/ self.batch_size)\n",
    "\n",
    "        return cost\n",
    "    @classmethod\n",
    "    def instance(cls) : \n",
    "        return PTBModel()"
   ]
  },
  {
   "cell_type": "markdown",
   "metadata": {},
   "source": [
    "With that, the actual structure of our Recurrent Neural Network with Long Short-Term Memory is finished. What remains for us to do is to actually create the methods to run through time -- that is, the <code>run_epoch</code> method to be run at each epoch and a <code>main</code> script which ties all of this together.\n",
    "\n",
    "What our <code>run_epoch</code> method should do is take our input data and feed it to the relevant operations. This will return at the very least the current result for the cost function.\n"
   ]
  },
  {
   "cell_type": "code",
   "execution_count": 51,
   "metadata": {},
   "outputs": [],
   "source": [
    "\n",
    "########################################################################################################################\n",
    "# run_one_epoch takes as parameters  the model instance, the data to be fed, training or testing mode and verbose info #\n",
    "########################################################################################################################\n",
    "def run_one_epoch(m, data,is_training=True,verbose=False):\n",
    "\n",
    "    #Define the epoch size based on the length of the data, batch size and the number of steps\n",
    "    epoch_size = ((len(data) // m.batch_size) - 1) // m.num_steps\n",
    "    start_time = time.time()\n",
    "    costs = 0.\n",
    "    iters = 0\n",
    "    \n",
    "    m._model.reset_states()\n",
    "    \n",
    "    #For each step and data point\n",
    "    for step, (x, y) in enumerate(ptb_iterator(data, m.batch_size, m.num_steps)):\n",
    "        \n",
    "        #Evaluate and return cost, state by running cost, final_state and the function passed as parameter\n",
    "        #y = tf.keras.utils.to_categorical(y, num_classes=vocab_size)\n",
    "        if is_training : \n",
    "            loss=  m.train_batch(x, y)\n",
    "        else :\n",
    "            loss = m.test_batch(x, y)\n",
    "                                   \n",
    "\n",
    "        #Add returned cost to costs (which keeps track of the total costs for this epoch)\n",
    "        costs += loss\n",
    "        \n",
    "        #Add number of steps to iteration counter\n",
    "        iters += m.num_steps\n",
    "\n",
    "        if verbose and step % (epoch_size // 10) == 10:\n",
    "            print(\"Itr %d of %d, perplexity: %.3f speed: %.0f wps\" % (step , epoch_size, np.exp(costs / iters), iters * m.batch_size / (time.time() - start_time)))\n",
    "        \n",
    "\n",
    "\n",
    "    # Returns the Perplexity rating for us to keep track of how the model is evolving\n",
    "    return np.exp(costs / iters)\n"
   ]
  },
  {
   "cell_type": "markdown",
   "metadata": {},
   "source": [
    "Now, we create the <code>main</code> method to tie everything together. The code here reads the data from the directory, using the <code>reader</code> helper module, and then trains and evaluates the model on both a testing and a validating subset of data.\n"
   ]
  },
  {
   "cell_type": "code",
   "execution_count": 52,
   "metadata": {},
   "outputs": [],
   "source": [
    "# Reads the data and separates it into training data, validation data and testing data\n",
    "raw_data = ptb_raw_data(data_dir)\n",
    "train_data, valid_data, test_data, _, _ = raw_data"
   ]
  },
  {
   "cell_type": "code",
   "execution_count": null,
   "metadata": {},
   "outputs": [
    {
     "name": "stdout",
     "output_type": "stream",
     "text": [
      "Model: \"sequential_1\"\n",
      "_________________________________________________________________\n",
      "Layer (type)                 Output Shape              Param #   \n",
      "=================================================================\n",
      "embedding_vocab (Embedding)  (30, 20, 200)             2000000   \n",
      "_________________________________________________________________\n",
      "rnn_1 (RNN)                  (30, 20, 128)             671088    \n",
      "_________________________________________________________________\n",
      "dense_1 (Dense)              (30, 20, 10000)           1290000   \n",
      "_________________________________________________________________\n",
      "activation_1 (Activation)    (30, 20, 10000)           0         \n",
      "=================================================================\n",
      "Total params: 3,961,088\n",
      "Trainable params: 3,955,088\n",
      "Non-trainable params: 6,000\n",
      "_________________________________________________________________\n",
      "Epoch 1 : Learning rate: 1.000\n",
      "Itr 10 of 1549, perplexity: 4646.327 speed: 475 wps\n",
      "Itr 164 of 1549, perplexity: 1098.964 speed: 499 wps\n",
      "Itr 318 of 1549, perplexity: 850.325 speed: 495 wps\n",
      "Itr 472 of 1549, perplexity: 703.623 speed: 494 wps\n",
      "Itr 626 of 1549, perplexity: 600.246 speed: 496 wps\n",
      "Itr 780 of 1549, perplexity: 532.822 speed: 496 wps\n",
      "Itr 934 of 1549, perplexity: 480.512 speed: 494 wps\n",
      "Itr 1088 of 1549, perplexity: 441.365 speed: 492 wps\n",
      "Itr 1242 of 1549, perplexity: 411.133 speed: 492 wps\n",
      "Itr 1396 of 1549, perplexity: 382.951 speed: 491 wps\n",
      "Epoch 1 : Train Perplexity: 360.668\n",
      "Epoch 1 : Valid Perplexity: 213.231\n",
      "Epoch 2 : Learning rate: 1.000\n",
      "Itr 10 of 1549, perplexity: 238.757 speed: 491 wps\n",
      "Itr 164 of 1549, perplexity: 210.892 speed: 490 wps\n",
      "Itr 318 of 1549, perplexity: 202.366 speed: 488 wps\n",
      "Itr 472 of 1549, perplexity: 193.884 speed: 488 wps\n",
      "Itr 626 of 1549, perplexity: 185.047 speed: 488 wps\n",
      "Itr 780 of 1549, perplexity: 181.172 speed: 489 wps\n",
      "Itr 934 of 1549, perplexity: 177.140 speed: 488 wps\n",
      "Itr 1088 of 1549, perplexity: 173.704 speed: 488 wps\n",
      "Itr 1242 of 1549, perplexity: 171.175 speed: 487 wps\n",
      "Itr 1396 of 1549, perplexity: 167.080 speed: 487 wps\n",
      "Epoch 2 : Train Perplexity: 164.241\n",
      "Epoch 2 : Valid Perplexity: 161.340\n",
      "Epoch 3 : Learning rate: 1.000\n",
      "Itr 10 of 1549, perplexity: 162.731 speed: 454 wps\n",
      "Itr 164 of 1549, perplexity: 146.452 speed: 484 wps\n",
      "Itr 318 of 1549, perplexity: 143.168 speed: 484 wps\n",
      "Itr 472 of 1549, perplexity: 138.659 speed: 485 wps\n",
      "Itr 626 of 1549, perplexity: 133.510 speed: 485 wps\n",
      "Itr 780 of 1549, perplexity: 132.218 speed: 486 wps\n",
      "Itr 934 of 1549, perplexity: 130.489 speed: 487 wps\n",
      "Itr 1088 of 1549, perplexity: 128.941 speed: 488 wps\n",
      "Itr 1242 of 1549, perplexity: 128.096 speed: 488 wps\n",
      "Itr 1396 of 1549, perplexity: 125.773 speed: 488 wps\n",
      "Epoch 3 : Train Perplexity: 124.488\n",
      "Epoch 3 : Valid Perplexity: 143.133\n",
      "Epoch 4 : Learning rate: 1.000\n",
      "Itr 10 of 1549, perplexity: 130.129 speed: 479 wps\n",
      "Itr 164 of 1549, perplexity: 118.924 speed: 481 wps\n",
      "Itr 318 of 1549, perplexity: 117.341 speed: 483 wps\n",
      "Itr 472 of 1549, perplexity: 113.995 speed: 484 wps\n",
      "Itr 626 of 1549, perplexity: 110.146 speed: 485 wps\n",
      "Itr 780 of 1549, perplexity: 109.543 speed: 486 wps\n",
      "Itr 934 of 1549, perplexity: 108.475 speed: 487 wps\n",
      "Itr 1088 of 1549, perplexity: 107.551 speed: 487 wps\n",
      "Itr 1242 of 1549, perplexity: 107.214 speed: 487 wps\n",
      "Itr 1396 of 1549, perplexity: 105.580 speed: 488 wps\n",
      "Epoch 4 : Train Perplexity: 104.773\n",
      "Epoch 4 : Valid Perplexity: 136.375\n",
      "Epoch 5 : Learning rate: 1.000\n",
      "Itr 10 of 1549, perplexity: 112.370 speed: 504 wps\n",
      "Itr 164 of 1549, perplexity: 103.678 speed: 501 wps\n",
      "Itr 318 of 1549, perplexity: 102.505 speed: 499 wps\n",
      "Itr 472 of 1549, perplexity: 99.585 speed: 498 wps\n",
      "Itr 626 of 1549, perplexity: 96.361 speed: 496 wps\n",
      "Itr 780 of 1549, perplexity: 96.061 speed: 494 wps\n",
      "Itr 934 of 1549, perplexity: 95.368 speed: 492 wps\n",
      "Itr 1088 of 1549, perplexity: 94.699 speed: 491 wps\n",
      "Itr 1242 of 1549, perplexity: 94.553 speed: 490 wps\n",
      "Itr 1396 of 1549, perplexity: 93.250 speed: 489 wps\n",
      "Epoch 5 : Train Perplexity: 92.667\n",
      "Epoch 5 : Valid Perplexity: 131.424\n",
      "Epoch 6 : Learning rate: 0.500\n",
      "Itr 10 of 1549, perplexity: 98.567 speed: 444 wps\n",
      "Itr 164 of 1549, perplexity: 90.204 speed: 490 wps\n",
      "Itr 318 of 1549, perplexity: 87.951 speed: 489 wps\n",
      "Itr 472 of 1549, perplexity: 84.492 speed: 489 wps\n",
      "Itr 626 of 1549, perplexity: 80.888 speed: 489 wps\n",
      "Itr 780 of 1549, perplexity: 79.995 speed: 489 wps\n",
      "Itr 934 of 1549, perplexity: 78.844 speed: 488 wps\n",
      "Itr 1088 of 1549, perplexity: 77.734 speed: 487 wps\n",
      "Itr 1242 of 1549, perplexity: 77.052 speed: 486 wps\n",
      "Itr 1396 of 1549, perplexity: 75.438 speed: 486 wps\n",
      "Epoch 6 : Train Perplexity: 74.431\n",
      "Epoch 6 : Valid Perplexity: 123.899\n",
      "Epoch 7 : Learning rate: 0.250\n",
      "Itr 10 of 1549, perplexity: 83.218 speed: 486 wps\n"
     ]
    }
   ],
   "source": [
    "# Instantiates the PTBModel class\n",
    "m=PTBModel.instance()   \n",
    "K = tf.keras.backend \n",
    "for i in range(max_epoch):\n",
    "    # Define the decay for this epoch\n",
    "    lr_decay = decay ** max(i - max_epoch_decay_lr, 0.0)\n",
    "    dcr = learning_rate * lr_decay\n",
    "    m._lr = dcr\n",
    "    K.set_value(m._model.optimizer.learning_rate,m._lr)\n",
    "    print(\"Epoch %d : Learning rate: %.3f\" % (i + 1, m._model.optimizer.learning_rate))\n",
    "    # Run the loop for this epoch in the training mode\n",
    "    train_perplexity = run_one_epoch(m, train_data,is_training=True,verbose=True)\n",
    "    print(\"Epoch %d : Train Perplexity: %.3f\" % (i + 1, train_perplexity))\n",
    "        \n",
    "    # Run the loop for this epoch in the validation mode\n",
    "    valid_perplexity = run_one_epoch(m, valid_data,is_training=False,verbose=False)\n",
    "    print(\"Epoch %d : Valid Perplexity: %.3f\" % (i + 1, valid_perplexity))\n",
    "    \n",
    "# Run the loop in the testing mode to see how effective was our training\n",
    "test_perplexity = run_one_epoch(m, test_data,is_training=False,verbose=False)\n",
    "print(\"Test Perplexity: %.3f\" % test_perplexity)\n",
    "\n"
   ]
  },
  {
   "cell_type": "markdown",
   "metadata": {},
   "source": [
    "As you can see, the model's perplexity rating drops very quickly after a few iterations. As was elaborated before, <b>lower Perplexity means that the model is more certain about its prediction</b>. As such, we can be sure that this model is performing well!\n"
   ]
  },
  {
   "cell_type": "markdown",
   "metadata": {},
   "source": [
    "-------\n"
   ]
  },
  {
   "cell_type": "markdown",
   "metadata": {},
   "source": [
    "This is the end of the <b>Applying Recurrent Neural Networks to Text Processing</b> notebook. Hopefully you now have a better understanding of Recurrent Neural Networks and how to implement one utilizing TensorFlow. Thank you for reading this notebook, and good luck on your studies.\n"
   ]
  },
  {
   "cell_type": "markdown",
   "metadata": {},
   "source": [
    "## Want to learn more?\n",
    "\n",
    "Also, you can use __Watson Studio__ to run these notebooks faster with bigger datasets.__Watson Studio__ is IBM’s leading cloud solution for data scientists, built by data scientists. With Jupyter notebooks, RStudio, Apache Spark and popular libraries pre-packaged in the cloud, __Watson Studio__ enables data scientists to collaborate on their projects without having to install anything. Join the fast-growing community of __Watson Studio__ users today with a free account at [Watson Studio](https://cocl.us/ML0120EN_DSX).This is the end of this lesson. Thank you for reading this notebook, and good luck on your studies.\n"
   ]
  },
  {
   "cell_type": "markdown",
   "metadata": {},
   "source": [
    "### Thanks for completing this lesson!\n",
    "\n",
    "Notebook created by <a href=\"https://br.linkedin.com/in/walter-gomes-de-amorim-junior-624726121?utm_medium=Exinfluencer&utm_source=Exinfluencer&utm_content=000026UJ&utm_term=10006555&utm_id=NA-SkillsNetwork-Channel-SkillsNetworkCoursesIBMDeveloperSkillsNetworkDL0120ENSkillsNetwork954-2022-01-01\">Walter Gomes de Amorim Junior</a>, <a href = \"https://linkedin.com/in/saeedaghabozorgi?utm_medium=Exinfluencer&utm_source=Exinfluencer&utm_content=000026UJ&utm_term=10006555&utm_id=NA-SkillsNetwork-Channel-SkillsNetworkCoursesIBMDeveloperSkillsNetworkDL0120ENSkillsNetwork954-2022-01-01\"> Saeed Aghabozorgi </a></h4>\n",
    "\n",
    "\n",
    "Updated to TF 2.X by  <a href=\"https://www.linkedin.com/in/samaya-madhavan?utm_medium=Exinfluencer&utm_source=Exinfluencer&utm_content=000026UJ&utm_term=10006555&utm_id=NA-SkillsNetwork-Channel-SkillsNetworkCoursesIBMDeveloperSkillsNetworkDL0120ENSkillsNetwork954-2022-01-01\"> Samaya Madhavan </a>\n"
   ]
  },
  {
   "cell_type": "markdown",
   "metadata": {},
   "source": [
    "<hr>\n",
    "\n",
    "Copyright &copy; 2018 [Cognitive Class](https://cocl.us/DX0108EN_CC). This notebook and its source code are released under the terms of the [MIT License](https://bigdatauniversity.com/mit-license/?utm_medium=Exinfluencer&utm_source=Exinfluencer&utm_content=000026UJ&utm_term=10006555&utm_id=NA-SkillsNetwork-Channel-SkillsNetworkCoursesIBMDeveloperSkillsNetworkDL0120ENSkillsNetwork954-2022-01-01).\n"
   ]
  }
 ],
 "metadata": {
  "kernelspec": {
   "display_name": "Python",
   "language": "python",
   "name": "conda-env-python-py"
  },
  "language_info": {
   "codemirror_mode": {
    "name": "ipython",
    "version": 3
   },
   "file_extension": ".py",
   "mimetype": "text/x-python",
   "name": "python",
   "nbconvert_exporter": "python",
   "pygments_lexer": "ipython3",
   "version": "3.7.12"
  }
 },
 "nbformat": 4,
 "nbformat_minor": 4
}
